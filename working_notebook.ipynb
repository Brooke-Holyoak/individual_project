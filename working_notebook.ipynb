{
 "cells": [
  {
   "cell_type": "code",
   "execution_count": 6,
   "id": "2a019e67-adaa-428a-a15a-9dbdf5bf6baa",
   "metadata": {},
   "outputs": [],
   "source": [
    "import pandas as pd\n",
    "import numpy as np\n",
    "import os\n",
    "\n"
   ]
  },
  {
   "cell_type": "code",
   "execution_count": 7,
   "id": "c5ba1be7-fa71-46de-926c-cdf9c82a6d4a",
   "metadata": {},
   "outputs": [],
   "source": [
    "#emotify_df = pd.read_csv('emotify.csv')\n",
    "#key_df = pd.read_csv('AudioKeychain_export.csv')"
   ]
  },
  {
   "cell_type": "code",
   "execution_count": 8,
   "id": "1fb8aaec-c5c6-4b47-ae31-9f618b5e1652",
   "metadata": {},
   "outputs": [],
   "source": [
    "#emotify_df.head(1)"
   ]
  },
  {
   "cell_type": "code",
   "execution_count": 9,
   "id": "0cdd5579-5aa7-46b1-9e15-98816e48eb57",
   "metadata": {},
   "outputs": [],
   "source": [
    "#emotify_df = emotify_df.rename(columns={'track id':'track_id', ' genre': 'genre', ' amazement':'amazement', ' solemnity': 'solemnity', ' tenderness':'tenderness',\n",
    "#       ' nostalgia':'nostalgia', ' calmness':'calmness', ' power':'power', ' joyful_activation':'joyful_activation', ' tension':'tension',\n",
    "#       ' sadness':'sadness', ' mood':'mood', ' liked':'liked', ' disliked':'disliked', ' age':'age', ' gender':'gender',\n",
    "#       ' mother tongue':'mother_tongue'})"
   ]
  },
  {
   "cell_type": "code",
   "execution_count": 10,
   "id": "31666e77-88fa-46fa-b2d1-726db6e69a84",
   "metadata": {},
   "outputs": [],
   "source": [
    "#emotify_df.columns"
   ]
  },
  {
   "cell_type": "code",
   "execution_count": 11,
   "id": "e3c47f65-af0a-423e-b043-ed9c0a4e2f70",
   "metadata": {},
   "outputs": [],
   "source": [
    "#emotify_df['genre_id'] = emotify_df[\"track_id\"].astype(str) + emotify_df[\"genre\"].astype(str).str.lower()"
   ]
  },
  {
   "cell_type": "code",
   "execution_count": 12,
   "id": "1d6a507f-2cff-42cc-b15f-4f32cfabbb03",
   "metadata": {},
   "outputs": [],
   "source": [
    "#key_df = key_df.rename(columns=str.lower)"
   ]
  },
  {
   "cell_type": "code",
   "execution_count": 13,
   "id": "b51c2bc6-1725-4b6b-bbfa-a9a7ba6e7a98",
   "metadata": {},
   "outputs": [],
   "source": [
    "#key_df.info()"
   ]
  },
  {
   "cell_type": "code",
   "execution_count": 14,
   "id": "92eef73c-4b9d-4785-8841-d24df2f5caca",
   "metadata": {},
   "outputs": [],
   "source": [
    "#key_df.head(1)"
   ]
  },
  {
   "cell_type": "code",
   "execution_count": 15,
   "id": "280f9c08-e04c-475e-ab26-6e0569f19f55",
   "metadata": {},
   "outputs": [],
   "source": [
    "#key_df['genre_id'] = key_df[\"filename\"].astype(str) + key_df[\"genre\"].astype(str).str.lower()"
   ]
  },
  {
   "cell_type": "code",
   "execution_count": 16,
   "id": "2cc56ac2-20ab-4838-95ff-52820e20793e",
   "metadata": {},
   "outputs": [],
   "source": [
    "#key_df.genre_id"
   ]
  },
  {
   "cell_type": "code",
   "execution_count": 17,
   "id": "74375150-d576-4ec1-abc2-693ff9f6901a",
   "metadata": {},
   "outputs": [],
   "source": [
    "#emotify_df.head(1)"
   ]
  },
  {
   "cell_type": "code",
   "execution_count": 18,
   "id": "92feabb1-5f24-45ea-b080-66d4f26a6700",
   "metadata": {},
   "outputs": [],
   "source": [
    "#emotify_plus_df = pd.merge(emotify_df, key_df, left_on='track_id', right_on='track', how='left')"
   ]
  },
  {
   "cell_type": "code",
   "execution_count": 19,
   "id": "849c58f4-ce40-46e5-95d0-4ed7b2890417",
   "metadata": {},
   "outputs": [],
   "source": [
    "#emotify_plus_df.info()"
   ]
  },
  {
   "cell_type": "code",
   "execution_count": 26,
   "id": "233ec8e9-7758-4803-80fc-650feafd8867",
   "metadata": {},
   "outputs": [],
   "source": [
    "def new_data():\n",
    "    '''\n",
    "    This function takes in 2 seperate csv files\n",
    "    and merges them together\n",
    "    then returns a merged pandas dataframe with that data\n",
    "    '''\n",
    "    emotify_df = pd.read_csv('emotify.csv')\n",
    "    key_df = pd.read_csv('AudioKeychain_export.csv')\n",
    "    emotify_df = emotify_df.rename(columns={'track id':'track_id', ' genre': 'genre', ' amazement':'amazement', ' solemnity': 'solemnity', ' tenderness':'tenderness',\n",
    "       ' nostalgia':'nostalgia', ' calmness':'calmness', ' power':'power', ' joyful_activation':'joyful_activation', ' tension':'tension',\n",
    "       ' sadness':'sadness', ' mood':'mood', ' liked':'liked', ' disliked':'disliked', ' age':'age', ' gender':'gender',\n",
    "       ' mother tongue':'mother_tongue'})\n",
    "    key_df = key_df.rename(columns=str.lower)\n",
    "    emotify_plus_df = pd.merge(emotify_df, key_df, left_on='track_id', right_on='track', how='left')\n",
    "    emotify_plus_df = emotify_plus_df.drop(columns=['track', 'genre_y', 'filename', 'mother_tongue', 'year', 'title'])\n",
    "    \n",
    "    \n",
    "    return emotify_plus_df"
   ]
  },
  {
   "cell_type": "code",
   "execution_count": 27,
   "id": "75a106ce-1e51-49d9-85f7-d2754be18692",
   "metadata": {},
   "outputs": [],
   "source": [
    "emotify_plus_df = new_data()"
   ]
  },
  {
   "cell_type": "code",
   "execution_count": 31,
   "id": "8c35fafd-c0c2-484a-b30a-165232c4e28a",
   "metadata": {},
   "outputs": [],
   "source": [
    "df = emotify_plus_df"
   ]
  },
  {
   "cell_type": "code",
   "execution_count": 32,
   "id": "9f4d66d9-20e3-460f-8481-d4956d4c2236",
   "metadata": {},
   "outputs": [
    {
     "data": {
      "text/html": [
       "<div>\n",
       "<style scoped>\n",
       "    .dataframe tbody tr th:only-of-type {\n",
       "        vertical-align: middle;\n",
       "    }\n",
       "\n",
       "    .dataframe tbody tr th {\n",
       "        vertical-align: top;\n",
       "    }\n",
       "\n",
       "    .dataframe thead th {\n",
       "        text-align: right;\n",
       "    }\n",
       "</style>\n",
       "<table border=\"1\" class=\"dataframe\">\n",
       "  <thead>\n",
       "    <tr style=\"text-align: right;\">\n",
       "      <th></th>\n",
       "      <th>0</th>\n",
       "    </tr>\n",
       "  </thead>\n",
       "  <tbody>\n",
       "    <tr>\n",
       "      <th>track_id</th>\n",
       "      <td>1</td>\n",
       "    </tr>\n",
       "    <tr>\n",
       "      <th>genre_x</th>\n",
       "      <td>classical</td>\n",
       "    </tr>\n",
       "    <tr>\n",
       "      <th>amazement</th>\n",
       "      <td>0</td>\n",
       "    </tr>\n",
       "    <tr>\n",
       "      <th>solemnity</th>\n",
       "      <td>1</td>\n",
       "    </tr>\n",
       "    <tr>\n",
       "      <th>tenderness</th>\n",
       "      <td>0</td>\n",
       "    </tr>\n",
       "    <tr>\n",
       "      <th>nostalgia</th>\n",
       "      <td>0</td>\n",
       "    </tr>\n",
       "    <tr>\n",
       "      <th>calmness</th>\n",
       "      <td>0</td>\n",
       "    </tr>\n",
       "    <tr>\n",
       "      <th>power</th>\n",
       "      <td>0</td>\n",
       "    </tr>\n",
       "    <tr>\n",
       "      <th>joyful_activation</th>\n",
       "      <td>1</td>\n",
       "    </tr>\n",
       "    <tr>\n",
       "      <th>tension</th>\n",
       "      <td>1</td>\n",
       "    </tr>\n",
       "    <tr>\n",
       "      <th>sadness</th>\n",
       "      <td>0</td>\n",
       "    </tr>\n",
       "    <tr>\n",
       "      <th>mood</th>\n",
       "      <td>3</td>\n",
       "    </tr>\n",
       "    <tr>\n",
       "      <th>liked</th>\n",
       "      <td>1</td>\n",
       "    </tr>\n",
       "    <tr>\n",
       "      <th>disliked</th>\n",
       "      <td>0</td>\n",
       "    </tr>\n",
       "    <tr>\n",
       "      <th>age</th>\n",
       "      <td>21</td>\n",
       "    </tr>\n",
       "    <tr>\n",
       "      <th>gender</th>\n",
       "      <td>1</td>\n",
       "    </tr>\n",
       "    <tr>\n",
       "      <th>key</th>\n",
       "      <td>Dbm</td>\n",
       "    </tr>\n",
       "    <tr>\n",
       "      <th>bpm</th>\n",
       "      <td>100.25</td>\n",
       "    </tr>\n",
       "  </tbody>\n",
       "</table>\n",
       "</div>"
      ],
      "text/plain": [
       "                           0\n",
       "track_id                   1\n",
       "genre_x            classical\n",
       "amazement                  0\n",
       "solemnity                  1\n",
       "tenderness                 0\n",
       "nostalgia                  0\n",
       "calmness                   0\n",
       "power                      0\n",
       "joyful_activation          1\n",
       "tension                    1\n",
       "sadness                    0\n",
       "mood                       3\n",
       "liked                      1\n",
       "disliked                   0\n",
       "age                       21\n",
       "gender                     1\n",
       "key                      Dbm\n",
       "bpm                   100.25"
      ]
     },
     "execution_count": 32,
     "metadata": {},
     "output_type": "execute_result"
    }
   ],
   "source": [
    "df.head(1).T"
   ]
  },
  {
   "cell_type": "code",
   "execution_count": 33,
   "id": "247ab061-d8f4-40c2-ba58-6cf821013512",
   "metadata": {},
   "outputs": [
    {
     "data": {
      "text/plain": [
       "track_id               135\n",
       "genre_x               rock\n",
       "amazement                0\n",
       "solemnity                0\n",
       "tenderness               0\n",
       "nostalgia                0\n",
       "calmness                 0\n",
       "power                    1\n",
       "joyful_activation        1\n",
       "tension                  1\n",
       "sadness                  0\n",
       "mood                     3\n",
       "liked                    0\n",
       "disliked                 1\n",
       "age                     38\n",
       "gender                   0\n",
       "key                     Eb\n",
       "bpm                  172.5\n",
       "Name: 3800, dtype: object"
      ]
     },
     "execution_count": 33,
     "metadata": {},
     "output_type": "execute_result"
    }
   ],
   "source": [
    "df.loc[3800]"
   ]
  },
  {
   "cell_type": "code",
   "execution_count": 36,
   "id": "0a361077-1420-4819-b3b7-e40109f3c903",
   "metadata": {},
   "outputs": [
    {
     "data": {
      "text/plain": [
       "classical     2688\n",
       "rock          2038\n",
       "pop           1855\n",
       "electronic    1826\n",
       "Name: genre_x, dtype: int64"
      ]
     },
     "execution_count": 36,
     "metadata": {},
     "output_type": "execute_result"
    }
   ],
   "source": [
    "df.genre_x.value_counts()"
   ]
  },
  {
   "cell_type": "code",
   "execution_count": 37,
   "id": "9a0f7553-6d34-44f6-a9e5-6dcecfd4a203",
   "metadata": {},
   "outputs": [
    {
     "data": {
      "text/plain": [
       "4    3239\n",
       "3    2776\n",
       "5    1216\n",
       "2     833\n",
       "1     343\n",
       "Name: mood, dtype: int64"
      ]
     },
     "execution_count": 37,
     "metadata": {},
     "output_type": "execute_result"
    }
   ],
   "source": [
    "df.mood.value_counts()"
   ]
  },
  {
   "cell_type": "code",
   "execution_count": 34,
   "id": "8ea38c9c-faae-400d-97d3-a8a08d320e54",
   "metadata": {},
   "outputs": [
    {
     "data": {
      "text/plain": [
       "Am     808\n",
       "G      575\n",
       "C      557\n",
       "Gm     535\n",
       "D      534\n",
       "A      475\n",
       "Bm     456\n",
       "B      428\n",
       "F      408\n",
       "Em     369\n",
       "Abm    338\n",
       "Fm     337\n",
       "Dbm    330\n",
       "Dm     322\n",
       "E      303\n",
       "Ebm    299\n",
       "Cm     271\n",
       "Gb     262\n",
       "Bbm    234\n",
       "Gbm    222\n",
       "Ab     133\n",
       "Db     120\n",
       "Eb      91\n",
       "Name: key, dtype: int64"
      ]
     },
     "execution_count": 34,
     "metadata": {},
     "output_type": "execute_result"
    }
   ],
   "source": [
    "df.key.value_counts()"
   ]
  },
  {
   "cell_type": "code",
   "execution_count": null,
   "id": "442534f0-d432-400a-a06c-91e1be73e424",
   "metadata": {},
   "outputs": [],
   "source": [
    "df."
   ]
  }
 ],
 "metadata": {
  "kernelspec": {
   "display_name": "Python 3",
   "language": "python",
   "name": "python3"
  },
  "language_info": {
   "codemirror_mode": {
    "name": "ipython",
    "version": 3
   },
   "file_extension": ".py",
   "mimetype": "text/x-python",
   "name": "python",
   "nbconvert_exporter": "python",
   "pygments_lexer": "ipython3",
   "version": "3.8.8"
  }
 },
 "nbformat": 4,
 "nbformat_minor": 5
}
