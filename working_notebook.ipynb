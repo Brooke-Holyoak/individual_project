{
 "cells": [
  {
   "cell_type": "code",
   "execution_count": 39,
   "id": "2a019e67-adaa-428a-a15a-9dbdf5bf6baa",
   "metadata": {},
   "outputs": [],
   "source": [
    "import pandas as pd\n",
    "import numpy as np\n",
    "import os\n",
    "import matplotlib.pyplot as plt\n",
    "import seaborn as sns\n",
    "\n",
    "# no yelling in the library\n",
    "import warnings\n",
    "warnings.filterwarnings(\"ignore\")\n",
    "\n",
    "from sklearn.metrics import mean_squared_error\n",
    "from sklearn.model_selection import train_test_split\n",
    "from math import sqrt\n",
    "import scipy.stats as stats\n",
    "\n",
    "import explore\n",
    "import acquire"
   ]
  },
  {
   "cell_type": "code",
   "execution_count": 7,
   "id": "c5ba1be7-fa71-46de-926c-cdf9c82a6d4a",
   "metadata": {},
   "outputs": [],
   "source": [
    "#emotify_df = pd.read_csv('emotify.csv')\n",
    "#key_df = pd.read_csv('AudioKeychain_export.csv')"
   ]
  },
  {
   "cell_type": "code",
   "execution_count": 8,
   "id": "1fb8aaec-c5c6-4b47-ae31-9f618b5e1652",
   "metadata": {},
   "outputs": [],
   "source": [
    "#emotify_df.head(1)"
   ]
  },
  {
   "cell_type": "code",
   "execution_count": 9,
   "id": "0cdd5579-5aa7-46b1-9e15-98816e48eb57",
   "metadata": {},
   "outputs": [],
   "source": [
    "#emotify_df = emotify_df.rename(columns={'track id':'track_id', ' genre': 'genre', ' amazement':'amazement', ' solemnity': 'solemnity', ' tenderness':'tenderness',\n",
    "#       ' nostalgia':'nostalgia', ' calmness':'calmness', ' power':'power', ' joyful_activation':'joyful_activation', ' tension':'tension',\n",
    "#       ' sadness':'sadness', ' mood':'mood', ' liked':'liked', ' disliked':'disliked', ' age':'age', ' gender':'gender',\n",
    "#       ' mother tongue':'mother_tongue'})"
   ]
  },
  {
   "cell_type": "code",
   "execution_count": 10,
   "id": "31666e77-88fa-46fa-b2d1-726db6e69a84",
   "metadata": {},
   "outputs": [],
   "source": [
    "#emotify_df.columns"
   ]
  },
  {
   "cell_type": "code",
   "execution_count": 11,
   "id": "e3c47f65-af0a-423e-b043-ed9c0a4e2f70",
   "metadata": {},
   "outputs": [],
   "source": [
    "#emotify_df['genre_id'] = emotify_df[\"track_id\"].astype(str) + emotify_df[\"genre\"].astype(str).str.lower()"
   ]
  },
  {
   "cell_type": "code",
   "execution_count": 12,
   "id": "1d6a507f-2cff-42cc-b15f-4f32cfabbb03",
   "metadata": {},
   "outputs": [],
   "source": [
    "#key_df = key_df.rename(columns=str.lower)"
   ]
  },
  {
   "cell_type": "code",
   "execution_count": 13,
   "id": "b51c2bc6-1725-4b6b-bbfa-a9a7ba6e7a98",
   "metadata": {},
   "outputs": [],
   "source": [
    "#key_df.info()"
   ]
  },
  {
   "cell_type": "code",
   "execution_count": 14,
   "id": "92eef73c-4b9d-4785-8841-d24df2f5caca",
   "metadata": {},
   "outputs": [],
   "source": [
    "#key_df.head(1)"
   ]
  },
  {
   "cell_type": "code",
   "execution_count": 15,
   "id": "280f9c08-e04c-475e-ab26-6e0569f19f55",
   "metadata": {},
   "outputs": [],
   "source": [
    "#key_df['genre_id'] = key_df[\"filename\"].astype(str) + key_df[\"genre\"].astype(str).str.lower()"
   ]
  },
  {
   "cell_type": "code",
   "execution_count": 16,
   "id": "2cc56ac2-20ab-4838-95ff-52820e20793e",
   "metadata": {},
   "outputs": [],
   "source": [
    "#key_df.genre_id"
   ]
  },
  {
   "cell_type": "code",
   "execution_count": 17,
   "id": "74375150-d576-4ec1-abc2-693ff9f6901a",
   "metadata": {},
   "outputs": [],
   "source": [
    "#emotify_df.head(1)"
   ]
  },
  {
   "cell_type": "code",
   "execution_count": 18,
   "id": "92feabb1-5f24-45ea-b080-66d4f26a6700",
   "metadata": {},
   "outputs": [],
   "source": [
    "#emotify_plus_df = pd.merge(emotify_df, key_df, left_on='track_id', right_on='track', how='left')"
   ]
  },
  {
   "cell_type": "code",
   "execution_count": 19,
   "id": "849c58f4-ce40-46e5-95d0-4ed7b2890417",
   "metadata": {},
   "outputs": [],
   "source": [
    "#emotify_plus_df.info()"
   ]
  },
  {
   "cell_type": "code",
   "execution_count": 40,
   "id": "233ec8e9-7758-4803-80fc-650feafd8867",
   "metadata": {},
   "outputs": [],
   "source": [
    "def new_data():\n",
    "    '''\n",
    "    This function takes in 2 seperate csv files\n",
    "    and merges them together\n",
    "    then returns a merged pandas dataframe with that data\n",
    "    '''\n",
    "    emotify_df = pd.read_csv('emotify.csv')\n",
    "    key_df = pd.read_csv('AudioKeychain_export.csv')\n",
    "    emotify_df = emotify_df.rename(columns={'track id':'track_id', ' genre': 'genre', ' amazement':'amazement', ' solemnity': 'solemnity', ' tenderness':'tenderness',\n",
    "       ' nostalgia':'nostalgia', ' calmness':'calmness', ' power':'power', ' joyful_activation':'joyful_activation', ' tension':'tension',\n",
    "       ' sadness':'sadness', ' mood':'mood', ' liked':'liked', ' disliked':'disliked', ' age':'age', ' gender':'gender',\n",
    "       ' mother tongue':'mother_tongue'})\n",
    "    key_df = key_df.rename(columns=str.lower)\n",
    "    emotify_plus_df = pd.merge(emotify_df, key_df, left_on='track_id', right_on='track', how='left')\n",
    "    emotify_plus_df = emotify_plus_df.drop(columns=['track', 'genre_y', 'filename', 'mother_tongue', 'year', 'title'])\n",
    "    \n",
    "    \n",
    "    return emotify_plus_df"
   ]
  },
  {
   "cell_type": "code",
   "execution_count": 41,
   "id": "75a106ce-1e51-49d9-85f7-d2754be18692",
   "metadata": {},
   "outputs": [],
   "source": [
    "emotify_plus_df = new_data()"
   ]
  },
  {
   "cell_type": "code",
   "execution_count": 42,
   "id": "8c35fafd-c0c2-484a-b30a-165232c4e28a",
   "metadata": {},
   "outputs": [],
   "source": [
    "df = emotify_plus_df"
   ]
  },
  {
   "cell_type": "code",
   "execution_count": 43,
   "id": "9f4d66d9-20e3-460f-8481-d4956d4c2236",
   "metadata": {},
   "outputs": [
    {
     "data": {
      "text/html": [
       "<div>\n",
       "<style scoped>\n",
       "    .dataframe tbody tr th:only-of-type {\n",
       "        vertical-align: middle;\n",
       "    }\n",
       "\n",
       "    .dataframe tbody tr th {\n",
       "        vertical-align: top;\n",
       "    }\n",
       "\n",
       "    .dataframe thead th {\n",
       "        text-align: right;\n",
       "    }\n",
       "</style>\n",
       "<table border=\"1\" class=\"dataframe\">\n",
       "  <thead>\n",
       "    <tr style=\"text-align: right;\">\n",
       "      <th></th>\n",
       "      <th>0</th>\n",
       "    </tr>\n",
       "  </thead>\n",
       "  <tbody>\n",
       "    <tr>\n",
       "      <th>track_id</th>\n",
       "      <td>1</td>\n",
       "    </tr>\n",
       "    <tr>\n",
       "      <th>genre_x</th>\n",
       "      <td>classical</td>\n",
       "    </tr>\n",
       "    <tr>\n",
       "      <th>amazement</th>\n",
       "      <td>0</td>\n",
       "    </tr>\n",
       "    <tr>\n",
       "      <th>solemnity</th>\n",
       "      <td>1</td>\n",
       "    </tr>\n",
       "    <tr>\n",
       "      <th>tenderness</th>\n",
       "      <td>0</td>\n",
       "    </tr>\n",
       "    <tr>\n",
       "      <th>nostalgia</th>\n",
       "      <td>0</td>\n",
       "    </tr>\n",
       "    <tr>\n",
       "      <th>calmness</th>\n",
       "      <td>0</td>\n",
       "    </tr>\n",
       "    <tr>\n",
       "      <th>power</th>\n",
       "      <td>0</td>\n",
       "    </tr>\n",
       "    <tr>\n",
       "      <th>joyful_activation</th>\n",
       "      <td>1</td>\n",
       "    </tr>\n",
       "    <tr>\n",
       "      <th>tension</th>\n",
       "      <td>1</td>\n",
       "    </tr>\n",
       "    <tr>\n",
       "      <th>sadness</th>\n",
       "      <td>0</td>\n",
       "    </tr>\n",
       "    <tr>\n",
       "      <th>mood</th>\n",
       "      <td>3</td>\n",
       "    </tr>\n",
       "    <tr>\n",
       "      <th>liked</th>\n",
       "      <td>1</td>\n",
       "    </tr>\n",
       "    <tr>\n",
       "      <th>disliked</th>\n",
       "      <td>0</td>\n",
       "    </tr>\n",
       "    <tr>\n",
       "      <th>age</th>\n",
       "      <td>21</td>\n",
       "    </tr>\n",
       "    <tr>\n",
       "      <th>gender</th>\n",
       "      <td>1</td>\n",
       "    </tr>\n",
       "    <tr>\n",
       "      <th>key</th>\n",
       "      <td>Dbm</td>\n",
       "    </tr>\n",
       "    <tr>\n",
       "      <th>bpm</th>\n",
       "      <td>100.25</td>\n",
       "    </tr>\n",
       "  </tbody>\n",
       "</table>\n",
       "</div>"
      ],
      "text/plain": [
       "                           0\n",
       "track_id                   1\n",
       "genre_x            classical\n",
       "amazement                  0\n",
       "solemnity                  1\n",
       "tenderness                 0\n",
       "nostalgia                  0\n",
       "calmness                   0\n",
       "power                      0\n",
       "joyful_activation          1\n",
       "tension                    1\n",
       "sadness                    0\n",
       "mood                       3\n",
       "liked                      1\n",
       "disliked                   0\n",
       "age                       21\n",
       "gender                     1\n",
       "key                      Dbm\n",
       "bpm                   100.25"
      ]
     },
     "execution_count": 43,
     "metadata": {},
     "output_type": "execute_result"
    }
   ],
   "source": [
    "df.head(1).T"
   ]
  },
  {
   "cell_type": "code",
   "execution_count": 44,
   "id": "247ab061-d8f4-40c2-ba58-6cf821013512",
   "metadata": {},
   "outputs": [
    {
     "data": {
      "text/plain": [
       "track_id               135\n",
       "genre_x               rock\n",
       "amazement                0\n",
       "solemnity                0\n",
       "tenderness               0\n",
       "nostalgia                0\n",
       "calmness                 0\n",
       "power                    1\n",
       "joyful_activation        1\n",
       "tension                  1\n",
       "sadness                  0\n",
       "mood                     3\n",
       "liked                    0\n",
       "disliked                 1\n",
       "age                     38\n",
       "gender                   0\n",
       "key                     Eb\n",
       "bpm                  172.5\n",
       "Name: 3800, dtype: object"
      ]
     },
     "execution_count": 44,
     "metadata": {},
     "output_type": "execute_result"
    }
   ],
   "source": [
    "df.loc[3800]"
   ]
  },
  {
   "cell_type": "code",
   "execution_count": 45,
   "id": "0a361077-1420-4819-b3b7-e40109f3c903",
   "metadata": {},
   "outputs": [
    {
     "data": {
      "text/plain": [
       "classical     2688\n",
       "rock          2038\n",
       "pop           1855\n",
       "electronic    1826\n",
       "Name: genre_x, dtype: int64"
      ]
     },
     "execution_count": 45,
     "metadata": {},
     "output_type": "execute_result"
    }
   ],
   "source": [
    "df.genre_x.value_counts()"
   ]
  },
  {
   "cell_type": "code",
   "execution_count": 55,
   "id": "9a0f7553-6d34-44f6-a9e5-6dcecfd4a203",
   "metadata": {},
   "outputs": [
    {
     "data": {
      "text/plain": [
       "4    3239\n",
       "3    2776\n",
       "5    1216\n",
       "2     833\n",
       "1     343\n",
       "Name: mood, dtype: int64"
      ]
     },
     "execution_count": 55,
     "metadata": {},
     "output_type": "execute_result"
    }
   ],
   "source": [
    "df.mood.value_counts()"
   ]
  },
  {
   "cell_type": "code",
   "execution_count": 48,
   "id": "8ea38c9c-faae-400d-97d3-a8a08d320e54",
   "metadata": {},
   "outputs": [
    {
     "data": {
      "text/plain": [
       "Am     808\n",
       "G      575\n",
       "C      557\n",
       "Gm     535\n",
       "D      534\n",
       "A      475\n",
       "Bm     456\n",
       "B      428\n",
       "F      408\n",
       "Em     369\n",
       "Abm    338\n",
       "Fm     337\n",
       "Dbm    330\n",
       "Dm     322\n",
       "E      303\n",
       "Ebm    299\n",
       "Cm     271\n",
       "Gb     262\n",
       "Bbm    234\n",
       "Gbm    222\n",
       "Ab     133\n",
       "Db     120\n",
       "Eb      91\n",
       "Name: key, dtype: int64"
      ]
     },
     "execution_count": 48,
     "metadata": {},
     "output_type": "execute_result"
    }
   ],
   "source": [
    "df.key.value_counts()"
   ]
  },
  {
   "cell_type": "code",
   "execution_count": 50,
   "id": "d16d0c6e-5718-4bf1-9a4b-19ac17587877",
   "metadata": {},
   "outputs": [],
   "source": [
    "#rename some of the columns for better readability. Do this inside the new_data function"
   ]
  },
  {
   "cell_type": "code",
   "execution_count": 50,
   "id": "8e0e116e-6cea-4f29-ac82-a0ddf5fbe39d",
   "metadata": {},
   "outputs": [
    {
     "name": "stdout",
     "output_type": "stream",
     "text": [
      "0    5116\n",
      "1    3291\n",
      "Name: liked, dtype: int64\n",
      "0    6650\n",
      "1    1757\n",
      "Name: disliked, dtype: int64\n"
     ]
    }
   ],
   "source": [
    "print(df.liked.value_counts())\n",
    "print(df.disliked.value_counts())"
   ]
  },
  {
   "cell_type": "code",
   "execution_count": 51,
   "id": "80500317-32e1-4c07-81c4-8418d9cdaf99",
   "metadata": {},
   "outputs": [
    {
     "data": {
      "text/plain": [
       "5048"
      ]
     },
     "execution_count": 51,
     "metadata": {},
     "output_type": "execute_result"
    }
   ],
   "source": [
    "3291 + 1757"
   ]
  },
  {
   "cell_type": "code",
   "execution_count": 56,
   "id": "6daaa755-0581-4825-91fc-410d60a1239c",
   "metadata": {},
   "outputs": [],
   "source": [
    "#possible new features:  positive/negative emotions, major/min key, tempo bins, age bins\n",
    "\n",
    "#what is the strongest predictor for INDUCED emotions when listening to unfamiliar music?\n",
    "\n",
    "#my hypothesis is that current mood, key, maj/min and tempo\n",
    "#i also think that slower tempo will equal sadder emotions, moderate=happy, and fast=unease\n",
    "\n",
    "#does genre play a role? \n",
    "#my hypothesis is that classical and electronic will yield similar results\n",
    "#and that rock and pop yield similar results\n",
    "\n",
    "#i'm curious if when mood changes if key, tonality, and tempo still elicit the same induced emotion?\n",
    "\n",
    "#does age play a role?\n",
    "\n",
    "\n",
    "\n"
   ]
  },
  {
   "cell_type": "code",
   "execution_count": 57,
   "id": "6077e4b4-60ce-4bd6-a8c3-930804a88095",
   "metadata": {},
   "outputs": [
    {
     "name": "stdout",
     "output_type": "stream",
     "text": [
      "<class 'pandas.core.frame.DataFrame'>\n",
      "Int64Index: 8407 entries, 0 to 8406\n",
      "Data columns (total 18 columns):\n",
      " #   Column             Non-Null Count  Dtype  \n",
      "---  ------             --------------  -----  \n",
      " 0   track_id           8407 non-null   int64  \n",
      " 1   genre_x            8407 non-null   object \n",
      " 2   amazement          8407 non-null   int64  \n",
      " 3   solemnity          8407 non-null   int64  \n",
      " 4   tenderness         8407 non-null   int64  \n",
      " 5   nostalgia          8407 non-null   int64  \n",
      " 6   calmness           8407 non-null   int64  \n",
      " 7   power              8407 non-null   int64  \n",
      " 8   joyful_activation  8407 non-null   int64  \n",
      " 9   tension            8407 non-null   int64  \n",
      " 10  sadness            8407 non-null   int64  \n",
      " 11  mood               8407 non-null   int64  \n",
      " 12  liked              8407 non-null   int64  \n",
      " 13  disliked           8407 non-null   int64  \n",
      " 14  age                8407 non-null   int64  \n",
      " 15  gender             8407 non-null   int64  \n",
      " 16  key                8407 non-null   object \n",
      " 17  bpm                8407 non-null   float64\n",
      "dtypes: float64(1), int64(15), object(2)\n",
      "memory usage: 1.5+ MB\n"
     ]
    }
   ],
   "source": [
    "df.info()"
   ]
  },
  {
   "cell_type": "code",
   "execution_count": 58,
   "id": "5762a5f7-d1ba-4b17-abed-8ef507c131c2",
   "metadata": {},
   "outputs": [
    {
     "data": {
      "text/plain": [
       "track_id                    16\n",
       "genre_x              classical\n",
       "amazement                    0\n",
       "solemnity                    0\n",
       "tenderness                   0\n",
       "nostalgia                    0\n",
       "calmness                     0\n",
       "power                        0\n",
       "joyful_activation            0\n",
       "tension                      1\n",
       "sadness                      0\n",
       "mood                         4\n",
       "liked                        0\n",
       "disliked                     0\n",
       "age                         26\n",
       "gender                       0\n",
       "key                         Gm\n",
       "bpm                     100.25\n",
       "Name: 700, dtype: object"
      ]
     },
     "execution_count": 58,
     "metadata": {},
     "output_type": "execute_result"
    }
   ],
   "source": [
    "df.loc[700]"
   ]
  },
  {
   "cell_type": "code",
   "execution_count": 60,
   "id": "fcff4edb-931c-47d5-947e-133153741226",
   "metadata": {},
   "outputs": [
    {
     "data": {
      "text/plain": [
       "track_id                     2\n",
       "genre_x              classical\n",
       "amazement                    0\n",
       "solemnity                    0\n",
       "tenderness                   0\n",
       "nostalgia                    0\n",
       "calmness                     1\n",
       "power                        0\n",
       "joyful_activation            0\n",
       "tension                      0\n",
       "sadness                      0\n",
       "mood                         3\n",
       "liked                        1\n",
       "disliked                     0\n",
       "age                         51\n",
       "gender                       0\n",
       "key                          D\n",
       "bpm                       95.5\n",
       "ind_sublime                  1\n",
       "ind_energy                   0\n",
       "ind_unease                   0\n",
       "Name: 90, dtype: object"
      ]
     },
     "execution_count": 60,
     "metadata": {},
     "output_type": "execute_result"
    }
   ],
   "source": [
    "#Target emotions: Sublime, Energetic, Unease\n",
    "#Sublime emotions: amazement, solemnity, tenderness, nostalgia, calmness\n",
    "#Energetic emotions: power, joyful_activation\n",
    "#Unsettling emotions: tension, sadness\n",
    "\n",
    "df['ind_sublime'] = df['amazement'] + df['solemnity'] + df['tenderness'] + df['nostalgia'] + df['calmness']\n",
    "df['ind_energy'] = df['power'] + df['joyful_activation']\n",
    "df['ind_unease'] = df['tension'] + df['sadness']\n",
    "df.loc[90]"
   ]
  },
  {
   "cell_type": "code",
   "execution_count": 66,
   "id": "4b875dd7-f035-4bd0-b8e5-835d3fcf03f3",
   "metadata": {},
   "outputs": [
    {
     "data": {
      "text/plain": [
       "1    3351\n",
       "0    2512\n",
       "2    1912\n",
       "3     629\n",
       "4       3\n",
       "Name: ind_sublime, dtype: int64"
      ]
     },
     "execution_count": 66,
     "metadata": {},
     "output_type": "execute_result"
    }
   ],
   "source": [
    "df.ind_sublime.value_counts()"
   ]
  },
  {
   "cell_type": "code",
   "execution_count": 68,
   "id": "642c6bcd-06ad-4389-9a69-d640060310da",
   "metadata": {},
   "outputs": [
    {
     "data": {
      "text/plain": [
       "5895"
      ]
     },
     "execution_count": 68,
     "metadata": {},
     "output_type": "execute_result"
    }
   ],
   "source": [
    "df.ind_sublime.value_counts().sum()-2512"
   ]
  },
  {
   "cell_type": "code",
   "execution_count": 70,
   "id": "d0268990-a9d2-4d3c-aedb-0935f43ed2da",
   "metadata": {},
   "outputs": [
    {
     "data": {
      "text/plain": [
       "0    5304\n",
       "1    2530\n",
       "2     573\n",
       "Name: ind_energy, dtype: int64"
      ]
     },
     "execution_count": 70,
     "metadata": {},
     "output_type": "execute_result"
    }
   ],
   "source": [
    "df.ind_energy.value_counts()"
   ]
  },
  {
   "cell_type": "code",
   "execution_count": 69,
   "id": "56e4f359-9ca1-4e4d-bfc0-115ba6ca14df",
   "metadata": {},
   "outputs": [
    {
     "data": {
      "text/plain": [
       "3103"
      ]
     },
     "execution_count": 69,
     "metadata": {},
     "output_type": "execute_result"
    }
   ],
   "source": [
    "df.ind_energy.value_counts().sum()-5304"
   ]
  },
  {
   "cell_type": "code",
   "execution_count": 63,
   "id": "df834ca2-4d2f-49fc-8740-0c1b15679b20",
   "metadata": {},
   "outputs": [
    {
     "data": {
      "text/plain": [
       "0    5334\n",
       "1    2712\n",
       "2     361\n",
       "Name: ind_unease, dtype: int64"
      ]
     },
     "execution_count": 63,
     "metadata": {},
     "output_type": "execute_result"
    }
   ],
   "source": [
    "df.ind_unease.value_counts()"
   ]
  },
  {
   "cell_type": "code",
   "execution_count": 65,
   "id": "c72070eb-49f9-4b75-8116-15a4628eb396",
   "metadata": {},
   "outputs": [
    {
     "data": {
      "text/plain": [
       "3073"
      ]
     },
     "execution_count": 65,
     "metadata": {},
     "output_type": "execute_result"
    }
   ],
   "source": [
    "df.ind_unease.value_counts().sum()-5334"
   ]
  },
  {
   "cell_type": "code",
   "execution_count": 71,
   "id": "a2373721-0e14-46a0-acab-e3e547a36438",
   "metadata": {},
   "outputs": [],
   "source": [
    "col         = 'ind_energy'\n",
    "conditions  = [ df[col] >= 1, df[col] < 1 ]\n",
    "choices     = [ 1, 0 ]\n",
    "    \n",
    "df[\"energized\"] = np.select(conditions, choices, default=0)"
   ]
  },
  {
   "cell_type": "code",
   "execution_count": 72,
   "id": "49bc9252-bc41-4b94-ab2d-9b20e933d66f",
   "metadata": {},
   "outputs": [
    {
     "data": {
      "text/html": [
       "<div>\n",
       "<style scoped>\n",
       "    .dataframe tbody tr th:only-of-type {\n",
       "        vertical-align: middle;\n",
       "    }\n",
       "\n",
       "    .dataframe tbody tr th {\n",
       "        vertical-align: top;\n",
       "    }\n",
       "\n",
       "    .dataframe thead th {\n",
       "        text-align: right;\n",
       "    }\n",
       "</style>\n",
       "<table border=\"1\" class=\"dataframe\">\n",
       "  <thead>\n",
       "    <tr style=\"text-align: right;\">\n",
       "      <th></th>\n",
       "      <th>track_id</th>\n",
       "      <th>genre_x</th>\n",
       "      <th>amazement</th>\n",
       "      <th>solemnity</th>\n",
       "      <th>tenderness</th>\n",
       "      <th>nostalgia</th>\n",
       "      <th>calmness</th>\n",
       "      <th>power</th>\n",
       "      <th>joyful_activation</th>\n",
       "      <th>tension</th>\n",
       "      <th>...</th>\n",
       "      <th>liked</th>\n",
       "      <th>disliked</th>\n",
       "      <th>age</th>\n",
       "      <th>gender</th>\n",
       "      <th>key</th>\n",
       "      <th>bpm</th>\n",
       "      <th>ind_sublime</th>\n",
       "      <th>ind_energy</th>\n",
       "      <th>ind_unease</th>\n",
       "      <th>energized</th>\n",
       "    </tr>\n",
       "  </thead>\n",
       "  <tbody>\n",
       "    <tr>\n",
       "      <th>0</th>\n",
       "      <td>1</td>\n",
       "      <td>classical</td>\n",
       "      <td>0</td>\n",
       "      <td>1</td>\n",
       "      <td>0</td>\n",
       "      <td>0</td>\n",
       "      <td>0</td>\n",
       "      <td>0</td>\n",
       "      <td>1</td>\n",
       "      <td>1</td>\n",
       "      <td>...</td>\n",
       "      <td>1</td>\n",
       "      <td>0</td>\n",
       "      <td>21</td>\n",
       "      <td>1</td>\n",
       "      <td>Dbm</td>\n",
       "      <td>100.25</td>\n",
       "      <td>1</td>\n",
       "      <td>1</td>\n",
       "      <td>1</td>\n",
       "      <td>1</td>\n",
       "    </tr>\n",
       "  </tbody>\n",
       "</table>\n",
       "<p>1 rows × 22 columns</p>\n",
       "</div>"
      ],
      "text/plain": [
       "   track_id    genre_x  amazement  solemnity  tenderness  nostalgia  calmness  \\\n",
       "0         1  classical          0          1           0          0         0   \n",
       "\n",
       "   power  joyful_activation  tension  ...  liked  disliked  age  gender  key  \\\n",
       "0      0                  1        1  ...      1         0   21       1  Dbm   \n",
       "\n",
       "      bpm ind_sublime  ind_energy  ind_unease  energized  \n",
       "0  100.25           1           1           1          1  \n",
       "\n",
       "[1 rows x 22 columns]"
      ]
     },
     "execution_count": 72,
     "metadata": {},
     "output_type": "execute_result"
    }
   ],
   "source": [
    "df.head(1)"
   ]
  },
  {
   "cell_type": "code",
   "execution_count": 73,
   "id": "cc1c6299-e895-4bc7-bb49-6c2187085ba3",
   "metadata": {},
   "outputs": [
    {
     "data": {
      "text/plain": [
       "0    5304\n",
       "1    3103\n",
       "Name: energized, dtype: int64"
      ]
     },
     "execution_count": 73,
     "metadata": {},
     "output_type": "execute_result"
    }
   ],
   "source": [
    "df.energized.value_counts()"
   ]
  },
  {
   "cell_type": "code",
   "execution_count": 74,
   "id": "ec91f302-6cfe-455d-aeab-cc64e4779b65",
   "metadata": {},
   "outputs": [],
   "source": [
    "col         = 'ind_sublime'\n",
    "conditions  = [ df[col] >= 1, df[col] < 1 ]\n",
    "choices     = [ 1, 0 ]\n",
    "    \n",
    "df[\"feel_sublime\"] = np.select(conditions, choices, default=0)"
   ]
  },
  {
   "cell_type": "code",
   "execution_count": 75,
   "id": "0bfd7d5e-3faa-41d0-990b-d893603a6705",
   "metadata": {},
   "outputs": [],
   "source": [
    "col         = 'ind_unease'\n",
    "conditions  = [ df[col] >= 1, df[col] < 1 ]\n",
    "choices     = [ 1, 0 ]\n",
    "    \n",
    "df[\"agitated\"] = np.select(conditions, choices, default=0)"
   ]
  },
  {
   "cell_type": "code",
   "execution_count": 76,
   "id": "b2df5262-6ab6-4857-872f-3a8acc06c3f2",
   "metadata": {},
   "outputs": [
    {
     "data": {
      "text/plain": [
       "1    5895\n",
       "0    2512\n",
       "Name: feel_sublime, dtype: int64"
      ]
     },
     "execution_count": 76,
     "metadata": {},
     "output_type": "execute_result"
    }
   ],
   "source": [
    "df.feel_sublime.value_counts()"
   ]
  },
  {
   "cell_type": "code",
   "execution_count": 77,
   "id": "b5f775f8-0352-4d4b-9a3b-c4fa79cc7716",
   "metadata": {},
   "outputs": [
    {
     "data": {
      "text/plain": [
       "0    5334\n",
       "1    3073\n",
       "Name: agitated, dtype: int64"
      ]
     },
     "execution_count": 77,
     "metadata": {},
     "output_type": "execute_result"
    }
   ],
   "source": [
    "df.agitated.value_counts()"
   ]
  },
  {
   "cell_type": "code",
   "execution_count": 78,
   "id": "9d42af94-f6ac-4eee-b1a0-c2d4be1828fc",
   "metadata": {},
   "outputs": [
    {
     "data": {
      "text/plain": [
       "Am     808\n",
       "G      575\n",
       "C      557\n",
       "Gm     535\n",
       "D      534\n",
       "A      475\n",
       "Bm     456\n",
       "B      428\n",
       "F      408\n",
       "Em     369\n",
       "Abm    338\n",
       "Fm     337\n",
       "Dbm    330\n",
       "Dm     322\n",
       "E      303\n",
       "Ebm    299\n",
       "Cm     271\n",
       "Gb     262\n",
       "Bbm    234\n",
       "Gbm    222\n",
       "Ab     133\n",
       "Db     120\n",
       "Eb      91\n",
       "Name: key, dtype: int64"
      ]
     },
     "execution_count": 78,
     "metadata": {},
     "output_type": "execute_result"
    }
   ],
   "source": [
    "df.key.value_counts()"
   ]
  },
  {
   "cell_type": "code",
   "execution_count": 83,
   "id": "42a976f7-b5c6-4b57-bfaf-757694b2728b",
   "metadata": {},
   "outputs": [],
   "source": [
    "col         = 'key'\n",
    "conditions  = [ df[col].str.contains(r'(?!$)m'), df[col] != '%m' ]\n",
    "choices     = [ 1, 0 ]\n",
    "    \n",
    "df[\"minor_key\"] = np.select(conditions, choices, default=0)"
   ]
  },
  {
   "cell_type": "code",
   "execution_count": 84,
   "id": "658aeebc-1c6b-4988-b5ac-f877c4a8488e",
   "metadata": {},
   "outputs": [
    {
     "data": {
      "text/plain": [
       "1    4521\n",
       "0    3886\n",
       "Name: minor_key, dtype: int64"
      ]
     },
     "execution_count": 84,
     "metadata": {},
     "output_type": "execute_result"
    }
   ],
   "source": [
    "df.minor_key.value_counts()"
   ]
  },
  {
   "cell_type": "code",
   "execution_count": null,
   "id": "e42ec9d0-bbfd-416d-bac4-c00730470419",
   "metadata": {},
   "outputs": [],
   "source": []
  },
  {
   "cell_type": "code",
   "execution_count": null,
   "id": "6ab6122b-ecf2-4dd0-8f07-a8425610f52a",
   "metadata": {},
   "outputs": [],
   "source": []
  },
  {
   "cell_type": "code",
   "execution_count": 118,
   "id": "5dc3353a-4e2e-43a8-a8b5-571febbcb4dc",
   "metadata": {},
   "outputs": [],
   "source": [
    "df['tempo'] = pd.cut(df.bpm, [0, 90, 108, 156, np.inf], labels=['slow', 'medium', 'fast', 'very_fast'])"
   ]
  },
  {
   "cell_type": "code",
   "execution_count": 119,
   "id": "187451f2-5a39-4fa6-8f99-6aef10006d16",
   "metadata": {},
   "outputs": [
    {
     "data": {
      "text/plain": [
       "medium       3876\n",
       "fast         2995\n",
       "very_fast    1121\n",
       "slow          415\n",
       "Name: tempo, dtype: int64"
      ]
     },
     "execution_count": 119,
     "metadata": {},
     "output_type": "execute_result"
    }
   ],
   "source": [
    "df.tempo.value_counts()"
   ]
  },
  {
   "cell_type": "code",
   "execution_count": null,
   "id": "4e65a4c3-4849-4a84-aad5-0a50ff3a73c9",
   "metadata": {},
   "outputs": [],
   "source": []
  },
  {
   "cell_type": "code",
   "execution_count": 105,
   "id": "1a0bfc15-90ee-4682-9de1-32054ccda23c",
   "metadata": {},
   "outputs": [
    {
     "data": {
      "text/plain": [
       "69.0"
      ]
     },
     "execution_count": 105,
     "metadata": {},
     "output_type": "execute_result"
    }
   ],
   "source": [
    "df.bpm.min()"
   ]
  },
  {
   "cell_type": "code",
   "execution_count": 106,
   "id": "ed1f9124-19b9-4f2f-988d-c06beb67c1f1",
   "metadata": {},
   "outputs": [
    {
     "data": {
      "text/plain": [
       "179.0"
      ]
     },
     "execution_count": 106,
     "metadata": {},
     "output_type": "execute_result"
    }
   ],
   "source": [
    "df.bpm.max()"
   ]
  },
  {
   "cell_type": "code",
   "execution_count": 108,
   "id": "bda29897-0d6d-4155-b3c3-01d88fa7f9b0",
   "metadata": {},
   "outputs": [
    {
     "data": {
      "text/plain": [
       "0    100.25\n",
       "dtype: float64"
      ]
     },
     "execution_count": 108,
     "metadata": {},
     "output_type": "execute_result"
    }
   ],
   "source": [
    "df.bpm.mode()"
   ]
  },
  {
   "cell_type": "code",
   "execution_count": 128,
   "id": "5417fdf4-c250-4a04-8077-b5e35c3509b6",
   "metadata": {},
   "outputs": [
    {
     "data": {
      "text/html": [
       "<div>\n",
       "<style scoped>\n",
       "    .dataframe tbody tr th:only-of-type {\n",
       "        vertical-align: middle;\n",
       "    }\n",
       "\n",
       "    .dataframe tbody tr th {\n",
       "        vertical-align: top;\n",
       "    }\n",
       "\n",
       "    .dataframe thead th {\n",
       "        text-align: right;\n",
       "    }\n",
       "</style>\n",
       "<table border=\"1\" class=\"dataframe\">\n",
       "  <thead>\n",
       "    <tr style=\"text-align: right;\">\n",
       "      <th></th>\n",
       "      <th>741</th>\n",
       "    </tr>\n",
       "  </thead>\n",
       "  <tbody>\n",
       "    <tr>\n",
       "      <th>track_id</th>\n",
       "      <td>17</td>\n",
       "    </tr>\n",
       "    <tr>\n",
       "      <th>genre_x</th>\n",
       "      <td>classical</td>\n",
       "    </tr>\n",
       "    <tr>\n",
       "      <th>amazement</th>\n",
       "      <td>0</td>\n",
       "    </tr>\n",
       "    <tr>\n",
       "      <th>solemnity</th>\n",
       "      <td>0</td>\n",
       "    </tr>\n",
       "    <tr>\n",
       "      <th>tenderness</th>\n",
       "      <td>1</td>\n",
       "    </tr>\n",
       "    <tr>\n",
       "      <th>nostalgia</th>\n",
       "      <td>1</td>\n",
       "    </tr>\n",
       "    <tr>\n",
       "      <th>calmness</th>\n",
       "      <td>1</td>\n",
       "    </tr>\n",
       "    <tr>\n",
       "      <th>power</th>\n",
       "      <td>0</td>\n",
       "    </tr>\n",
       "    <tr>\n",
       "      <th>joyful_activation</th>\n",
       "      <td>0</td>\n",
       "    </tr>\n",
       "    <tr>\n",
       "      <th>tension</th>\n",
       "      <td>0</td>\n",
       "    </tr>\n",
       "    <tr>\n",
       "      <th>sadness</th>\n",
       "      <td>0</td>\n",
       "    </tr>\n",
       "    <tr>\n",
       "      <th>mood</th>\n",
       "      <td>3</td>\n",
       "    </tr>\n",
       "    <tr>\n",
       "      <th>liked</th>\n",
       "      <td>1</td>\n",
       "    </tr>\n",
       "    <tr>\n",
       "      <th>disliked</th>\n",
       "      <td>0</td>\n",
       "    </tr>\n",
       "    <tr>\n",
       "      <th>age</th>\n",
       "      <td>21</td>\n",
       "    </tr>\n",
       "    <tr>\n",
       "      <th>gender</th>\n",
       "      <td>0</td>\n",
       "    </tr>\n",
       "    <tr>\n",
       "      <th>key</th>\n",
       "      <td>Gbm</td>\n",
       "    </tr>\n",
       "    <tr>\n",
       "      <th>bpm</th>\n",
       "      <td>91.0</td>\n",
       "    </tr>\n",
       "    <tr>\n",
       "      <th>ind_sublime</th>\n",
       "      <td>3</td>\n",
       "    </tr>\n",
       "    <tr>\n",
       "      <th>ind_energy</th>\n",
       "      <td>0</td>\n",
       "    </tr>\n",
       "    <tr>\n",
       "      <th>ind_unease</th>\n",
       "      <td>0</td>\n",
       "    </tr>\n",
       "    <tr>\n",
       "      <th>energized</th>\n",
       "      <td>0</td>\n",
       "    </tr>\n",
       "    <tr>\n",
       "      <th>feel_sublime</th>\n",
       "      <td>1</td>\n",
       "    </tr>\n",
       "    <tr>\n",
       "      <th>agitated</th>\n",
       "      <td>0</td>\n",
       "    </tr>\n",
       "    <tr>\n",
       "      <th>minor_key</th>\n",
       "      <td>1</td>\n",
       "    </tr>\n",
       "    <tr>\n",
       "      <th>tempo</th>\n",
       "      <td>medium</td>\n",
       "    </tr>\n",
       "  </tbody>\n",
       "</table>\n",
       "</div>"
      ],
      "text/plain": [
       "                         741\n",
       "track_id                  17\n",
       "genre_x            classical\n",
       "amazement                  0\n",
       "solemnity                  0\n",
       "tenderness                 1\n",
       "nostalgia                  1\n",
       "calmness                   1\n",
       "power                      0\n",
       "joyful_activation          0\n",
       "tension                    0\n",
       "sadness                    0\n",
       "mood                       3\n",
       "liked                      1\n",
       "disliked                   0\n",
       "age                       21\n",
       "gender                     0\n",
       "key                      Gbm\n",
       "bpm                     91.0\n",
       "ind_sublime                3\n",
       "ind_energy                 0\n",
       "ind_unease                 0\n",
       "energized                  0\n",
       "feel_sublime               1\n",
       "agitated                   0\n",
       "minor_key                  1\n",
       "tempo                 medium"
      ]
     },
     "execution_count": 128,
     "metadata": {},
     "output_type": "execute_result"
    }
   ],
   "source": [
    "df.sample().T"
   ]
  },
  {
   "cell_type": "code",
   "execution_count": 130,
   "id": "7d9845f8-8e7c-4bd1-bc75-1daed5d705d3",
   "metadata": {},
   "outputs": [
    {
     "name": "stdout",
     "output_type": "stream",
     "text": [
      "<class 'pandas.core.frame.DataFrame'>\n",
      "Int64Index: 8407 entries, 0 to 8406\n",
      "Data columns (total 26 columns):\n",
      " #   Column             Non-Null Count  Dtype   \n",
      "---  ------             --------------  -----   \n",
      " 0   track_id           8407 non-null   int64   \n",
      " 1   genre_x            8407 non-null   object  \n",
      " 2   amazement          8407 non-null   int64   \n",
      " 3   solemnity          8407 non-null   int64   \n",
      " 4   tenderness         8407 non-null   int64   \n",
      " 5   nostalgia          8407 non-null   int64   \n",
      " 6   calmness           8407 non-null   int64   \n",
      " 7   power              8407 non-null   int64   \n",
      " 8   joyful_activation  8407 non-null   int64   \n",
      " 9   tension            8407 non-null   int64   \n",
      " 10  sadness            8407 non-null   int64   \n",
      " 11  mood               8407 non-null   int64   \n",
      " 12  liked              8407 non-null   int64   \n",
      " 13  disliked           8407 non-null   int64   \n",
      " 14  age                8407 non-null   int64   \n",
      " 15  gender             8407 non-null   int64   \n",
      " 16  key                8407 non-null   object  \n",
      " 17  bpm                8407 non-null   float64 \n",
      " 18  ind_sublime        8407 non-null   int64   \n",
      " 19  ind_energy         8407 non-null   int64   \n",
      " 20  ind_unease         8407 non-null   int64   \n",
      " 21  energized          8407 non-null   int64   \n",
      " 22  feel_sublime       8407 non-null   int64   \n",
      " 23  agitated           8407 non-null   int64   \n",
      " 24  minor_key          8407 non-null   int64   \n",
      " 25  tempo              8407 non-null   category\n",
      "dtypes: category(1), float64(1), int64(22), object(2)\n",
      "memory usage: 1.9+ MB\n"
     ]
    }
   ],
   "source": [
    "df.info()"
   ]
  },
  {
   "cell_type": "code",
   "execution_count": 131,
   "id": "d7b3d80b-24fd-4e70-92b9-a7caa8c7ec78",
   "metadata": {},
   "outputs": [],
   "source": [
    "#target will be energized\n",
    "#columns to keep: track_id, genre_x, feel_sublime, agitated, mood, liked, disliked, age, gender, key, minor_key, tempo\n",
    "df1 = df.filter(['track_id', 'genre_x', 'mood', 'age', 'gender', 'key', 'minor_key', 'tempo', 'liked', 'disliked',  'feel_sublime', 'agitated', 'energized'], axis=1)"
   ]
  },
  {
   "cell_type": "code",
   "execution_count": 132,
   "id": "1b8c211a-7f4e-4503-88e6-af3c3b31d831",
   "metadata": {},
   "outputs": [
    {
     "name": "stdout",
     "output_type": "stream",
     "text": [
      "<class 'pandas.core.frame.DataFrame'>\n",
      "Int64Index: 8407 entries, 0 to 8406\n",
      "Data columns (total 13 columns):\n",
      " #   Column        Non-Null Count  Dtype   \n",
      "---  ------        --------------  -----   \n",
      " 0   track_id      8407 non-null   int64   \n",
      " 1   genre_x       8407 non-null   object  \n",
      " 2   mood          8407 non-null   int64   \n",
      " 3   age           8407 non-null   int64   \n",
      " 4   gender        8407 non-null   int64   \n",
      " 5   key           8407 non-null   object  \n",
      " 6   minor_key     8407 non-null   int64   \n",
      " 7   tempo         8407 non-null   category\n",
      " 8   liked         8407 non-null   int64   \n",
      " 9   disliked      8407 non-null   int64   \n",
      " 10  feel_sublime  8407 non-null   int64   \n",
      " 11  agitated      8407 non-null   int64   \n",
      " 12  energized     8407 non-null   int64   \n",
      "dtypes: category(1), int64(10), object(2)\n",
      "memory usage: 1.1+ MB\n"
     ]
    }
   ],
   "source": [
    "df1.info()"
   ]
  },
  {
   "cell_type": "code",
   "execution_count": 133,
   "id": "7716a1b7-5ff9-4f68-a3ba-ec5a8b801613",
   "metadata": {},
   "outputs": [
    {
     "data": {
      "text/plain": [
       "track_id               20\n",
       "genre_x         classical\n",
       "mood                    5\n",
       "age                    73\n",
       "gender                  0\n",
       "key                    Bm\n",
       "minor_key               1\n",
       "tempo              medium\n",
       "liked                   1\n",
       "disliked                0\n",
       "feel_sublime            1\n",
       "agitated                0\n",
       "energized               0\n",
       "Name: 900, dtype: object"
      ]
     },
     "execution_count": 133,
     "metadata": {},
     "output_type": "execute_result"
    }
   ],
   "source": [
    "df1.loc[900]"
   ]
  },
  {
   "cell_type": "code",
   "execution_count": 135,
   "id": "6a55faf0-5e42-4127-bf7a-9b37b0e43526",
   "metadata": {},
   "outputs": [
    {
     "data": {
      "text/html": [
       "<div>\n",
       "<style scoped>\n",
       "    .dataframe tbody tr th:only-of-type {\n",
       "        vertical-align: middle;\n",
       "    }\n",
       "\n",
       "    .dataframe tbody tr th {\n",
       "        vertical-align: top;\n",
       "    }\n",
       "\n",
       "    .dataframe thead th {\n",
       "        text-align: right;\n",
       "    }\n",
       "</style>\n",
       "<table border=\"1\" class=\"dataframe\">\n",
       "  <thead>\n",
       "    <tr style=\"text-align: right;\">\n",
       "      <th></th>\n",
       "      <th>track_id</th>\n",
       "      <th>mood</th>\n",
       "      <th>age</th>\n",
       "      <th>gender</th>\n",
       "      <th>minor_key</th>\n",
       "      <th>liked</th>\n",
       "      <th>disliked</th>\n",
       "      <th>feel_sublime</th>\n",
       "      <th>agitated</th>\n",
       "      <th>energized</th>\n",
       "    </tr>\n",
       "  </thead>\n",
       "  <tbody>\n",
       "    <tr>\n",
       "      <th>count</th>\n",
       "      <td>8407.000000</td>\n",
       "      <td>8407.000000</td>\n",
       "      <td>8407.000000</td>\n",
       "      <td>8407.000000</td>\n",
       "      <td>8407.000000</td>\n",
       "      <td>8407.000000</td>\n",
       "      <td>8407.000000</td>\n",
       "      <td>8407.000000</td>\n",
       "      <td>8407.000000</td>\n",
       "      <td>8407.000000</td>\n",
       "    </tr>\n",
       "    <tr>\n",
       "      <th>mean</th>\n",
       "      <td>171.121565</td>\n",
       "      <td>3.493874</td>\n",
       "      <td>31.850601</td>\n",
       "      <td>0.456167</td>\n",
       "      <td>0.537766</td>\n",
       "      <td>0.391459</td>\n",
       "      <td>0.208993</td>\n",
       "      <td>0.701201</td>\n",
       "      <td>0.365529</td>\n",
       "      <td>0.369097</td>\n",
       "    </tr>\n",
       "    <tr>\n",
       "      <th>std</th>\n",
       "      <td>116.888669</td>\n",
       "      <td>0.991124</td>\n",
       "      <td>12.457801</td>\n",
       "      <td>0.498105</td>\n",
       "      <td>0.498601</td>\n",
       "      <td>0.488106</td>\n",
       "      <td>0.406613</td>\n",
       "      <td>0.457759</td>\n",
       "      <td>0.481607</td>\n",
       "      <td>0.482589</td>\n",
       "    </tr>\n",
       "    <tr>\n",
       "      <th>min</th>\n",
       "      <td>1.000000</td>\n",
       "      <td>1.000000</td>\n",
       "      <td>5.000000</td>\n",
       "      <td>0.000000</td>\n",
       "      <td>0.000000</td>\n",
       "      <td>0.000000</td>\n",
       "      <td>0.000000</td>\n",
       "      <td>0.000000</td>\n",
       "      <td>0.000000</td>\n",
       "      <td>0.000000</td>\n",
       "    </tr>\n",
       "    <tr>\n",
       "      <th>25%</th>\n",
       "      <td>67.000000</td>\n",
       "      <td>3.000000</td>\n",
       "      <td>23.000000</td>\n",
       "      <td>0.000000</td>\n",
       "      <td>0.000000</td>\n",
       "      <td>0.000000</td>\n",
       "      <td>0.000000</td>\n",
       "      <td>0.000000</td>\n",
       "      <td>0.000000</td>\n",
       "      <td>0.000000</td>\n",
       "    </tr>\n",
       "    <tr>\n",
       "      <th>50%</th>\n",
       "      <td>164.000000</td>\n",
       "      <td>4.000000</td>\n",
       "      <td>28.000000</td>\n",
       "      <td>0.000000</td>\n",
       "      <td>1.000000</td>\n",
       "      <td>0.000000</td>\n",
       "      <td>0.000000</td>\n",
       "      <td>1.000000</td>\n",
       "      <td>0.000000</td>\n",
       "      <td>0.000000</td>\n",
       "    </tr>\n",
       "    <tr>\n",
       "      <th>75%</th>\n",
       "      <td>278.000000</td>\n",
       "      <td>4.000000</td>\n",
       "      <td>37.000000</td>\n",
       "      <td>1.000000</td>\n",
       "      <td>1.000000</td>\n",
       "      <td>1.000000</td>\n",
       "      <td>0.000000</td>\n",
       "      <td>1.000000</td>\n",
       "      <td>1.000000</td>\n",
       "      <td>1.000000</td>\n",
       "    </tr>\n",
       "    <tr>\n",
       "      <th>max</th>\n",
       "      <td>400.000000</td>\n",
       "      <td>5.000000</td>\n",
       "      <td>99.000000</td>\n",
       "      <td>1.000000</td>\n",
       "      <td>1.000000</td>\n",
       "      <td>1.000000</td>\n",
       "      <td>1.000000</td>\n",
       "      <td>1.000000</td>\n",
       "      <td>1.000000</td>\n",
       "      <td>1.000000</td>\n",
       "    </tr>\n",
       "  </tbody>\n",
       "</table>\n",
       "</div>"
      ],
      "text/plain": [
       "          track_id         mood          age       gender    minor_key  \\\n",
       "count  8407.000000  8407.000000  8407.000000  8407.000000  8407.000000   \n",
       "mean    171.121565     3.493874    31.850601     0.456167     0.537766   \n",
       "std     116.888669     0.991124    12.457801     0.498105     0.498601   \n",
       "min       1.000000     1.000000     5.000000     0.000000     0.000000   \n",
       "25%      67.000000     3.000000    23.000000     0.000000     0.000000   \n",
       "50%     164.000000     4.000000    28.000000     0.000000     1.000000   \n",
       "75%     278.000000     4.000000    37.000000     1.000000     1.000000   \n",
       "max     400.000000     5.000000    99.000000     1.000000     1.000000   \n",
       "\n",
       "             liked     disliked  feel_sublime     agitated    energized  \n",
       "count  8407.000000  8407.000000   8407.000000  8407.000000  8407.000000  \n",
       "mean      0.391459     0.208993      0.701201     0.365529     0.369097  \n",
       "std       0.488106     0.406613      0.457759     0.481607     0.482589  \n",
       "min       0.000000     0.000000      0.000000     0.000000     0.000000  \n",
       "25%       0.000000     0.000000      0.000000     0.000000     0.000000  \n",
       "50%       0.000000     0.000000      1.000000     0.000000     0.000000  \n",
       "75%       1.000000     0.000000      1.000000     1.000000     1.000000  \n",
       "max       1.000000     1.000000      1.000000     1.000000     1.000000  "
      ]
     },
     "execution_count": 135,
     "metadata": {},
     "output_type": "execute_result"
    }
   ],
   "source": [
    "df1.describe()"
   ]
  },
  {
   "cell_type": "markdown",
   "id": "adb6fa4a-c3de-410f-aed9-07458a438832",
   "metadata": {},
   "source": [
    "### Takeaways from .describe:  \n",
    "    - Most folks mood's were between 2.5 and 4.5\n",
    "    - The average age is 31 with most falling between 18-43\n",
    "    - Looks like gender is nearly even\n",
    "    - Looks like most songs are in a minor key\n",
    "    - More people liked songs than disliked songs, but the majority were indifferent\n",
    "    - Experiencing sublime emotion was common\n",
    "    - Experiencing sadness/tension was less common"
   ]
  },
  {
   "cell_type": "code",
   "execution_count": 145,
   "id": "4c984b4e-62f1-499d-9578-03982a555869",
   "metadata": {},
   "outputs": [],
   "source": [
    "#does everything have to be numerical? or does that happen when it's time to model?\n",
    "#it appears you can explore on categorical, but model on numerical. \n",
    "#So, do both so it's ready to model."
   ]
  },
  {
   "cell_type": "code",
   "execution_count": 137,
   "id": "4556196c-44fc-41ec-85b7-d7221420c016",
   "metadata": {},
   "outputs": [],
   "source": [
    "#My categorical columns are genre_x, key, and tempo.  \n",
    "#Unless I find something significant with key, i will not model on that."
   ]
  },
  {
   "cell_type": "code",
   "execution_count": 144,
   "id": "0215a392-0bb3-43dc-924c-9b4bf5d2b5e5",
   "metadata": {},
   "outputs": [],
   "source": [
    "\n",
    "#yes, encode the categorical values for later on.\n",
    "#genre\n",
    "#tempo\n",
    "\n",
    "#Need to split as soon as that's done\n",
    "#Then start to visualize!\n",
    "#Then formally state hypotheses\n",
    "#Then run hypothesis tests\n",
    "#Then establish baseline\n",
    "#Create and run models.\n",
    "#Re-iterate with the other emotional targets (feel_sublime and agitated)"
   ]
  },
  {
   "cell_type": "code",
   "execution_count": 139,
   "id": "9c642152-adb7-4a09-9b00-16971ece1e3b",
   "metadata": {},
   "outputs": [],
   "source": [
    "\n",
    "#how to encode key?"
   ]
  },
  {
   "cell_type": "code",
   "execution_count": 142,
   "id": "695d4018-b0b3-4b73-8e96-99a99f4b3c54",
   "metadata": {},
   "outputs": [
    {
     "data": {
      "text/plain": [
       "Am     808\n",
       "G      575\n",
       "C      557\n",
       "Gm     535\n",
       "D      534\n",
       "A      475\n",
       "Bm     456\n",
       "B      428\n",
       "F      408\n",
       "Em     369\n",
       "Abm    338\n",
       "Fm     337\n",
       "Dbm    330\n",
       "Dm     322\n",
       "E      303\n",
       "Ebm    299\n",
       "Cm     271\n",
       "Gb     262\n",
       "Bbm    234\n",
       "Gbm    222\n",
       "Ab     133\n",
       "Db     120\n",
       "Eb      91\n",
       "Name: key, dtype: int64"
      ]
     },
     "execution_count": 142,
     "metadata": {},
     "output_type": "execute_result"
    }
   ],
   "source": [
    "df1.key.value_counts()"
   ]
  },
  {
   "cell_type": "code",
   "execution_count": 143,
   "id": "8079bb4e-6263-473b-9d9a-7bf3c750973f",
   "metadata": {},
   "outputs": [],
   "source": [
    "#since classifying keys is gets complex beyond maj/min sonority, i'll leave it as it unless I find some significant relationship between emotion and particular keys."
   ]
  },
  {
   "cell_type": "code",
   "execution_count": 147,
   "id": "0386c926-8d0a-4734-85af-e81666c635a6",
   "metadata": {},
   "outputs": [
    {
     "name": "stdout",
     "output_type": "stream",
     "text": [
      "<class 'pandas.core.frame.DataFrame'>\n",
      "Int64Index: 8407 entries, 0 to 8406\n",
      "Data columns (total 13 columns):\n",
      " #   Column        Non-Null Count  Dtype   \n",
      "---  ------        --------------  -----   \n",
      " 0   track_id      8407 non-null   int64   \n",
      " 1   genre_x       8407 non-null   object  \n",
      " 2   mood          8407 non-null   int64   \n",
      " 3   age           8407 non-null   int64   \n",
      " 4   gender        8407 non-null   int64   \n",
      " 5   key           8407 non-null   object  \n",
      " 6   minor_key     8407 non-null   int64   \n",
      " 7   tempo         8407 non-null   category\n",
      " 8   liked         8407 non-null   int64   \n",
      " 9   disliked      8407 non-null   int64   \n",
      " 10  feel_sublime  8407 non-null   int64   \n",
      " 11  agitated      8407 non-null   int64   \n",
      " 12  energized     8407 non-null   int64   \n",
      "dtypes: category(1), int64(10), object(2)\n",
      "memory usage: 1.1+ MB\n"
     ]
    }
   ],
   "source": [
    "df1.info()"
   ]
  },
  {
   "cell_type": "code",
   "execution_count": 148,
   "id": "d99ce0f1-feeb-4191-8177-964fd732672b",
   "metadata": {},
   "outputs": [
    {
     "data": {
      "text/html": [
       "<div>\n",
       "<style scoped>\n",
       "    .dataframe tbody tr th:only-of-type {\n",
       "        vertical-align: middle;\n",
       "    }\n",
       "\n",
       "    .dataframe tbody tr th {\n",
       "        vertical-align: top;\n",
       "    }\n",
       "\n",
       "    .dataframe thead th {\n",
       "        text-align: right;\n",
       "    }\n",
       "</style>\n",
       "<table border=\"1\" class=\"dataframe\">\n",
       "  <thead>\n",
       "    <tr style=\"text-align: right;\">\n",
       "      <th></th>\n",
       "      <th>electronic</th>\n",
       "      <th>pop</th>\n",
       "      <th>rock</th>\n",
       "    </tr>\n",
       "  </thead>\n",
       "  <tbody>\n",
       "    <tr>\n",
       "      <th>2076</th>\n",
       "      <td>0</td>\n",
       "      <td>0</td>\n",
       "      <td>0</td>\n",
       "    </tr>\n",
       "    <tr>\n",
       "      <th>6637</th>\n",
       "      <td>0</td>\n",
       "      <td>1</td>\n",
       "      <td>0</td>\n",
       "    </tr>\n",
       "    <tr>\n",
       "      <th>667</th>\n",
       "      <td>0</td>\n",
       "      <td>0</td>\n",
       "      <td>0</td>\n",
       "    </tr>\n",
       "    <tr>\n",
       "      <th>6100</th>\n",
       "      <td>1</td>\n",
       "      <td>0</td>\n",
       "      <td>0</td>\n",
       "    </tr>\n",
       "    <tr>\n",
       "      <th>4718</th>\n",
       "      <td>0</td>\n",
       "      <td>0</td>\n",
       "      <td>1</td>\n",
       "    </tr>\n",
       "  </tbody>\n",
       "</table>\n",
       "</div>"
      ],
      "text/plain": [
       "      electronic  pop  rock\n",
       "2076           0    0     0\n",
       "6637           0    1     0\n",
       "667            0    0     0\n",
       "6100           1    0     0\n",
       "4718           0    0     1"
      ]
     },
     "execution_count": 148,
     "metadata": {},
     "output_type": "execute_result"
    }
   ],
   "source": [
    "genre_dummies = pd.get_dummies(df1.genre_x, drop_first=True)\n",
    "genre_dummies.sample(5)"
   ]
  },
  {
   "cell_type": "code",
   "execution_count": 149,
   "id": "39d47cfc-6f54-4a2e-8296-a1fc9c23bb0e",
   "metadata": {},
   "outputs": [
    {
     "data": {
      "text/html": [
       "<div>\n",
       "<style scoped>\n",
       "    .dataframe tbody tr th:only-of-type {\n",
       "        vertical-align: middle;\n",
       "    }\n",
       "\n",
       "    .dataframe tbody tr th {\n",
       "        vertical-align: top;\n",
       "    }\n",
       "\n",
       "    .dataframe thead th {\n",
       "        text-align: right;\n",
       "    }\n",
       "</style>\n",
       "<table border=\"1\" class=\"dataframe\">\n",
       "  <thead>\n",
       "    <tr style=\"text-align: right;\">\n",
       "      <th></th>\n",
       "      <th>track_id</th>\n",
       "      <th>genre_x</th>\n",
       "      <th>mood</th>\n",
       "      <th>age</th>\n",
       "      <th>gender</th>\n",
       "      <th>key</th>\n",
       "      <th>minor_key</th>\n",
       "      <th>tempo</th>\n",
       "      <th>liked</th>\n",
       "      <th>disliked</th>\n",
       "      <th>feel_sublime</th>\n",
       "      <th>agitated</th>\n",
       "      <th>energized</th>\n",
       "      <th>electronic</th>\n",
       "      <th>pop</th>\n",
       "      <th>rock</th>\n",
       "    </tr>\n",
       "  </thead>\n",
       "  <tbody>\n",
       "    <tr>\n",
       "      <th>5583</th>\n",
       "      <td>218</td>\n",
       "      <td>electronic</td>\n",
       "      <td>2</td>\n",
       "      <td>26</td>\n",
       "      <td>1</td>\n",
       "      <td>F</td>\n",
       "      <td>0</td>\n",
       "      <td>fast</td>\n",
       "      <td>0</td>\n",
       "      <td>0</td>\n",
       "      <td>1</td>\n",
       "      <td>0</td>\n",
       "      <td>0</td>\n",
       "      <td>1</td>\n",
       "      <td>0</td>\n",
       "      <td>0</td>\n",
       "    </tr>\n",
       "    <tr>\n",
       "      <th>5467</th>\n",
       "      <td>215</td>\n",
       "      <td>electronic</td>\n",
       "      <td>2</td>\n",
       "      <td>26</td>\n",
       "      <td>1</td>\n",
       "      <td>Cm</td>\n",
       "      <td>1</td>\n",
       "      <td>slow</td>\n",
       "      <td>1</td>\n",
       "      <td>0</td>\n",
       "      <td>0</td>\n",
       "      <td>0</td>\n",
       "      <td>1</td>\n",
       "      <td>1</td>\n",
       "      <td>0</td>\n",
       "      <td>0</td>\n",
       "    </tr>\n",
       "  </tbody>\n",
       "</table>\n",
       "</div>"
      ],
      "text/plain": [
       "      track_id     genre_x  mood  age  gender key  minor_key tempo  liked  \\\n",
       "5583       218  electronic     2   26       1   F          0  fast      0   \n",
       "5467       215  electronic     2   26       1  Cm          1  slow      1   \n",
       "\n",
       "      disliked  feel_sublime  agitated  energized  electronic  pop  rock  \n",
       "5583         0             1         0          0           1    0     0  \n",
       "5467         0             0         0          1           1    0     0  "
      ]
     },
     "execution_count": 149,
     "metadata": {},
     "output_type": "execute_result"
    }
   ],
   "source": [
    "df1 = pd.concat([df1, genre_dummies], axis=1)\n",
    "df1.sample(2)"
   ]
  },
  {
   "cell_type": "code",
   "execution_count": 150,
   "id": "a3a7053c-1b74-438d-acf0-cc0a0b1ee80d",
   "metadata": {},
   "outputs": [
    {
     "data": {
      "text/html": [
       "<div>\n",
       "<style scoped>\n",
       "    .dataframe tbody tr th:only-of-type {\n",
       "        vertical-align: middle;\n",
       "    }\n",
       "\n",
       "    .dataframe tbody tr th {\n",
       "        vertical-align: top;\n",
       "    }\n",
       "\n",
       "    .dataframe thead th {\n",
       "        text-align: right;\n",
       "    }\n",
       "</style>\n",
       "<table border=\"1\" class=\"dataframe\">\n",
       "  <thead>\n",
       "    <tr style=\"text-align: right;\">\n",
       "      <th></th>\n",
       "      <th>medium</th>\n",
       "      <th>fast</th>\n",
       "      <th>very_fast</th>\n",
       "    </tr>\n",
       "  </thead>\n",
       "  <tbody>\n",
       "    <tr>\n",
       "      <th>5319</th>\n",
       "      <td>0</td>\n",
       "      <td>1</td>\n",
       "      <td>0</td>\n",
       "    </tr>\n",
       "    <tr>\n",
       "      <th>367</th>\n",
       "      <td>1</td>\n",
       "      <td>0</td>\n",
       "      <td>0</td>\n",
       "    </tr>\n",
       "    <tr>\n",
       "      <th>3973</th>\n",
       "      <td>0</td>\n",
       "      <td>0</td>\n",
       "      <td>1</td>\n",
       "    </tr>\n",
       "    <tr>\n",
       "      <th>5763</th>\n",
       "      <td>0</td>\n",
       "      <td>1</td>\n",
       "      <td>0</td>\n",
       "    </tr>\n",
       "    <tr>\n",
       "      <th>5669</th>\n",
       "      <td>0</td>\n",
       "      <td>0</td>\n",
       "      <td>1</td>\n",
       "    </tr>\n",
       "  </tbody>\n",
       "</table>\n",
       "</div>"
      ],
      "text/plain": [
       "      medium  fast  very_fast\n",
       "5319       0     1          0\n",
       "367        1     0          0\n",
       "3973       0     0          1\n",
       "5763       0     1          0\n",
       "5669       0     0          1"
      ]
     },
     "execution_count": 150,
     "metadata": {},
     "output_type": "execute_result"
    }
   ],
   "source": [
    "tempo_dummies = pd.get_dummies(df1.tempo, drop_first=True)\n",
    "tempo_dummies.sample(5)"
   ]
  },
  {
   "cell_type": "code",
   "execution_count": 151,
   "id": "5b22792f-aa3f-4a02-95ac-c9b4b93c306e",
   "metadata": {},
   "outputs": [
    {
     "data": {
      "text/html": [
       "<div>\n",
       "<style scoped>\n",
       "    .dataframe tbody tr th:only-of-type {\n",
       "        vertical-align: middle;\n",
       "    }\n",
       "\n",
       "    .dataframe tbody tr th {\n",
       "        vertical-align: top;\n",
       "    }\n",
       "\n",
       "    .dataframe thead th {\n",
       "        text-align: right;\n",
       "    }\n",
       "</style>\n",
       "<table border=\"1\" class=\"dataframe\">\n",
       "  <thead>\n",
       "    <tr style=\"text-align: right;\">\n",
       "      <th></th>\n",
       "      <th>track_id</th>\n",
       "      <th>genre_x</th>\n",
       "      <th>mood</th>\n",
       "      <th>age</th>\n",
       "      <th>gender</th>\n",
       "      <th>key</th>\n",
       "      <th>minor_key</th>\n",
       "      <th>tempo</th>\n",
       "      <th>liked</th>\n",
       "      <th>disliked</th>\n",
       "      <th>feel_sublime</th>\n",
       "      <th>agitated</th>\n",
       "      <th>energized</th>\n",
       "      <th>electronic</th>\n",
       "      <th>pop</th>\n",
       "      <th>rock</th>\n",
       "      <th>medium</th>\n",
       "      <th>fast</th>\n",
       "      <th>very_fast</th>\n",
       "    </tr>\n",
       "  </thead>\n",
       "  <tbody>\n",
       "    <tr>\n",
       "      <th>4915</th>\n",
       "      <td>204</td>\n",
       "      <td>electronic</td>\n",
       "      <td>5</td>\n",
       "      <td>48</td>\n",
       "      <td>0</td>\n",
       "      <td>Am</td>\n",
       "      <td>1</td>\n",
       "      <td>fast</td>\n",
       "      <td>0</td>\n",
       "      <td>0</td>\n",
       "      <td>0</td>\n",
       "      <td>0</td>\n",
       "      <td>0</td>\n",
       "      <td>1</td>\n",
       "      <td>0</td>\n",
       "      <td>0</td>\n",
       "      <td>0</td>\n",
       "      <td>1</td>\n",
       "      <td>0</td>\n",
       "    </tr>\n",
       "    <tr>\n",
       "      <th>4586</th>\n",
       "      <td>191</td>\n",
       "      <td>rock</td>\n",
       "      <td>3</td>\n",
       "      <td>30</td>\n",
       "      <td>0</td>\n",
       "      <td>A</td>\n",
       "      <td>0</td>\n",
       "      <td>slow</td>\n",
       "      <td>0</td>\n",
       "      <td>1</td>\n",
       "      <td>1</td>\n",
       "      <td>1</td>\n",
       "      <td>0</td>\n",
       "      <td>0</td>\n",
       "      <td>0</td>\n",
       "      <td>1</td>\n",
       "      <td>0</td>\n",
       "      <td>0</td>\n",
       "      <td>0</td>\n",
       "    </tr>\n",
       "  </tbody>\n",
       "</table>\n",
       "</div>"
      ],
      "text/plain": [
       "      track_id     genre_x  mood  age  gender key  minor_key tempo  liked  \\\n",
       "4915       204  electronic     5   48       0  Am          1  fast      0   \n",
       "4586       191        rock     3   30       0   A          0  slow      0   \n",
       "\n",
       "      disliked  feel_sublime  agitated  energized  electronic  pop  rock  \\\n",
       "4915         0             0         0          0           1    0     0   \n",
       "4586         1             1         1          0           0    0     1   \n",
       "\n",
       "      medium  fast  very_fast  \n",
       "4915       0     1          0  \n",
       "4586       0     0          0  "
      ]
     },
     "execution_count": 151,
     "metadata": {},
     "output_type": "execute_result"
    }
   ],
   "source": [
    "df1 = pd.concat([df1, tempo_dummies], axis=1)\n",
    "df1.sample(2)"
   ]
  },
  {
   "cell_type": "code",
   "execution_count": null,
   "id": "79c43583-f1f2-4824-8371-41cd37c1b3e0",
   "metadata": {},
   "outputs": [],
   "source": []
  }
 ],
 "metadata": {
  "kernelspec": {
   "display_name": "Python 3",
   "language": "python",
   "name": "python3"
  },
  "language_info": {
   "codemirror_mode": {
    "name": "ipython",
    "version": 3
   },
   "file_extension": ".py",
   "mimetype": "text/x-python",
   "name": "python",
   "nbconvert_exporter": "python",
   "pygments_lexer": "ipython3",
   "version": "3.8.8"
  }
 },
 "nbformat": 4,
 "nbformat_minor": 5
}
