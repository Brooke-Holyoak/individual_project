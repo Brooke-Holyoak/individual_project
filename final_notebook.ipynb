{
 "cells": [
  {
   "cell_type": "code",
   "execution_count": 56,
   "id": "060de936-6a76-4988-bf7b-cd1c0f00e12b",
   "metadata": {
    "jupyter": {
     "source_hidden": true
    },
    "tags": []
   },
   "outputs": [],
   "source": [
    "import pandas as pd\n",
    "import numpy as np\n",
    "import os\n",
    "import matplotlib.pyplot as plt\n",
    "import seaborn as sns\n",
    "\n",
    "# no yelling in the library\n",
    "import warnings\n",
    "warnings.filterwarnings(\"ignore\")\n",
    "\n",
    "from sklearn.metrics import mean_squared_error\n",
    "from sklearn.model_selection import train_test_split\n",
    "from math import sqrt\n",
    "import scipy.stats as stats\n",
    "\n",
    "# modeling and evaluating\n",
    "from sklearn.linear_model import LogisticRegression\n",
    "from sklearn.metrics import classification_report, confusion_matrix, precision_score, recall_score, accuracy_score\n",
    "\n",
    "import explore\n",
    "import acquire"
   ]
  },
  {
   "cell_type": "markdown",
   "id": "36554264-e14d-46c2-b40a-8ab3f3eaffa3",
   "metadata": {},
   "source": [
    "## Executive Summary:\n",
    "\n",
    "### Project Goal: What features of randomly played music will induce emotions of vitality (labeled \"energized\"?\n",
    "\n",
    "### Key Findings: A Random Forest Classifier performed the best across the train, validate and test data sets. (Roughly 75% for all three, beating baseline accuracy by 12%) I discovered through EDA and a simple Logistic Regression model that the most important features for inducing energized emotions while listening to randomly played tracks, are: liking the song, having a fast tempo (108-156 BPM) and being classical in genre. \n",
    "*****\n",
    "*****\n",
    "# Aquire and Prep Data\n",
    "*****\n",
    "*****"
   ]
  },
  {
   "cell_type": "markdown",
   "id": "90f5f55c-b675-4829-8ad1-90f6f4fcbcbf",
   "metadata": {},
   "source": [
    "## Acquire data frame from two csv files"
   ]
  },
  {
   "cell_type": "code",
   "execution_count": 2,
   "id": "6972b67e-1907-4f76-8fcf-befe0fe8d820",
   "metadata": {},
   "outputs": [],
   "source": [
    "emotify_plus_df = acquire.new_data()"
   ]
  },
  {
   "cell_type": "markdown",
   "id": "bb4f97ca-261f-4899-a4d3-ba5e598a5df5",
   "metadata": {},
   "source": [
    "## Prepare and clean data prior to splitting into train, validate and test"
   ]
  },
  {
   "cell_type": "code",
   "execution_count": 3,
   "id": "9a5952b1-dbcb-4e0a-a17e-85cf37f5dd74",
   "metadata": {},
   "outputs": [],
   "source": [
    "df1 = acquire.prep_data(emotify_plus_df)"
   ]
  },
  {
   "cell_type": "code",
   "execution_count": 4,
   "id": "a1db20ac-7b96-450a-852d-bf8a217418bd",
   "metadata": {
    "jupyter": {
     "source_hidden": true
    },
    "tags": []
   },
   "outputs": [
    {
     "data": {
      "text/html": [
       "<div>\n",
       "<style scoped>\n",
       "    .dataframe tbody tr th:only-of-type {\n",
       "        vertical-align: middle;\n",
       "    }\n",
       "\n",
       "    .dataframe tbody tr th {\n",
       "        vertical-align: top;\n",
       "    }\n",
       "\n",
       "    .dataframe thead th {\n",
       "        text-align: right;\n",
       "    }\n",
       "</style>\n",
       "<table border=\"1\" class=\"dataframe\">\n",
       "  <thead>\n",
       "    <tr style=\"text-align: right;\">\n",
       "      <th></th>\n",
       "      <th>0</th>\n",
       "    </tr>\n",
       "  </thead>\n",
       "  <tbody>\n",
       "    <tr>\n",
       "      <th>track_id</th>\n",
       "      <td>1</td>\n",
       "    </tr>\n",
       "    <tr>\n",
       "      <th>genre_x</th>\n",
       "      <td>classical</td>\n",
       "    </tr>\n",
       "    <tr>\n",
       "      <th>mood</th>\n",
       "      <td>3</td>\n",
       "    </tr>\n",
       "    <tr>\n",
       "      <th>age</th>\n",
       "      <td>21</td>\n",
       "    </tr>\n",
       "    <tr>\n",
       "      <th>gender</th>\n",
       "      <td>1</td>\n",
       "    </tr>\n",
       "    <tr>\n",
       "      <th>key</th>\n",
       "      <td>Dbm</td>\n",
       "    </tr>\n",
       "    <tr>\n",
       "      <th>minor_key</th>\n",
       "      <td>1</td>\n",
       "    </tr>\n",
       "    <tr>\n",
       "      <th>tempo</th>\n",
       "      <td>medium</td>\n",
       "    </tr>\n",
       "    <tr>\n",
       "      <th>liked</th>\n",
       "      <td>1</td>\n",
       "    </tr>\n",
       "    <tr>\n",
       "      <th>disliked</th>\n",
       "      <td>0</td>\n",
       "    </tr>\n",
       "    <tr>\n",
       "      <th>feel_sublime</th>\n",
       "      <td>1</td>\n",
       "    </tr>\n",
       "    <tr>\n",
       "      <th>agitated</th>\n",
       "      <td>1</td>\n",
       "    </tr>\n",
       "    <tr>\n",
       "      <th>energized</th>\n",
       "      <td>1</td>\n",
       "    </tr>\n",
       "    <tr>\n",
       "      <th>electronic</th>\n",
       "      <td>0</td>\n",
       "    </tr>\n",
       "    <tr>\n",
       "      <th>pop</th>\n",
       "      <td>0</td>\n",
       "    </tr>\n",
       "    <tr>\n",
       "      <th>rock</th>\n",
       "      <td>0</td>\n",
       "    </tr>\n",
       "    <tr>\n",
       "      <th>medium</th>\n",
       "      <td>1</td>\n",
       "    </tr>\n",
       "    <tr>\n",
       "      <th>fast</th>\n",
       "      <td>0</td>\n",
       "    </tr>\n",
       "    <tr>\n",
       "      <th>very_fast</th>\n",
       "      <td>0</td>\n",
       "    </tr>\n",
       "  </tbody>\n",
       "</table>\n",
       "</div>"
      ],
      "text/plain": [
       "                      0\n",
       "track_id              1\n",
       "genre_x       classical\n",
       "mood                  3\n",
       "age                  21\n",
       "gender                1\n",
       "key                 Dbm\n",
       "minor_key             1\n",
       "tempo            medium\n",
       "liked                 1\n",
       "disliked              0\n",
       "feel_sublime          1\n",
       "agitated              1\n",
       "energized             1\n",
       "electronic            0\n",
       "pop                   0\n",
       "rock                  0\n",
       "medium                1\n",
       "fast                  0\n",
       "very_fast             0"
      ]
     },
     "execution_count": 4,
     "metadata": {},
     "output_type": "execute_result"
    }
   ],
   "source": [
    "#sanity check\n",
    "df1.head(1).T"
   ]
  },
  {
   "cell_type": "code",
   "execution_count": 5,
   "id": "f60f0bd4-45bd-44c9-9085-1330639521d6",
   "metadata": {
    "jupyter": {
     "source_hidden": true
    },
    "tags": []
   },
   "outputs": [
    {
     "name": "stdout",
     "output_type": "stream",
     "text": [
      "<class 'pandas.core.frame.DataFrame'>\n",
      "Int64Index: 8407 entries, 0 to 8406\n",
      "Data columns (total 19 columns):\n",
      " #   Column        Non-Null Count  Dtype   \n",
      "---  ------        --------------  -----   \n",
      " 0   track_id      8407 non-null   int64   \n",
      " 1   genre_x       8407 non-null   object  \n",
      " 2   mood          8407 non-null   int64   \n",
      " 3   age           8407 non-null   int64   \n",
      " 4   gender        8407 non-null   int64   \n",
      " 5   key           8407 non-null   object  \n",
      " 6   minor_key     8407 non-null   int64   \n",
      " 7   tempo         8407 non-null   category\n",
      " 8   liked         8407 non-null   int64   \n",
      " 9   disliked      8407 non-null   int64   \n",
      " 10  feel_sublime  8407 non-null   int64   \n",
      " 11  agitated      8407 non-null   int64   \n",
      " 12  energized     8407 non-null   int64   \n",
      " 13  electronic    8407 non-null   uint8   \n",
      " 14  pop           8407 non-null   uint8   \n",
      " 15  rock          8407 non-null   uint8   \n",
      " 16  medium        8407 non-null   uint8   \n",
      " 17  fast          8407 non-null   uint8   \n",
      " 18  very_fast     8407 non-null   uint8   \n",
      "dtypes: category(1), int64(10), object(2), uint8(6)\n",
      "memory usage: 911.5+ KB\n"
     ]
    }
   ],
   "source": [
    "#sanity check\n",
    "df1.info()"
   ]
  },
  {
   "cell_type": "markdown",
   "id": "9c43e91d-3521-40ef-be96-5b323d379bce",
   "metadata": {},
   "source": [
    "## Split data into train, validate and test\n",
    "### Target for first iteration will be energized"
   ]
  },
  {
   "cell_type": "code",
   "execution_count": 6,
   "id": "f7079b2b-4ea4-41f1-86bb-1bc2bfdf5c29",
   "metadata": {},
   "outputs": [],
   "source": [
    "target = 'energized'\n",
    "df = df1\n",
    "train, validate, test = explore.train_validate_test_split(df, target, seed=123)"
   ]
  },
  {
   "cell_type": "code",
   "execution_count": 7,
   "id": "fafddb4f-fe16-435e-9f72-87c99a3640b0",
   "metadata": {
    "jupyter": {
     "source_hidden": true
    },
    "tags": []
   },
   "outputs": [
    {
     "name": "stdout",
     "output_type": "stream",
     "text": [
      "train -> (4707, 19)\n",
      "validate -> (2018, 19)\n",
      "test -> (1682, 19)\n"
     ]
    }
   ],
   "source": [
    "print(f'train -> {train.shape}')\n",
    "print(f'validate -> {validate.shape}')\n",
    "print(f'test -> {test.shape}')"
   ]
  },
  {
   "cell_type": "code",
   "execution_count": 8,
   "id": "c821c88f-aa95-4ab4-a2d5-4762713a725f",
   "metadata": {},
   "outputs": [
    {
     "data": {
      "text/html": [
       "<div>\n",
       "<style scoped>\n",
       "    .dataframe tbody tr th:only-of-type {\n",
       "        vertical-align: middle;\n",
       "    }\n",
       "\n",
       "    .dataframe tbody tr th {\n",
       "        vertical-align: top;\n",
       "    }\n",
       "\n",
       "    .dataframe thead th {\n",
       "        text-align: right;\n",
       "    }\n",
       "</style>\n",
       "<table border=\"1\" class=\"dataframe\">\n",
       "  <thead>\n",
       "    <tr style=\"text-align: right;\">\n",
       "      <th></th>\n",
       "      <th>track_id</th>\n",
       "      <th>genre_x</th>\n",
       "      <th>mood</th>\n",
       "      <th>age</th>\n",
       "      <th>gender</th>\n",
       "      <th>key</th>\n",
       "      <th>minor_key</th>\n",
       "      <th>tempo</th>\n",
       "      <th>liked</th>\n",
       "      <th>disliked</th>\n",
       "      <th>feel_sublime</th>\n",
       "      <th>agitated</th>\n",
       "      <th>energized</th>\n",
       "      <th>electronic</th>\n",
       "      <th>pop</th>\n",
       "      <th>rock</th>\n",
       "      <th>medium</th>\n",
       "      <th>fast</th>\n",
       "      <th>very_fast</th>\n",
       "    </tr>\n",
       "  </thead>\n",
       "  <tbody>\n",
       "    <tr>\n",
       "      <th>3845</th>\n",
       "      <td>139</td>\n",
       "      <td>rock</td>\n",
       "      <td>4</td>\n",
       "      <td>62</td>\n",
       "      <td>0</td>\n",
       "      <td>Abm</td>\n",
       "      <td>1</td>\n",
       "      <td>fast</td>\n",
       "      <td>1</td>\n",
       "      <td>0</td>\n",
       "      <td>0</td>\n",
       "      <td>1</td>\n",
       "      <td>1</td>\n",
       "      <td>0</td>\n",
       "      <td>0</td>\n",
       "      <td>1</td>\n",
       "      <td>0</td>\n",
       "      <td>1</td>\n",
       "      <td>0</td>\n",
       "    </tr>\n",
       "  </tbody>\n",
       "</table>\n",
       "</div>"
      ],
      "text/plain": [
       "      track_id genre_x  mood  age  gender  key  minor_key tempo  liked  \\\n",
       "3845       139    rock     4   62       0  Abm          1  fast      1   \n",
       "\n",
       "      disliked  feel_sublime  agitated  energized  electronic  pop  rock  \\\n",
       "3845         0             0         1          1           0    0     1   \n",
       "\n",
       "      medium  fast  very_fast  \n",
       "3845       0     1          0  "
      ]
     },
     "execution_count": 8,
     "metadata": {},
     "output_type": "execute_result"
    }
   ],
   "source": [
    "#sanity check, visualize one row of train\n",
    "train.head(1)"
   ]
  },
  {
   "cell_type": "markdown",
   "id": "d4166162-1861-4a5b-a1cc-374026a8a433",
   "metadata": {},
   "source": [
    "****\n",
    "****\n",
    "# Exploratory Data Analysis\n",
    "****\n",
    "****"
   ]
  },
  {
   "cell_type": "markdown",
   "id": "e5c3985f-1ac0-469e-b68f-b0508b69eedb",
   "metadata": {},
   "source": [
    "### Visualize features and some prelimary investigating of feature relationships\n"
   ]
  },
  {
   "cell_type": "code",
   "execution_count": 9,
   "id": "47d5db6e-8224-4813-9368-fee19d0530a4",
   "metadata": {},
   "outputs": [
    {
     "name": "stdout",
     "output_type": "stream",
     "text": [
      "<class 'pandas.core.frame.DataFrame'>\n",
      "Int64Index: 4707 entries, 3845 to 3653\n",
      "Data columns (total 19 columns):\n",
      " #   Column        Non-Null Count  Dtype   \n",
      "---  ------        --------------  -----   \n",
      " 0   track_id      4707 non-null   int64   \n",
      " 1   genre_x       4707 non-null   object  \n",
      " 2   mood          4707 non-null   int64   \n",
      " 3   age           4707 non-null   int64   \n",
      " 4   gender        4707 non-null   int64   \n",
      " 5   key           4707 non-null   object  \n",
      " 6   minor_key     4707 non-null   int64   \n",
      " 7   tempo         4707 non-null   category\n",
      " 8   liked         4707 non-null   int64   \n",
      " 9   disliked      4707 non-null   int64   \n",
      " 10  feel_sublime  4707 non-null   int64   \n",
      " 11  agitated      4707 non-null   int64   \n",
      " 12  energized     4707 non-null   int64   \n",
      " 13  electronic    4707 non-null   uint8   \n",
      " 14  pop           4707 non-null   uint8   \n",
      " 15  rock          4707 non-null   uint8   \n",
      " 16  medium        4707 non-null   uint8   \n",
      " 17  fast          4707 non-null   uint8   \n",
      " 18  very_fast     4707 non-null   uint8   \n",
      "dtypes: category(1), int64(10), object(2), uint8(6)\n",
      "memory usage: 510.4+ KB\n"
     ]
    }
   ],
   "source": [
    "train.info()"
   ]
  },
  {
   "cell_type": "code",
   "execution_count": 10,
   "id": "f51586a8-8065-4b87-ac99-2a6ac3fd6a72",
   "metadata": {
    "jupyter": {
     "source_hidden": true
    },
    "tags": []
   },
   "outputs": [],
   "source": [
    "cat_vars = ['genre_x', 'mood', 'gender', 'key', 'minor_key', 'tempo', 'liked', 'disliked', 'feel_sublime', 'agitated']\n",
    "quant_vars = ['track_id', 'age']\n",
    "cat_var = ['genre_x', 'mood', 'gender', 'key', 'minor_key', 'tempo', 'liked', 'disliked', 'feel_sublime', 'agitated']\n",
    "quant_var = ['track_id', 'age']"
   ]
  },
  {
   "cell_type": "code",
   "execution_count": 14,
   "id": "95e9d4a5-2fd5-459d-a071-c619f1cec052",
   "metadata": {
    "jupyter": {
     "source_hidden": true
    },
    "tags": []
   },
   "outputs": [
    {
     "data": {
      "image/png": "[encoded data removed]",
      "text/plain": [
       "<Figure size 432x288 with 1 Axes>"
      ]
     },
     "metadata": {
      "needs_background": "light"
     },
     "output_type": "display_data"
    },
    {
     "data": {
      "image/png": "[encoded data removed]",
      "text/plain": [
       "<Figure size 432x288 with 1 Axes>"
      ]
     },
     "metadata": {
      "needs_background": "light"
     },
     "output_type": "display_data"
    },
    {
     "data": {
      "image/png": "[encoded data removed]",
      "text/plain": [
       "<Figure size 432x288 with 1 Axes>"
      ]
     },
     "metadata": {
      "needs_background": "light"
     },
     "output_type": "display_data"
    },
    {
     "data": {
      "image/png": "[encoded data removed]",
      "text/plain": [
       "<Figure size 432x288 with 1 Axes>"
      ]
     },
     "metadata": {
      "needs_background": "light"
     },
     "output_type": "display_data"
    },
    {
     "data": {
      "image/png": "[encoded data removed]",
      "text/plain": [
       "<Figure size 432x288 with 1 Axes>"
      ]
     },
     "metadata": {
      "needs_background": "light"
     },
     "output_type": "display_data"
    },
    {
     "data": {
      "image/png": "[encoded data removed]",
      "text/plain": [
       "<Figure size 432x288 with 1 Axes>"
      ]
     },
     "metadata": {
      "needs_background": "light"
     },
     "output_type": "display_data"
    }
   ],
   "source": [
    "cols = ['genre_x', 'mood', 'age', 'tempo', 'gender', 'track_id']\n",
    "for col in cols:\n",
    "    plt.hist(train[col], color='purple')\n",
    "    plt.title(col)\n",
    "    plt.show()"
   ]
  },
  {
   "cell_type": "code",
   "execution_count": 15,
   "id": "57c463fa-e73e-41da-b5aa-c2cfb00c85b7",
   "metadata": {
    "jupyter": {
     "source_hidden": true
    },
    "tags": []
   },
   "outputs": [
    {
     "data": {
      "image/png": "[encoded data removed]",
      "text/plain": [
       "<Figure size 1080x720 with 1 Axes>"
      ]
     },
     "metadata": {
      "needs_background": "light"
     },
     "output_type": "display_data"
    },
    {
     "data": {
      "image/png": "[encoded data removed]",
      "text/plain": [
       "<Figure size 1080x720 with 1 Axes>"
      ]
     },
     "metadata": {
      "needs_background": "light"
     },
     "output_type": "display_data"
    },
    {
     "data": {
      "image/png": "[encoded data removed]",
      "text/plain": [
       "<Figure size 1080x720 with 1 Axes>"
      ]
     },
     "metadata": {
      "needs_background": "light"
     },
     "output_type": "display_data"
    },
    {
     "data": {
      "image/png": "[encoded data removed]",
      "text/plain": [
       "<Figure size 1080x720 with 1 Axes>"
      ]
     },
     "metadata": {
      "needs_background": "light"
     },
     "output_type": "display_data"
    },
    {
     "data": {
      "image/png": "[encoded data removed]",
      "text/plain": [
       "<Figure size 1080x720 with 1 Axes>"
      ]
     },
     "metadata": {
      "needs_background": "light"
     },
     "output_type": "display_data"
    }
   ],
   "source": [
    "\n",
    "cols = ['genre_x', 'mood', 'age', 'key', 'tempo']\n",
    "\n",
    "for col in cols:\n",
    "    plt.figure(figsize=(15,10))\n",
    "    sns.countplot(x = col, data=train, palette='Purples', ec='black', linewidth=2)\n",
    "\n",
    "    plt.title('Distribution of ' + col)\n",
    "    plt.xlabel('')\n",
    "    plt.ylabel('Number of Single Listens')\n",
    "\n",
    "    plt.show()"
   ]
  },
  {
   "cell_type": "markdown",
   "id": "a8cea842-d800-4843-88e3-209775c45625",
   "metadata": {},
   "source": [
    "#### Key is a feature that is hard to interpret visually. Here is a horizontal bar graph to better visualize."
   ]
  },
  {
   "cell_type": "code",
   "execution_count": 16,
   "id": "a242a104-9c31-413a-aa9c-039532f47323",
   "metadata": {
    "jupyter": {
     "source_hidden": true
    },
    "tags": []
   },
   "outputs": [
    {
     "data": {
      "text/plain": [
       "<AxesSubplot:>"
      ]
     },
     "execution_count": 16,
     "metadata": {},
     "output_type": "execute_result"
    },
    {
     "data": {
      "image/png": "[encoded data removed]",
      "text/plain": [
       "<Figure size 1440x720 with 1 Axes>"
      ]
     },
     "metadata": {
      "needs_background": "light"
     },
     "output_type": "display_data"
    }
   ],
   "source": [
    "train['key'].value_counts().plot(kind='barh', figsize=(20,10))"
   ]
  },
  {
   "cell_type": "markdown",
   "id": "aa3d8f78-04fb-4e51-9fce-db98b50128d0",
   "metadata": {},
   "source": [
    "### Takeaways from visualizing simple distributions:\n",
    "    - Nothing is really that normal: genre_x, mood and age are somewhat normal in shape\n",
    "    - The songs are largely unfamiliar, yet there are songs that were listened to more often than others.\n",
    "        - Tracks 1-35, 75-110, 205-240, 280-320 look like they got more listens.\n",
    "    - Gender is likely not a driving factor since they are about evenly distributed\n",
    "    - Most songs are in the key of A minor\n",
    "    - Most songs are a medium to fast tempo\n",
    "    - Most listeners are in a okay(3) to good(4) mood.\n",
    "    - Most listens were of classical music, although not by that much. \n",
    "    - The fewest listens were of electronic music."
   ]
  },
  {
   "cell_type": "code",
   "execution_count": 18,
   "id": "abae6ade-c694-4934-8046-5f3b130ace91",
   "metadata": {},
   "outputs": [
    {
     "data": {
      "text/html": [
       "<div>\n",
       "<style scoped>\n",
       "    .dataframe tbody tr th:only-of-type {\n",
       "        vertical-align: middle;\n",
       "    }\n",
       "\n",
       "    .dataframe tbody tr th {\n",
       "        vertical-align: top;\n",
       "    }\n",
       "\n",
       "    .dataframe thead th {\n",
       "        text-align: right;\n",
       "    }\n",
       "</style>\n",
       "<table border=\"1\" class=\"dataframe\">\n",
       "  <thead>\n",
       "    <tr style=\"text-align: right;\">\n",
       "      <th></th>\n",
       "      <th>track_id</th>\n",
       "      <th>mood</th>\n",
       "      <th>age</th>\n",
       "      <th>gender</th>\n",
       "      <th>minor_key</th>\n",
       "      <th>liked</th>\n",
       "      <th>disliked</th>\n",
       "      <th>feel_sublime</th>\n",
       "      <th>agitated</th>\n",
       "      <th>energized</th>\n",
       "      <th>electronic</th>\n",
       "      <th>pop</th>\n",
       "      <th>rock</th>\n",
       "      <th>medium</th>\n",
       "      <th>fast</th>\n",
       "      <th>very_fast</th>\n",
       "    </tr>\n",
       "  </thead>\n",
       "  <tbody>\n",
       "    <tr>\n",
       "      <th>count</th>\n",
       "      <td>4707.000000</td>\n",
       "      <td>4707.000000</td>\n",
       "      <td>4707.000000</td>\n",
       "      <td>4707.000000</td>\n",
       "      <td>4707.000000</td>\n",
       "      <td>4707.000000</td>\n",
       "      <td>4707.000000</td>\n",
       "      <td>4707.000000</td>\n",
       "      <td>4707.00000</td>\n",
       "      <td>4707.000000</td>\n",
       "      <td>4707.000000</td>\n",
       "      <td>4707.000000</td>\n",
       "      <td>4707.000000</td>\n",
       "      <td>4707.000000</td>\n",
       "      <td>4707.000000</td>\n",
       "      <td>4707.000000</td>\n",
       "    </tr>\n",
       "    <tr>\n",
       "      <th>mean</th>\n",
       "      <td>169.165498</td>\n",
       "      <td>3.489696</td>\n",
       "      <td>32.019333</td>\n",
       "      <td>0.455492</td>\n",
       "      <td>0.533886</td>\n",
       "      <td>0.391120</td>\n",
       "      <td>0.205651</td>\n",
       "      <td>0.706607</td>\n",
       "      <td>0.36690</td>\n",
       "      <td>0.369025</td>\n",
       "      <td>0.212237</td>\n",
       "      <td>0.219035</td>\n",
       "      <td>0.239218</td>\n",
       "      <td>0.465477</td>\n",
       "      <td>0.353728</td>\n",
       "      <td>0.131719</td>\n",
       "    </tr>\n",
       "    <tr>\n",
       "      <th>std</th>\n",
       "      <td>117.142080</td>\n",
       "      <td>0.995768</td>\n",
       "      <td>12.507586</td>\n",
       "      <td>0.498068</td>\n",
       "      <td>0.498903</td>\n",
       "      <td>0.488053</td>\n",
       "      <td>0.404220</td>\n",
       "      <td>0.455365</td>\n",
       "      <td>0.48201</td>\n",
       "      <td>0.482592</td>\n",
       "      <td>0.408935</td>\n",
       "      <td>0.413637</td>\n",
       "      <td>0.426652</td>\n",
       "      <td>0.498860</td>\n",
       "      <td>0.478177</td>\n",
       "      <td>0.338221</td>\n",
       "    </tr>\n",
       "    <tr>\n",
       "      <th>min</th>\n",
       "      <td>1.000000</td>\n",
       "      <td>1.000000</td>\n",
       "      <td>5.000000</td>\n",
       "      <td>0.000000</td>\n",
       "      <td>0.000000</td>\n",
       "      <td>0.000000</td>\n",
       "      <td>0.000000</td>\n",
       "      <td>0.000000</td>\n",
       "      <td>0.00000</td>\n",
       "      <td>0.000000</td>\n",
       "      <td>0.000000</td>\n",
       "      <td>0.000000</td>\n",
       "      <td>0.000000</td>\n",
       "      <td>0.000000</td>\n",
       "      <td>0.000000</td>\n",
       "      <td>0.000000</td>\n",
       "    </tr>\n",
       "    <tr>\n",
       "      <th>25%</th>\n",
       "      <td>62.000000</td>\n",
       "      <td>3.000000</td>\n",
       "      <td>23.000000</td>\n",
       "      <td>0.000000</td>\n",
       "      <td>0.000000</td>\n",
       "      <td>0.000000</td>\n",
       "      <td>0.000000</td>\n",
       "      <td>0.000000</td>\n",
       "      <td>0.00000</td>\n",
       "      <td>0.000000</td>\n",
       "      <td>0.000000</td>\n",
       "      <td>0.000000</td>\n",
       "      <td>0.000000</td>\n",
       "      <td>0.000000</td>\n",
       "      <td>0.000000</td>\n",
       "      <td>0.000000</td>\n",
       "    </tr>\n",
       "    <tr>\n",
       "      <th>50%</th>\n",
       "      <td>160.000000</td>\n",
       "      <td>4.000000</td>\n",
       "      <td>28.000000</td>\n",
       "      <td>0.000000</td>\n",
       "      <td>1.000000</td>\n",
       "      <td>0.000000</td>\n",
       "      <td>0.000000</td>\n",
       "      <td>1.000000</td>\n",
       "      <td>0.00000</td>\n",
       "      <td>0.000000</td>\n",
       "      <td>0.000000</td>\n",
       "      <td>0.000000</td>\n",
       "      <td>0.000000</td>\n",
       "      <td>0.000000</td>\n",
       "      <td>0.000000</td>\n",
       "      <td>0.000000</td>\n",
       "    </tr>\n",
       "    <tr>\n",
       "      <th>75%</th>\n",
       "      <td>275.000000</td>\n",
       "      <td>4.000000</td>\n",
       "      <td>38.000000</td>\n",
       "      <td>1.000000</td>\n",
       "      <td>1.000000</td>\n",
       "      <td>1.000000</td>\n",
       "      <td>0.000000</td>\n",
       "      <td>1.000000</td>\n",
       "      <td>1.00000</td>\n",
       "      <td>1.000000</td>\n",
       "      <td>0.000000</td>\n",
       "      <td>0.000000</td>\n",
       "      <td>0.000000</td>\n",
       "      <td>1.000000</td>\n",
       "      <td>1.000000</td>\n",
       "      <td>0.000000</td>\n",
       "    </tr>\n",
       "    <tr>\n",
       "      <th>max</th>\n",
       "      <td>400.000000</td>\n",
       "      <td>5.000000</td>\n",
       "      <td>99.000000</td>\n",
       "      <td>1.000000</td>\n",
       "      <td>1.000000</td>\n",
       "      <td>1.000000</td>\n",
       "      <td>1.000000</td>\n",
       "      <td>1.000000</td>\n",
       "      <td>1.00000</td>\n",
       "      <td>1.000000</td>\n",
       "      <td>1.000000</td>\n",
       "      <td>1.000000</td>\n",
       "      <td>1.000000</td>\n",
       "      <td>1.000000</td>\n",
       "      <td>1.000000</td>\n",
       "      <td>1.000000</td>\n",
       "    </tr>\n",
       "  </tbody>\n",
       "</table>\n",
       "</div>"
      ],
      "text/plain": [
       "          track_id         mood          age       gender    minor_key  \\\n",
       "count  4707.000000  4707.000000  4707.000000  4707.000000  4707.000000   \n",
       "mean    169.165498     3.489696    32.019333     0.455492     0.533886   \n",
       "std     117.142080     0.995768    12.507586     0.498068     0.498903   \n",
       "min       1.000000     1.000000     5.000000     0.000000     0.000000   \n",
       "25%      62.000000     3.000000    23.000000     0.000000     0.000000   \n",
       "50%     160.000000     4.000000    28.000000     0.000000     1.000000   \n",
       "75%     275.000000     4.000000    38.000000     1.000000     1.000000   \n",
       "max     400.000000     5.000000    99.000000     1.000000     1.000000   \n",
       "\n",
       "             liked     disliked  feel_sublime    agitated    energized  \\\n",
       "count  4707.000000  4707.000000   4707.000000  4707.00000  4707.000000   \n",
       "mean      0.391120     0.205651      0.706607     0.36690     0.369025   \n",
       "std       0.488053     0.404220      0.455365     0.48201     0.482592   \n",
       "min       0.000000     0.000000      0.000000     0.00000     0.000000   \n",
       "25%       0.000000     0.000000      0.000000     0.00000     0.000000   \n",
       "50%       0.000000     0.000000      1.000000     0.00000     0.000000   \n",
       "75%       1.000000     0.000000      1.000000     1.00000     1.000000   \n",
       "max       1.000000     1.000000      1.000000     1.00000     1.000000   \n",
       "\n",
       "        electronic          pop         rock       medium         fast  \\\n",
       "count  4707.000000  4707.000000  4707.000000  4707.000000  4707.000000   \n",
       "mean      0.212237     0.219035     0.239218     0.465477     0.353728   \n",
       "std       0.408935     0.413637     0.426652     0.498860     0.478177   \n",
       "min       0.000000     0.000000     0.000000     0.000000     0.000000   \n",
       "25%       0.000000     0.000000     0.000000     0.000000     0.000000   \n",
       "50%       0.000000     0.000000     0.000000     0.000000     0.000000   \n",
       "75%       0.000000     0.000000     0.000000     1.000000     1.000000   \n",
       "max       1.000000     1.000000     1.000000     1.000000     1.000000   \n",
       "\n",
       "         very_fast  \n",
       "count  4707.000000  \n",
       "mean      0.131719  \n",
       "std       0.338221  \n",
       "min       0.000000  \n",
       "25%       0.000000  \n",
       "50%       0.000000  \n",
       "75%       0.000000  \n",
       "max       1.000000  "
      ]
     },
     "execution_count": 18,
     "metadata": {},
     "output_type": "execute_result"
    }
   ],
   "source": [
    "train.describe()"
   ]
  },
  {
   "cell_type": "code",
   "execution_count": 22,
   "id": "4da069af-bf75-442c-bf66-734d004777c1",
   "metadata": {
    "jupyter": {
     "source_hidden": true
    },
    "tags": []
   },
   "outputs": [
    {
     "data": {
      "image/png": "[encoded data removed]",
      "text/plain": [
       "<Figure size 432x288 with 2 Axes>"
      ]
     },
     "metadata": {
      "needs_background": "light"
     },
     "output_type": "display_data"
    }
   ],
   "source": [
    "plt.subplot(211)\n",
    "\n",
    "sns.countplot(x = 'mood', data=train, palette='Purples', ec='black', linewidth=2)\n",
    "\n",
    "plt.title('How Does a Listeners Initial Mood Affect Induced Energy?')\n",
    "plt.xlabel('')\n",
    "plt.ylabel('')\n",
    "\n",
    "plt.subplot(212)\n",
    "\n",
    "# use hue to add another dimension to your viz\n",
    "sns.countplot(x = 'mood', hue = 'energized', data=train, palette='Blues', ec='black', linewidth=2)\n",
    "\n",
    "plt.legend(['Not Energized', 'Energized'])\n",
    "\n",
    "plt.show()"
   ]
  },
  {
   "cell_type": "markdown",
   "id": "2fff1d3a-1318-4f6d-9a45-a5dcb31ead35",
   "metadata": {},
   "source": [
    "#### While there isn't a majority of songs that induce engergized emotions based on mood, it is interesting to see that regardless of mood, it appears that the chances of becoming energized while listening to music is about the same. (with the exception of very good mood and very bad mood where it's about half and half chance the listener will be energized)"
   ]
  },
  {
   "cell_type": "code",
   "execution_count": 28,
   "id": "38e36966-b94e-4197-b928-de0059dc8cc7",
   "metadata": {
    "jupyter": {
     "source_hidden": true
    },
    "tags": []
   },
   "outputs": [
    {
     "data": {
      "image/png": "[encoded data removed]",
      "text/plain": [
       "<Figure size 432x288 with 2 Axes>"
      ]
     },
     "metadata": {
      "needs_background": "light"
     },
     "output_type": "display_data"
    }
   ],
   "source": [
    "plt.subplot(211)\n",
    "\n",
    "sns.countplot(x = 'minor_key', data=train, palette='Purples', ec='black', linewidth=2)\n",
    "\n",
    "plt.title('How Does a Songs Soronity Affect Induced Energy?')\n",
    "plt.xlabel('')\n",
    "plt.ylabel('')\n",
    "\n",
    "\n",
    "plt.subplot(212)\n",
    "\n",
    "# use hue to add another dimension to your viz\n",
    "sns.countplot(x = 'minor_key', hue = 'energized', data=train, palette='Blues', ec='black', linewidth=2)\n",
    "\n",
    "plt.legend(['Not Energized', 'Energized'])\n",
    "\n",
    "plt.show()"
   ]
  },
  {
   "cell_type": "markdown",
   "id": "9a45bfd6-f0d8-42ce-bdb3-cd9e85d3041e",
   "metadata": {},
   "source": [
    "#### The above charts seems to show that major and minor sonority have about the same affect of not energizing the listener.\n",
    "#### This is a bit suprising considering that most people associate happiness with major sonority,and sadness with minor sonority.\n",
    "#### I am pretty interested that it appears that nearly half of the songs in minor keys energized the listener."
   ]
  },
  {
   "cell_type": "code",
   "execution_count": 29,
   "id": "1de7d9f5-4c7e-4297-a4fc-552ab405e64f",
   "metadata": {
    "jupyter": {
     "source_hidden": true
    },
    "tags": []
   },
   "outputs": [
    {
     "data": {
      "image/png": "[encoded data removed]",
      "text/plain": [
       "<Figure size 432x288 with 2 Axes>"
      ]
     },
     "metadata": {
      "needs_background": "light"
     },
     "output_type": "display_data"
    }
   ],
   "source": [
    "plt.subplot(211)\n",
    "\n",
    "sns.countplot(x = 'genre_x', data=train, palette='Purples', ec='black', linewidth=2)\n",
    "\n",
    "plt.title('How Does a Songs Genre Affect Induced Energy?')\n",
    "plt.xlabel('')\n",
    "plt.ylabel('')\n",
    "\n",
    "\n",
    "plt.subplot(212)\n",
    "\n",
    "# use hue to add another dimension to your viz\n",
    "sns.countplot(x = 'genre_x', hue = 'energized', data=train, palette='Blues', ec='black', linewidth=2)\n",
    "\n",
    "plt.legend(['Not Energized', 'Energized'])\n",
    "\n",
    "plt.show()"
   ]
  },
  {
   "cell_type": "markdown",
   "id": "515c558b-95ee-4de8-b667-f28dfb347a94",
   "metadata": {},
   "source": [
    "#### From this chart, it appears that genre, specifically pop, classical and rock have more chance of not engergizing the listener."
   ]
  },
  {
   "cell_type": "code",
   "execution_count": 30,
   "id": "32942ac5-1fb8-4154-9439-dbd2f6e5dce8",
   "metadata": {
    "jupyter": {
     "source_hidden": true
    },
    "tags": []
   },
   "outputs": [
    {
     "data": {
      "image/png": "[encoded data removed]",
      "text/plain": [
       "<Figure size 432x288 with 2 Axes>"
      ]
     },
     "metadata": {
      "needs_background": "light"
     },
     "output_type": "display_data"
    }
   ],
   "source": [
    "plt.subplot(211)\n",
    "\n",
    "sns.countplot(x = 'tempo', data=train, palette='Purples', ec='black', linewidth=2)\n",
    "\n",
    "plt.title('How Does a Songs Tempo Affect Induced Energy?')\n",
    "plt.xlabel('')\n",
    "plt.ylabel('')\n",
    "\n",
    "\n",
    "plt.subplot(212)\n",
    "\n",
    "# use hue to add another dimension to your viz\n",
    "sns.countplot(x = 'tempo', hue = 'energized', data=train, palette='Blues', ec='black', linewidth=2)\n",
    "\n",
    "plt.legend(['Not Energized', 'Energized'])\n",
    "\n",
    "plt.show()"
   ]
  },
  {
   "cell_type": "markdown",
   "id": "7c356702-389e-4404-807c-43e7e8056763",
   "metadata": {},
   "source": [
    "#### This plot is curious to me. While no tempo group shows it caused more energized emotions, it does appear that medium and slow tempo songs cause the listener to more likely be not energized. Very fast tempos appear to have a bit of a majority not energized, and fast tempo seems to be causing about half and half. While this doesn't support my initial hunch that fast and very fast tempos will energize a listener, it does appear that tempo may have a strong relationship with induced emotions."
   ]
  },
  {
   "cell_type": "code",
   "execution_count": 31,
   "id": "66158917-fffa-41de-ac77-06248068d1d5",
   "metadata": {
    "jupyter": {
     "source_hidden": true
    },
    "tags": []
   },
   "outputs": [
    {
     "data": {
      "image/png": "[encoded data removed]",
      "text/plain": [
       "<Figure size 432x288 with 2 Axes>"
      ]
     },
     "metadata": {
      "needs_background": "light"
     },
     "output_type": "display_data"
    }
   ],
   "source": [
    "plt.subplot(211)\n",
    "\n",
    "sns.countplot(x = 'gender', data=train, palette='Purples', ec='black', linewidth=2)\n",
    "\n",
    "plt.title('How Does a Listeners Gender Affect Induced Energy?')\n",
    "plt.xlabel('')\n",
    "plt.ylabel('')\n",
    "\n",
    "\n",
    "plt.subplot(212)\n",
    "\n",
    "# use hue to add another dimension to your viz\n",
    "sns.countplot(x = 'gender', hue = 'energized', data=train, palette='Blues', ec='black', linewidth=2)\n",
    "\n",
    "plt.legend(['Not Energized', 'Energized'])\n",
    "\n",
    "plt.show()"
   ]
  },
  {
   "cell_type": "markdown",
   "id": "75dafffa-de80-41cf-8337-5cb1286e8d4a",
   "metadata": {},
   "source": [
    "#### There seems to be no difference in energized and not engergized.  I will consider this to be a lower factor in my target, and choose to explore other features."
   ]
  },
  {
   "cell_type": "code",
   "execution_count": 34,
   "id": "8a938169-3d2b-429b-b461-32b22976429e",
   "metadata": {
    "jupyter": {
     "source_hidden": true
    },
    "tags": []
   },
   "outputs": [
    {
     "data": {
      "image/png": "[encoded data removed]",
      "text/plain": [
       "<Figure size 432x288 with 1 Axes>"
      ]
     },
     "metadata": {
      "needs_background": "light"
     },
     "output_type": "display_data"
    }
   ],
   "source": [
    "sns.scatterplot(x='track_id', y='age', data=train, hue='energized')\n",
    "plt.title('No Real Relationship Between Age and Track_ID')\n",
    "plt.xlabel('Track ID')\n",
    "plt.ylabel('Age')\n",
    "\n",
    "plt.show()"
   ]
  },
  {
   "cell_type": "markdown",
   "id": "67d68c7d-eb10-47bb-976e-ae62ec58413c",
   "metadata": {},
   "source": [
    "#### I notice there are some areas where the target is mixed, but you can see what look like bands of orange.\n",
    "#### Around track 20-25 there seems to be a band of orange. (classical songs)\n",
    "#### Around track 200-300: it appears there is more orange than blue (pop songs)\n",
    "#### Around track 190-200 there is a lot of orange for listeners younger than 40. (pop songs)\n",
    "#### Around track 250-290 there is a lot of orange for listeners over 30.(pop songs)\n",
    "#### There are also clusters of blue indicating that there might be something going on with those tracks that are causing the listener to not feel energized."
   ]
  },
  {
   "cell_type": "code",
   "execution_count": 83,
   "id": "7bfd8b4c-fea8-48cf-8dd0-169fde2fe309",
   "metadata": {
    "jupyter": {
     "source_hidden": true
    },
    "tags": []
   },
   "outputs": [
    {
     "data": {
      "text/plain": [
       "<AxesSubplot:>"
      ]
     },
     "execution_count": 83,
     "metadata": {},
     "output_type": "execute_result"
    },
    {
     "data": {
      "image/png": "[encoded data removed]",
      "text/plain": [
       "<Figure size 432x288 with 2 Axes>"
      ]
     },
     "metadata": {
      "needs_background": "light"
     },
     "output_type": "display_data"
    }
   ],
   "source": [
    "sns.heatmap(train[['track_id', 'mood', 'age', 'gender', 'minor_key', 'liked', 'disliked', 'tempo', 'medium', 'fast', 'very_fast', 'feel_sublime', 'agitated', 'energized']].corr(), cmap='Purples', annot=False)"
   ]
  },
  {
   "cell_type": "markdown",
   "id": "48504de3-f8a8-4cb6-ae27-fbdf135875d5",
   "metadata": {},
   "source": [
    "#### It appears that fast, liked and mood are the top features here in the heatmap.\n",
    "****"
   ]
  },
  {
   "cell_type": "markdown",
   "id": "8eeb776b-ad7f-4a1d-b3b7-0f45b734071d",
   "metadata": {},
   "source": [
    "### After visualizing features, I will move forward with hypothesis testing:\n",
    "####     Single features having an effect on the outcome(target: induced energy)\n",
    "    All cat variables below\n",
    "    Null hypothesis: Tempo has no effect on induced energy. A Hypothesis: Induced energy is dependent on tempo. (chi2)\n",
    "    Null hypothesis: Major/Minor sonority has no effect on induced energy. A Hypothesis: Induced energy is dependent on major/minor sonority. (chi2)\n",
    "    Null hypothesis: Current mood state has no effect on induced energy. A Hypothesis: Is induced energy different across moods? (chi2)\n",
    "    Null hypothesis: Liking a song has no effect on induced energy. A Hypothesis: Is induced energy dependent on liking a song? ( chi2)\n",
    "    Null hypothesis: Genre has no effect on induced energy. A hypothesis: Is induced energy related to genre? (chi2)\n",
    "        \n",
    "####     2 features together vs 2 features together:\n",
    "    Two Cat var vs Two Cat:\n",
    "    Null hypothesis: Fast classical pieces and fast rock pieces have the same effect on the outcome. (relationship: chi2 or comparison Ttest?)\n",
    "    \n",
    "    \n",
    "\n",
    "####    Future iteration's hypotheses:     \n",
    "    Null Hypothesis: Certain keys have no significant difference in emotional response.\n",
    "    (ie Do certain keys yield more energized response than other keys?)\n",
    "    One Num var One Cat var vs One Num Var and One Cat Var\n",
    "    Null hypothesis: Older individuals listening to classical pieces and younger individuals listening to classical music have no difference of outcome. (comparison: ttest_ind, MannWhitneyU)\n",
    "    Null hypothesis: Older individuals listening to fast pieces and younger individuals listening to fast music have no difference of outcome.    (comparison: ttest_ind, scipy.stats.MannWhitneyU)\n",
    "    Null hypothesis: Older individuals listening to classical pieces have no difference of emotional outcome than the average listener to classical music. (comparison: ttest_1samp, MannWhitneyU\n",
    "        \n",
    "           \n",
    "            \n",
    "#### Since these are not life/death hypotheses, I am comfortable setting my confidence level at 95%.\n",
    "#### My alpha is therefore, .05\n",
    "#### Any p-value result lower than .05, we will reject the null hypothesis."
   ]
  },
  {
   "cell_type": "code",
   "execution_count": 94,
   "id": "137e9438-62dd-4435-9cd3-012543665f0f",
   "metadata": {},
   "outputs": [
    {
     "name": "stdout",
     "output_type": "stream",
     "text": [
      "['genre_x', 'mood', 'gender', 'key', 'minor_key', 'tempo', 'liked', 'disliked', 'feel_sublime', 'agitated']\n",
      "['track_id', 'age']\n"
     ]
    }
   ],
   "source": [
    "print(cat_vars)\n",
    "print(quant_vars)"
   ]
  },
  {
   "cell_type": "code",
   "execution_count": 95,
   "id": "ae901acd-40b8-4467-ab8c-035a006de86c",
   "metadata": {},
   "outputs": [
    {
     "name": "stdout",
     "output_type": "stream",
     "text": [
      "genre_x \n",
      "_____________________\n",
      "\n",
      "        chi2       p-value  degrees of freedom\n",
      "0  64.136624  7.674000e-14                   3\n",
      "\n",
      "observed:\n",
      " energized      0     1   All\n",
      "genre_x                     \n",
      "classical    989   562  1551\n",
      "electronic   551   448   999\n",
      "pop          742   289  1031\n",
      "rock         688   438  1126\n",
      "All         2970  1737  4707\n",
      "\n",
      "expected:\n",
      "             0           1\n",
      "0  978.642447  572.357553\n",
      "1  630.344168  368.655832\n",
      "2  650.535373  380.464627\n",
      "3  710.478011  415.521989\n"
     ]
    },
    {
     "data": {
      "image/png": "[encoded data removed]",
      "text/plain": [
       "<Figure size 144x144 with 1 Axes>"
      ]
     },
     "metadata": {
      "needs_background": "light"
     },
     "output_type": "display_data"
    },
    {
     "name": "stdout",
     "output_type": "stream",
     "text": [
      "\n",
      "_____________________\n",
      "\n",
      "mood \n",
      "_____________________\n",
      "\n",
      "       chi2  p-value  degrees of freedom\n",
      "0  8.917316   0.0632                   4\n",
      "\n",
      "observed:\n",
      " energized     0     1   All\n",
      "mood                       \n",
      "1           128    73   201\n",
      "2           314   141   455\n",
      "3           989   587  1576\n",
      "4          1123   665  1788\n",
      "5           416   271   687\n",
      "All        2970  1737  4707\n",
      "\n",
      "expected:\n",
      "              0           1\n",
      "0   126.826004   74.173996\n",
      "1   287.093690  167.906310\n",
      "2   994.416826  581.583174\n",
      "3  1128.183556  659.816444\n",
      "4   433.479924  253.520076\n"
     ]
    },
    {
     "data": {
      "image/png": "[encoded data removed]",
      "text/plain": [
       "<Figure size 144x144 with 1 Axes>"
      ]
     },
     "metadata": {
      "needs_background": "light"
     },
     "output_type": "display_data"
    },
    {
     "name": "stdout",
     "output_type": "stream",
     "text": [
      "\n",
      "_____________________\n",
      "\n",
      "gender \n",
      "_____________________\n",
      "\n",
      "      chi2   p-value  degrees of freedom\n",
      "0  0.00632  0.936636                   1\n",
      "\n",
      "observed:\n",
      " energized     0     1   All\n",
      "gender                     \n",
      "0          1619   944  2563\n",
      "1          1351   793  2144\n",
      "All        2970  1737  4707\n",
      "\n",
      "expected:\n",
      "              0           1\n",
      "0  1617.189293  945.810707\n",
      "1  1352.810707  791.189293\n"
     ]
    },
    {
     "data": {
      "image/png": "[encoded data removed]",
      "text/plain": [
       "<Figure size 144x144 with 1 Axes>"
      ]
     },
     "metadata": {
      "needs_background": "light"
     },
     "output_type": "display_data"
    },
    {
     "name": "stdout",
     "output_type": "stream",
     "text": [
      "\n",
      "_____________________\n",
      "\n",
      "key \n",
      "_____________________\n",
      "\n",
      "         chi2       p-value  degrees of freedom\n",
      "0  135.217173  2.795615e-18                  22\n",
      "\n",
      "observed:\n",
      " energized     0     1   All\n",
      "key                        \n",
      "A           179   107   286\n",
      "Ab           52    33    85\n",
      "Abm         111    80   191\n",
      "Am          261   175   436\n",
      "B           109   117   226\n",
      "Bbm         103    26   129\n",
      "Bm          140   109   249\n",
      "C           231    77   308\n",
      "Cm          101    50   151\n",
      "D           176   135   311\n",
      "Db           64     4    68\n",
      "Dbm         126    68   194\n",
      "Dm          104    65   169\n",
      "E           110    52   162\n",
      "Eb           36     8    44\n",
      "Ebm          92    67   159\n",
      "Em          123    79   202\n",
      "F           161    76   237\n",
      "Fm          115    82   197\n",
      "G           218   104   322\n",
      "Gb          109    36   145\n",
      "Gbm          76    47   123\n",
      "Gm          173   140   313\n",
      "All        2970  1737  4707\n",
      "\n",
      "expected:\n",
      "              0           1\n",
      "0   180.458891  105.541109\n",
      "1    53.632887   31.367113\n",
      "2   120.516252   70.483748\n",
      "3   275.105163  160.894837\n",
      "4   142.600382   83.399618\n",
      "5    81.395793   47.604207\n",
      "6   157.112811   91.887189\n",
      "7   194.340344  113.659656\n",
      "8    95.277247   55.722753\n",
      "9   196.233270  114.766730\n",
      "10   42.906310   25.093690\n",
      "11  122.409178   71.590822\n",
      "12  106.634799   62.365201\n",
      "13  102.217973   59.782027\n",
      "14   27.762906   16.237094\n",
      "15  100.325048   58.674952\n",
      "16  127.456979   74.543021\n",
      "17  149.541109   87.458891\n",
      "18  124.302103   72.697897\n",
      "19  203.173996  118.826004\n",
      "20   91.491396   53.508604\n",
      "21   77.609943   45.390057\n",
      "22  197.495220  115.504780\n"
     ]
    },
    {
     "data": {
      "image/png": "[encoded data removed]",
      "text/plain": [
       "<Figure size 144x144 with 1 Axes>"
      ]
     },
     "metadata": {
      "needs_background": "light"
     },
     "output_type": "display_data"
    },
    {
     "name": "stdout",
     "output_type": "stream",
     "text": [
      "\n",
      "_____________________\n",
      "\n",
      "minor_key \n",
      "_____________________\n",
      "\n",
      "        chi2   p-value  degrees of freedom\n",
      "0  13.261169  0.000271                   1\n",
      "\n",
      "observed:\n",
      " energized     0     1   All\n",
      "minor_key                  \n",
      "0          1445   749  2194\n",
      "1          1525   988  2513\n",
      "All        2970  1737  4707\n",
      "\n",
      "expected:\n",
      "              0           1\n",
      "0  1384.359465  809.640535\n",
      "1  1585.640535  927.359465\n"
     ]
    },
    {
     "data": {
      "image/png": "[encoded data removed]",
      "text/plain": [
       "<Figure size 144x144 with 1 Axes>"
      ]
     },
     "metadata": {
      "needs_background": "light"
     },
     "output_type": "display_data"
    },
    {
     "name": "stdout",
     "output_type": "stream",
     "text": [
      "\n",
      "_____________________\n",
      "\n",
      "tempo \n",
      "_____________________\n",
      "\n",
      "         chi2       p-value  degrees of freedom\n",
      "0  160.391494  1.508840e-34                   3\n",
      "\n",
      "observed:\n",
      " energized     0     1   All\n",
      "tempo                      \n",
      "slow        161    70   231\n",
      "medium     1569   622  2191\n",
      "fast        869   796  1665\n",
      "very_fast   371   249   620\n",
      "All        2970  1737  4707\n",
      "\n",
      "expected:\n",
      "              0           1\n",
      "0   145.755258   85.244742\n",
      "1  1382.466539  808.533461\n",
      "2  1050.573614  614.426386\n",
      "3   391.204589  228.795411\n"
     ]
    },
    {
     "data": {
      "image/png": "[encoded data removed]",
      "text/plain": [
       "<Figure size 144x144 with 1 Axes>"
      ]
     },
     "metadata": {
      "needs_background": "light"
     },
     "output_type": "display_data"
    },
    {
     "name": "stdout",
     "output_type": "stream",
     "text": [
      "\n",
      "_____________________\n",
      "\n",
      "liked \n",
      "_____________________\n",
      "\n",
      "        chi2       p-value  degrees of freedom\n",
      "0  89.833829  2.590271e-21                   1\n",
      "\n",
      "observed:\n",
      " energized     0     1   All\n",
      "liked                      \n",
      "0          1962   904  2866\n",
      "1          1008   833  1841\n",
      "All        2970  1737  4707\n",
      "\n",
      "expected:\n",
      "              0            1\n",
      "0  1808.374761  1057.625239\n",
      "1  1161.625239   679.374761\n"
     ]
    },
    {
     "data": {
      "image/png": "[encoded data removed]",
      "text/plain": [
       "<Figure size 144x144 with 1 Axes>"
      ]
     },
     "metadata": {
      "needs_background": "light"
     },
     "output_type": "display_data"
    },
    {
     "name": "stdout",
     "output_type": "stream",
     "text": [
      "\n",
      "_____________________\n",
      "\n",
      "disliked \n",
      "_____________________\n",
      "\n",
      "        chi2       p-value  degrees of freedom\n",
      "0  95.434062  1.529001e-22                   1\n",
      "\n",
      "observed:\n",
      " energized     0     1   All\n",
      "disliked                   \n",
      "0          2228  1511  3739\n",
      "1           742   226   968\n",
      "All        2970  1737  4707\n",
      "\n",
      "expected:\n",
      "              0            1\n",
      "0  2359.216061  1379.783939\n",
      "1   610.783939   357.216061\n"
     ]
    },
    {
     "data": {
      "image/png": "[encoded data removed]",
      "text/plain": [
       "<Figure size 144x144 with 1 Axes>"
      ]
     },
     "metadata": {
      "needs_background": "light"
     },
     "output_type": "display_data"
    },
    {
     "name": "stdout",
     "output_type": "stream",
     "text": [
      "\n",
      "_____________________\n",
      "\n",
      "feel_sublime \n",
      "_____________________\n",
      "\n",
      "         chi2       p-value  degrees of freedom\n",
      "0  226.537495  3.392201e-51                   1\n",
      "\n",
      "observed:\n",
      " energized        0     1   All\n",
      "feel_sublime                  \n",
      "0              644   737  1381\n",
      "1             2326  1000  3326\n",
      "All           2970  1737  4707\n",
      "\n",
      "expected:\n",
      "              0            1\n",
      "0   871.376673   509.623327\n",
      "1  2098.623327  1227.376673\n"
     ]
    },
    {
     "data": {
      "image/png": "[encoded data removed]",
      "text/plain": [
       "<Figure size 144x144 with 1 Axes>"
      ]
     },
     "metadata": {
      "needs_background": "light"
     },
     "output_type": "display_data"
    },
    {
     "name": "stdout",
     "output_type": "stream",
     "text": [
      "\n",
      "_____________________\n",
      "\n",
      "agitated \n",
      "_____________________\n",
      "\n",
      "         chi2       p-value  degrees of freedom\n",
      "0  177.883295  1.404745e-40                   1\n",
      "\n",
      "observed:\n",
      " energized     0     1   All\n",
      "agitated                   \n",
      "0          1667  1313  2980\n",
      "1          1303   424  1727\n",
      "All        2970  1737  4707\n",
      "\n",
      "expected:\n",
      "              0            1\n",
      "0  1880.305927  1099.694073\n",
      "1  1089.694073   637.305927\n"
     ]
    },
    {
     "data": {
      "image/png": "[encoded data removed]",
      "text/plain": [
       "<Figure size 144x144 with 1 Axes>"
      ]
     },
     "metadata": {
      "needs_background": "light"
     },
     "output_type": "display_data"
    },
    {
     "name": "stdout",
     "output_type": "stream",
     "text": [
      "\n",
      "_____________________\n",
      "\n",
      "track_id \n",
      "____________________\n",
      "\n"
     ]
    },
    {
     "data": {
      "image/png": "[encoded data removed]",
      "text/plain": [
       "<Figure size 288x288 with 1 Axes>"
      ]
     },
     "metadata": {
      "needs_background": "light"
     },
     "output_type": "display_data"
    },
    {
     "name": "stdout",
     "output_type": "stream",
     "text": [
      "            count        mean         std  min   25%    50%     75%    max\n",
      "energized                                                                 \n",
      "0          2970.0  171.344781  119.329505  1.0  60.0  165.0  299.75  400.0\n",
      "1          1737.0  165.439263  113.240898  1.0  64.0  152.0  251.00  400.0 \n",
      "\n",
      "\n",
      "Mann-Whitney Test:\n",
      " MannwhitneyuResult(statistic=2639466.0, pvalue=0.18216165180861987)\n",
      "\n",
      "____________________\n",
      "\n",
      "age \n",
      "____________________\n",
      "\n"
     ]
    },
    {
     "data": {
      "image/png": "[encoded data removed]",
      "text/plain": [
       "<Figure size 288x288 with 1 Axes>"
      ]
     },
     "metadata": {
      "needs_background": "light"
     },
     "output_type": "display_data"
    },
    {
     "name": "stdout",
     "output_type": "stream",
     "text": [
      "            count       mean        std   min   25%   50%   75%   max\n",
      "energized                                                            \n",
      "0          2970.0  31.882155  12.367979   5.0  23.0  28.0  37.0  99.0\n",
      "1          1737.0  32.253886  12.742917  11.0  23.0  29.0  39.0  74.0 \n",
      "\n",
      "\n",
      "Mann-Whitney Test:\n",
      " MannwhitneyuResult(statistic=2561064.0, pvalue=0.6826211216449565)\n",
      "\n",
      "____________________\n",
      "\n"
     ]
    }
   ],
   "source": [
    "explore.explore_bivariate(train, 'energized', cat_vars, quant_vars)"
   ]
  },
  {
   "cell_type": "code",
   "execution_count": 114,
   "id": "f4610b18-fce3-46ea-b1eb-1cdf6085d315",
   "metadata": {},
   "outputs": [
    {
     "name": "stdout",
     "output_type": "stream",
     "text": [
      "tempo \n",
      "_____________________\n",
      "\n",
      "         chi2       p-value  degrees of freedom\n",
      "0  160.391494  1.508840e-34                   3\n",
      "\n",
      "observed:\n",
      " energized     0     1   All\n",
      "tempo                      \n",
      "slow        161    70   231\n",
      "medium     1569   622  2191\n",
      "fast        869   796  1665\n",
      "very_fast   371   249   620\n",
      "All        2970  1737  4707\n",
      "\n",
      "expected:\n",
      "              0           1\n",
      "0   145.755258   85.244742\n",
      "1  1382.466539  808.533461\n",
      "2  1050.573614  614.426386\n",
      "3   391.204589  228.795411\n"
     ]
    },
    {
     "data": {
      "image/png": "[encoded data removed]",
      "text/plain": [
       "<Figure size 144x144 with 1 Axes>"
      ]
     },
     "metadata": {},
     "output_type": "display_data"
    },
    {
     "name": "stdout",
     "output_type": "stream",
     "text": [
      "\n",
      "_____________________\n",
      "\n"
     ]
    }
   ],
   "source": [
    "explore.explore_bivariate_categorical(train, 'energized', 'tempo')"
   ]
  },
  {
   "cell_type": "code",
   "execution_count": 115,
   "id": "b483a022-beff-4dae-a5dc-a218a4c692ed",
   "metadata": {},
   "outputs": [
    {
     "name": "stdout",
     "output_type": "stream",
     "text": [
      "minor_key \n",
      "_____________________\n",
      "\n",
      "        chi2   p-value  degrees of freedom\n",
      "0  13.261169  0.000271                   1\n",
      "\n",
      "observed:\n",
      " energized     0     1   All\n",
      "minor_key                  \n",
      "0          1445   749  2194\n",
      "1          1525   988  2513\n",
      "All        2970  1737  4707\n",
      "\n",
      "expected:\n",
      "              0           1\n",
      "0  1384.359465  809.640535\n",
      "1  1585.640535  927.359465\n"
     ]
    },
    {
     "data": {
      "image/png": "[encoded data removed]",
      "text/plain": [
       "<Figure size 144x144 with 1 Axes>"
      ]
     },
     "metadata": {},
     "output_type": "display_data"
    },
    {
     "name": "stdout",
     "output_type": "stream",
     "text": [
      "\n",
      "_____________________\n",
      "\n"
     ]
    }
   ],
   "source": [
    "explore.explore_bivariate_categorical(train, 'energized', 'minor_key')"
   ]
  },
  {
   "cell_type": "markdown",
   "id": "f6fef96d-2c99-4afb-bb0d-a0b1a1eb68b8",
   "metadata": {},
   "source": [
    "#### Of the minor songs with a fast tempo, was genre the difference in who was energized and who wasnt?"
   ]
  },
  {
   "cell_type": "code",
   "execution_count": 110,
   "id": "b0615c64-a6ba-4806-8390-ea09dfc468c3",
   "metadata": {},
   "outputs": [
    {
     "name": "stdout",
     "output_type": "stream",
     "text": [
      "genre_x \n",
      "_____________________\n",
      "\n",
      "        chi2   p-value  degrees of freedom\n",
      "0  18.432139  0.000358                   3\n",
      "\n",
      "observed:\n",
      " energized     0    1  All\n",
      "genre_x                  \n",
      "classical    38   67  105\n",
      "electronic  198  259  457\n",
      "pop          70   48  118\n",
      "rock        131  115  246\n",
      "All         437  489  926\n",
      "\n",
      "expected:\n",
      "             0           1\n",
      "0   49.551836   55.448164\n",
      "1  215.668467  241.331533\n",
      "2   55.686825   62.313175\n",
      "3  116.092873  129.907127\n"
     ]
    },
    {
     "data": {
      "image/png": "[encoded data removed]",
      "text/plain": [
       "<Figure size 144x144 with 1 Axes>"
      ]
     },
     "metadata": {},
     "output_type": "display_data"
    },
    {
     "name": "stdout",
     "output_type": "stream",
     "text": [
      "\n",
      "_____________________\n",
      "\n"
     ]
    }
   ],
   "source": [
    "minor_and_fast_subset = train[(train.minor_key==1) & (train.tempo==('fast'))]\n",
    "\n",
    "explore.explore_bivariate_categorical(minor_and_fast_subset, 'energized', 'genre_x')"
   ]
  },
  {
   "cell_type": "code",
   "execution_count": 116,
   "id": "1c950c9c-5f45-48d6-a5d2-eb402834bd42",
   "metadata": {},
   "outputs": [
    {
     "name": "stdout",
     "output_type": "stream",
     "text": [
      "mood \n",
      "_____________________\n",
      "\n",
      "       chi2  p-value  degrees of freedom\n",
      "0  8.917316   0.0632                   4\n",
      "\n",
      "observed:\n",
      " energized     0     1   All\n",
      "mood                       \n",
      "1           128    73   201\n",
      "2           314   141   455\n",
      "3           989   587  1576\n",
      "4          1123   665  1788\n",
      "5           416   271   687\n",
      "All        2970  1737  4707\n",
      "\n",
      "expected:\n",
      "              0           1\n",
      "0   126.826004   74.173996\n",
      "1   287.093690  167.906310\n",
      "2   994.416826  581.583174\n",
      "3  1128.183556  659.816444\n",
      "4   433.479924  253.520076\n"
     ]
    },
    {
     "data": {
      "image/png": "[encoded data removed]",
      "text/plain": [
       "<Figure size 144x144 with 1 Axes>"
      ]
     },
     "metadata": {},
     "output_type": "display_data"
    },
    {
     "name": "stdout",
     "output_type": "stream",
     "text": [
      "\n",
      "_____________________\n",
      "\n"
     ]
    }
   ],
   "source": [
    "explore.explore_bivariate_categorical(train, 'energized', 'mood')"
   ]
  },
  {
   "cell_type": "code",
   "execution_count": 117,
   "id": "16487b25-c06b-4e49-ba21-ef9997de63d4",
   "metadata": {},
   "outputs": [
    {
     "name": "stdout",
     "output_type": "stream",
     "text": [
      "liked \n",
      "_____________________\n",
      "\n",
      "        chi2       p-value  degrees of freedom\n",
      "0  89.833829  2.590271e-21                   1\n",
      "\n",
      "observed:\n",
      " energized     0     1   All\n",
      "liked                      \n",
      "0          1962   904  2866\n",
      "1          1008   833  1841\n",
      "All        2970  1737  4707\n",
      "\n",
      "expected:\n",
      "              0            1\n",
      "0  1808.374761  1057.625239\n",
      "1  1161.625239   679.374761\n"
     ]
    },
    {
     "data": {
      "image/png": "[encoded data removed]",
      "text/plain": [
       "<Figure size 144x144 with 1 Axes>"
      ]
     },
     "metadata": {},
     "output_type": "display_data"
    },
    {
     "name": "stdout",
     "output_type": "stream",
     "text": [
      "\n",
      "_____________________\n",
      "\n"
     ]
    }
   ],
   "source": [
    "explore.explore_bivariate_categorical(train, 'energized', 'liked')"
   ]
  },
  {
   "cell_type": "markdown",
   "id": "e56d61b3-ddfe-4ca0-8479-aea8eb5b0807",
   "metadata": {},
   "source": [
    "## Takeaways:  \n",
    "1. Tempo has an effect on inducing energy.\n",
    "2. Minor/Major key has a effect on inducing energy.\n",
    "3. It appears that fast tempo is the highest amount of energized.\n",
    "4. There is a difference between genres of fast and minor key songs.\n",
    "5. It appears that classical fast minor songs induce energy most often.\n",
    "6. Mood does not have a significant effect of inducing energy.\n",
    "7. Liking the song has an effect on inducing energy.\n",
    "\n",
    "#### Given this information, \n",
    "#### I will perform a model using the features: fast, minor_key, classical, and liked.\n",
    "#### Prior to performing that model, I will establish a baseline accuracy.\n",
    "#### Then I will create a model using all features.\n",
    "#### Lastly, I will create the model based on my EDA.  \n",
    "#### It is my hope that the streamlined model will perform best."
   ]
  },
  {
   "cell_type": "markdown",
   "id": "d23bb3df-0d41-4f4b-a3b3-de37039d419f",
   "metadata": {},
   "source": [
    "*****\n",
    "*****\n",
    "# Modeling\n",
    "*****\n",
    "*****"
   ]
  },
  {
   "cell_type": "code",
   "execution_count": 58,
   "id": "69e6f34b-8c2a-4fd9-b80b-fd556521892f",
   "metadata": {},
   "outputs": [
    {
     "data": {
      "text/plain": [
       "0    0.630975\n",
       "1    0.369025\n",
       "Name: energized, dtype: float64"
      ]
     },
     "execution_count": 58,
     "metadata": {},
     "output_type": "execute_result"
    }
   ],
   "source": [
    "train.energized.value_counts(normalize=True)"
   ]
  },
  {
   "cell_type": "markdown",
   "id": "e025351e-5ea1-4972-b1b3-cfaf4ab2a38b",
   "metadata": {},
   "source": [
    "## Baseline accuracy of 63% that listeners were not energized while listening to unfamiliar music."
   ]
  },
  {
   "cell_type": "code",
   "execution_count": 51,
   "id": "790b481d-6308-44b4-95bf-21a43535a88c",
   "metadata": {},
   "outputs": [
    {
     "data": {
      "text/plain": [
       "Index(['track_id', 'genre_x', 'mood', 'age', 'gender', 'key', 'minor_key',\n",
       "       'tempo', 'liked', 'disliked', 'feel_sublime', 'agitated', 'energized',\n",
       "       'electronic', 'pop', 'rock', 'medium', 'fast', 'very_fast'],\n",
       "      dtype='object')"
      ]
     },
     "execution_count": 51,
     "metadata": {},
     "output_type": "execute_result"
    }
   ],
   "source": [
    "train.columns"
   ]
  },
  {
   "cell_type": "code",
   "execution_count": 196,
   "id": "0a9243b9-6913-4fa6-935f-5b41ccb11932",
   "metadata": {},
   "outputs": [],
   "source": [
    "# I will drop any remaining categorical features I have left.\n",
    "\n",
    "X_train = train.drop(columns=['genre_x', 'key', 'tempo', 'energized'])\n",
    "y_train = train[['energized']]\n",
    "\n",
    "X_validate = validate.drop(columns=['genre_x', 'key', 'tempo', 'energized'])\n",
    "y_validate = validate[['energized']]\n",
    "\n",
    "X_test = test.drop(columns=['genre_x', 'key', 'tempo', 'energized'])\n",
    "y_test = test[['energized']]"
   ]
  },
  {
   "cell_type": "code",
   "execution_count": 197,
   "id": "88071b09-7d4c-4a87-94cb-63d10184576f",
   "metadata": {},
   "outputs": [
    {
     "data": {
      "text/html": [
       "<div>\n",
       "<style scoped>\n",
       "    .dataframe tbody tr th:only-of-type {\n",
       "        vertical-align: middle;\n",
       "    }\n",
       "\n",
       "    .dataframe tbody tr th {\n",
       "        vertical-align: top;\n",
       "    }\n",
       "\n",
       "    .dataframe thead th {\n",
       "        text-align: right;\n",
       "    }\n",
       "</style>\n",
       "<table border=\"1\" class=\"dataframe\">\n",
       "  <thead>\n",
       "    <tr style=\"text-align: right;\">\n",
       "      <th></th>\n",
       "      <th>track_id</th>\n",
       "      <th>mood</th>\n",
       "      <th>age</th>\n",
       "      <th>gender</th>\n",
       "      <th>minor_key</th>\n",
       "      <th>liked</th>\n",
       "      <th>disliked</th>\n",
       "      <th>feel_sublime</th>\n",
       "      <th>agitated</th>\n",
       "      <th>electronic</th>\n",
       "      <th>pop</th>\n",
       "      <th>rock</th>\n",
       "      <th>medium</th>\n",
       "      <th>fast</th>\n",
       "      <th>very_fast</th>\n",
       "    </tr>\n",
       "  </thead>\n",
       "  <tbody>\n",
       "    <tr>\n",
       "      <th>3845</th>\n",
       "      <td>139</td>\n",
       "      <td>4</td>\n",
       "      <td>62</td>\n",
       "      <td>0</td>\n",
       "      <td>1</td>\n",
       "      <td>1</td>\n",
       "      <td>0</td>\n",
       "      <td>0</td>\n",
       "      <td>1</td>\n",
       "      <td>0</td>\n",
       "      <td>0</td>\n",
       "      <td>1</td>\n",
       "      <td>0</td>\n",
       "      <td>1</td>\n",
       "      <td>0</td>\n",
       "    </tr>\n",
       "  </tbody>\n",
       "</table>\n",
       "</div>"
      ],
      "text/plain": [
       "      track_id  mood  age  gender  minor_key  liked  disliked  feel_sublime  \\\n",
       "3845       139     4   62       0          1      1         0             0   \n",
       "\n",
       "      agitated  electronic  pop  rock  medium  fast  very_fast  \n",
       "3845         1           0    0     1       0     1          0  "
      ]
     },
     "execution_count": 197,
     "metadata": {},
     "output_type": "execute_result"
    }
   ],
   "source": [
    "X_train.head(1)"
   ]
  },
  {
   "cell_type": "code",
   "execution_count": 198,
   "id": "aabb3f11-ec51-4335-b7f8-9c57ec572bad",
   "metadata": {},
   "outputs": [
    {
     "data": {
      "text/html": [
       "<div>\n",
       "<style scoped>\n",
       "    .dataframe tbody tr th:only-of-type {\n",
       "        vertical-align: middle;\n",
       "    }\n",
       "\n",
       "    .dataframe tbody tr th {\n",
       "        vertical-align: top;\n",
       "    }\n",
       "\n",
       "    .dataframe thead th {\n",
       "        text-align: right;\n",
       "    }\n",
       "</style>\n",
       "<table border=\"1\" class=\"dataframe\">\n",
       "  <thead>\n",
       "    <tr style=\"text-align: right;\">\n",
       "      <th></th>\n",
       "      <th>energized</th>\n",
       "    </tr>\n",
       "  </thead>\n",
       "  <tbody>\n",
       "    <tr>\n",
       "      <th>3845</th>\n",
       "      <td>1</td>\n",
       "    </tr>\n",
       "  </tbody>\n",
       "</table>\n",
       "</div>"
      ],
      "text/plain": [
       "      energized\n",
       "3845          1"
      ]
     },
     "execution_count": 198,
     "metadata": {},
     "output_type": "execute_result"
    }
   ],
   "source": [
    "# This is my target variable, my label.\n",
    "\n",
    "y_train.head(1)"
   ]
  },
  {
   "cell_type": "code",
   "execution_count": 199,
   "id": "faf13672-3cfe-4261-9e98-d593c350dc79",
   "metadata": {},
   "outputs": [],
   "source": [
    "# Create a simple Logistic Regression model to start.\n",
    "\n",
    "logit = LogisticRegression(random_state=123)"
   ]
  },
  {
   "cell_type": "code",
   "execution_count": 200,
   "id": "c959a3ed-1864-409f-b7cc-0ab593f13b45",
   "metadata": {},
   "outputs": [
    {
     "data": {
      "text/plain": [
       "LogisticRegression(random_state=123)"
      ]
     },
     "execution_count": 200,
     "metadata": {},
     "output_type": "execute_result"
    }
   ],
   "source": [
    "logit.fit(X_train, y_train)"
   ]
  },
  {
   "cell_type": "code",
   "execution_count": 201,
   "id": "2a77d2b3-7c61-42fb-9ee0-a155b25d5272",
   "metadata": {},
   "outputs": [],
   "source": [
    "# Create a list of our model features.\n",
    "\n",
    "features = X_train.columns.tolist()"
   ]
  },
  {
   "cell_type": "code",
   "execution_count": 202,
   "id": "4fb00207-5e73-47cd-9c0f-fc34670f415e",
   "metadata": {},
   "outputs": [],
   "source": [
    "# Create a list of the weights for each feature from our model.\n",
    "\n",
    "weights = logit.coef_.flatten()"
   ]
  },
  {
   "cell_type": "code",
   "execution_count": 203,
   "id": "409b590a-db6b-4c03-858f-bd6dc3920516",
   "metadata": {},
   "outputs": [
    {
     "data": {
      "text/html": [
       "<div>\n",
       "<style scoped>\n",
       "    .dataframe tbody tr th:only-of-type {\n",
       "        vertical-align: middle;\n",
       "    }\n",
       "\n",
       "    .dataframe tbody tr th {\n",
       "        vertical-align: top;\n",
       "    }\n",
       "\n",
       "    .dataframe thead th {\n",
       "        text-align: right;\n",
       "    }\n",
       "</style>\n",
       "<table border=\"1\" class=\"dataframe\">\n",
       "  <thead>\n",
       "    <tr style=\"text-align: right;\">\n",
       "      <th></th>\n",
       "      <th>feature</th>\n",
       "      <th>weight</th>\n",
       "    </tr>\n",
       "  </thead>\n",
       "  <tbody>\n",
       "    <tr>\n",
       "      <th>0</th>\n",
       "      <td>track_id</td>\n",
       "      <td>0.000309</td>\n",
       "    </tr>\n",
       "    <tr>\n",
       "      <th>1</th>\n",
       "      <td>mood</td>\n",
       "      <td>0.106895</td>\n",
       "    </tr>\n",
       "    <tr>\n",
       "      <th>2</th>\n",
       "      <td>age</td>\n",
       "      <td>-0.001488</td>\n",
       "    </tr>\n",
       "    <tr>\n",
       "      <th>3</th>\n",
       "      <td>gender</td>\n",
       "      <td>0.112963</td>\n",
       "    </tr>\n",
       "    <tr>\n",
       "      <th>4</th>\n",
       "      <td>minor_key</td>\n",
       "      <td>0.182108</td>\n",
       "    </tr>\n",
       "    <tr>\n",
       "      <th>5</th>\n",
       "      <td>liked</td>\n",
       "      <td>0.477386</td>\n",
       "    </tr>\n",
       "    <tr>\n",
       "      <th>6</th>\n",
       "      <td>disliked</td>\n",
       "      <td>-0.982259</td>\n",
       "    </tr>\n",
       "    <tr>\n",
       "      <th>7</th>\n",
       "      <td>feel_sublime</td>\n",
       "      <td>-1.786987</td>\n",
       "    </tr>\n",
       "    <tr>\n",
       "      <th>8</th>\n",
       "      <td>agitated</td>\n",
       "      <td>-1.440066</td>\n",
       "    </tr>\n",
       "    <tr>\n",
       "      <th>9</th>\n",
       "      <td>electronic</td>\n",
       "      <td>0.081354</td>\n",
       "    </tr>\n",
       "    <tr>\n",
       "      <th>10</th>\n",
       "      <td>pop</td>\n",
       "      <td>-0.447682</td>\n",
       "    </tr>\n",
       "    <tr>\n",
       "      <th>11</th>\n",
       "      <td>rock</td>\n",
       "      <td>-0.078846</td>\n",
       "    </tr>\n",
       "    <tr>\n",
       "      <th>12</th>\n",
       "      <td>medium</td>\n",
       "      <td>-0.142729</td>\n",
       "    </tr>\n",
       "    <tr>\n",
       "      <th>13</th>\n",
       "      <td>fast</td>\n",
       "      <td>0.723316</td>\n",
       "    </tr>\n",
       "    <tr>\n",
       "      <th>14</th>\n",
       "      <td>very_fast</td>\n",
       "      <td>0.380448</td>\n",
       "    </tr>\n",
       "  </tbody>\n",
       "</table>\n",
       "</div>"
      ],
      "text/plain": [
       "         feature    weight\n",
       "0       track_id  0.000309\n",
       "1           mood  0.106895\n",
       "2            age -0.001488\n",
       "3         gender  0.112963\n",
       "4      minor_key  0.182108\n",
       "5          liked  0.477386\n",
       "6       disliked -0.982259\n",
       "7   feel_sublime -1.786987\n",
       "8       agitated -1.440066\n",
       "9     electronic  0.081354\n",
       "10           pop -0.447682\n",
       "11          rock -0.078846\n",
       "12        medium -0.142729\n",
       "13          fast  0.723316\n",
       "14     very_fast  0.380448"
      ]
     },
     "execution_count": 203,
     "metadata": {},
     "output_type": "execute_result"
    }
   ],
   "source": [
    "# Store our lists from above in a DataFrame.\n",
    "\n",
    "pd.DataFrame(weights, features).reset_index().rename(columns={'index': 'feature', 0: 'weight'})"
   ]
  },
  {
   "cell_type": "markdown",
   "id": "1ed11d63-d884-42f5-abcc-c2085551511f",
   "metadata": {},
   "source": [
    "#### From the above list of feature importance, fast tempo and reporting liking the song are most influential in energized or not energized emotions were induced. "
   ]
  },
  {
   "cell_type": "code",
   "execution_count": 204,
   "id": "30cf974a-bfe0-459e-a68f-e6c3d90e86cc",
   "metadata": {},
   "outputs": [
    {
     "data": {
      "text/html": [
       "<div>\n",
       "<style scoped>\n",
       "    .dataframe tbody tr th:only-of-type {\n",
       "        vertical-align: middle;\n",
       "    }\n",
       "\n",
       "    .dataframe tbody tr th {\n",
       "        vertical-align: top;\n",
       "    }\n",
       "\n",
       "    .dataframe thead th {\n",
       "        text-align: right;\n",
       "    }\n",
       "</style>\n",
       "<table border=\"1\" class=\"dataframe\">\n",
       "  <thead>\n",
       "    <tr style=\"text-align: right;\">\n",
       "      <th></th>\n",
       "      <th>actual</th>\n",
       "      <th>baseline</th>\n",
       "      <th>LR1_predicted</th>\n",
       "      <th>LR1_proba</th>\n",
       "    </tr>\n",
       "  </thead>\n",
       "  <tbody>\n",
       "    <tr>\n",
       "      <th>3845</th>\n",
       "      <td>1</td>\n",
       "      <td>0</td>\n",
       "      <td>1</td>\n",
       "      <td>0.673094</td>\n",
       "    </tr>\n",
       "    <tr>\n",
       "      <th>1152</th>\n",
       "      <td>1</td>\n",
       "      <td>0</td>\n",
       "      <td>1</td>\n",
       "      <td>0.527393</td>\n",
       "    </tr>\n",
       "    <tr>\n",
       "      <th>3639</th>\n",
       "      <td>0</td>\n",
       "      <td>0</td>\n",
       "      <td>0</td>\n",
       "      <td>0.170928</td>\n",
       "    </tr>\n",
       "    <tr>\n",
       "      <th>6911</th>\n",
       "      <td>0</td>\n",
       "      <td>0</td>\n",
       "      <td>0</td>\n",
       "      <td>0.175103</td>\n",
       "    </tr>\n",
       "    <tr>\n",
       "      <th>6219</th>\n",
       "      <td>0</td>\n",
       "      <td>0</td>\n",
       "      <td>0</td>\n",
       "      <td>0.330393</td>\n",
       "    </tr>\n",
       "  </tbody>\n",
       "</table>\n",
       "</div>"
      ],
      "text/plain": [
       "      actual  baseline  LR1_predicted  LR1_proba\n",
       "3845       1         0              1   0.673094\n",
       "1152       1         0              1   0.527393\n",
       "3639       0         0              0   0.170928\n",
       "6911       0         0              0   0.175103\n",
       "6219       0         0              0   0.330393"
      ]
     },
     "execution_count": 204,
     "metadata": {},
     "output_type": "execute_result"
    }
   ],
   "source": [
    "# Create eval_df and rename the train survived column actual.\n",
    "train_eval_df = train[['energized']].rename(columns={'energized': 'actual'})\n",
    "\n",
    "# Add your baseline predictions.\n",
    "train_eval_df['baseline'] = 0\n",
    "\n",
    "# Predict whether a listener will be energized using the X_train data; add column to eval_df\n",
    "train_eval_df['LR1_predicted'] = logit.predict(X_train)\n",
    "\n",
    "# Estimate the probability of a listener being energized using the X_train data; add col to eval_df\n",
    "\n",
    "train_eval_df['LR1_proba'] = logit.predict_proba(X_train)[:, 1]\n",
    "\n",
    "train_eval_df.head()"
   ]
  },
  {
   "cell_type": "code",
   "execution_count": 205,
   "id": "811d8185-953b-4bae-bb3b-4709e5cbcb2f",
   "metadata": {},
   "outputs": [
    {
     "data": {
      "text/plain": [
       "0.7312513278096452"
      ]
     },
     "execution_count": 205,
     "metadata": {},
     "output_type": "execute_result"
    }
   ],
   "source": [
    "# Get our accuracy score for our logistic regression model.\n",
    "\n",
    "logit.score(X_train, y_train)"
   ]
  },
  {
   "cell_type": "code",
   "execution_count": 206,
   "id": "a4284a6d-0e7c-4f7e-bbca-a69a9bb58092",
   "metadata": {},
   "outputs": [
    {
     "data": {
      "text/plain": [
       "array([0.88350168, 0.47092689])"
      ]
     },
     "execution_count": 206,
     "metadata": {},
     "output_type": "execute_result"
    }
   ],
   "source": [
    "recall_score(train_eval_df.actual, train_eval_df.LR1_predicted, average=None)"
   ]
  },
  {
   "cell_type": "code",
   "execution_count": 207,
   "id": "add07e14-19be-4009-915e-fa44ada1d636",
   "metadata": {},
   "outputs": [
    {
     "data": {
      "text/plain": [
       "array([0.7406153 , 0.70274914])"
      ]
     },
     "execution_count": 207,
     "metadata": {},
     "output_type": "execute_result"
    }
   ],
   "source": [
    "precision_score(train_eval_df.actual, train_eval_df.LR1_predicted, average=None)"
   ]
  },
  {
   "cell_type": "code",
   "execution_count": 208,
   "id": "0f4b0efe-2354-4017-b613-53f8ca16b10e",
   "metadata": {},
   "outputs": [
    {
     "data": {
      "text/html": [
       "<div>\n",
       "<style scoped>\n",
       "    .dataframe tbody tr th:only-of-type {\n",
       "        vertical-align: middle;\n",
       "    }\n",
       "\n",
       "    .dataframe tbody tr th {\n",
       "        vertical-align: top;\n",
       "    }\n",
       "\n",
       "    .dataframe thead th {\n",
       "        text-align: right;\n",
       "    }\n",
       "</style>\n",
       "<table border=\"1\" class=\"dataframe\">\n",
       "  <thead>\n",
       "    <tr style=\"text-align: right;\">\n",
       "      <th>Predicted</th>\n",
       "      <th>0</th>\n",
       "      <th>1</th>\n",
       "    </tr>\n",
       "    <tr>\n",
       "      <th>Actual</th>\n",
       "      <th></th>\n",
       "      <th></th>\n",
       "    </tr>\n",
       "  </thead>\n",
       "  <tbody>\n",
       "    <tr>\n",
       "      <th>0</th>\n",
       "      <td>2624</td>\n",
       "      <td>346</td>\n",
       "    </tr>\n",
       "    <tr>\n",
       "      <th>1</th>\n",
       "      <td>919</td>\n",
       "      <td>818</td>\n",
       "    </tr>\n",
       "  </tbody>\n",
       "</table>\n",
       "</div>"
      ],
      "text/plain": [
       "Predicted     0    1\n",
       "Actual              \n",
       "0          2624  346\n",
       "1           919  818"
      ]
     },
     "execution_count": 208,
     "metadata": {},
     "output_type": "execute_result"
    }
   ],
   "source": [
    "pd.crosstab(index=train_eval_df.actual, \n",
    "            columns=train_eval_df.LR1_predicted, \n",
    "            rownames=['Actual'], \n",
    "            colnames=['Predicted'])"
   ]
  },
  {
   "cell_type": "code",
   "execution_count": 209,
   "id": "04962981-9d4d-41c4-a235-ab5d1d2654eb",
   "metadata": {},
   "outputs": [
    {
     "name": "stdout",
     "output_type": "stream",
     "text": [
      "              precision    recall  f1-score   support\n",
      "\n",
      "           0       0.74      0.88      0.81      2970\n",
      "           1       0.70      0.47      0.56      1737\n",
      "\n",
      "    accuracy                           0.73      4707\n",
      "   macro avg       0.72      0.68      0.68      4707\n",
      "weighted avg       0.73      0.73      0.72      4707\n",
      "\n"
     ]
    }
   ],
   "source": [
    "# My LR model is beating my baseline accuracy at predicting my target value, survived.\n",
    "\n",
    "print(classification_report(y_true=train_eval_df.actual, y_pred=train_eval_df.LR1_predicted))"
   ]
  },
  {
   "cell_type": "code",
   "execution_count": 211,
   "id": "af546012-d570-4201-bdd8-a132536e3e1f",
   "metadata": {},
   "outputs": [],
   "source": [
    "logit2 = LogisticRegression(C=.1, class_weight={0:1, 1:99}, random_state=123, intercept_scaling=1, solver='lbfgs')"
   ]
  },
  {
   "cell_type": "code",
   "execution_count": 212,
   "id": "9bd06382-1aac-42e6-835a-f58a2d92a6f5",
   "metadata": {},
   "outputs": [
    {
     "data": {
      "text/plain": [
       "LogisticRegression(C=0.1, class_weight={0: 1, 1: 99}, random_state=123)"
      ]
     },
     "execution_count": 212,
     "metadata": {},
     "output_type": "execute_result"
    }
   ],
   "source": [
    "logit2.fit(X_train, y_train)"
   ]
  },
  {
   "cell_type": "code",
   "execution_count": 213,
   "id": "d46bff7c-bbe5-4737-8124-ad2fcb894d2c",
   "metadata": {},
   "outputs": [
    {
     "name": "stdout",
     "output_type": "stream",
     "text": [
      "Coefficient: \n",
      " [[ 0.00138407  0.05577938  0.00365723  0.20490176  0.11279454  0.43463109\n",
      "  -0.80392995 -1.07612259 -0.92600491  0.13661017 -0.78078537 -0.21478759\n",
      "   0.51778092  1.30793428  1.26767499]]\n",
      "Intercept: \n",
      " [3.66742921]\n"
     ]
    }
   ],
   "source": [
    "print('Coefficient: \\n', logit2.coef_)\n",
    "print('Intercept: \\n', logit2.intercept_)"
   ]
  },
  {
   "cell_type": "code",
   "execution_count": 214,
   "id": "1909e3fa-3212-4fd2-8d92-7a31953ddf57",
   "metadata": {},
   "outputs": [],
   "source": [
    "y_pred2 = logit2.predict(X_train)"
   ]
  },
  {
   "cell_type": "code",
   "execution_count": 215,
   "id": "60b94c06-cb57-4214-9499-a33594bb6d8e",
   "metadata": {},
   "outputs": [],
   "source": [
    "y_pred_proba2 = logit2.predict_proba(X_train)"
   ]
  },
  {
   "cell_type": "code",
   "execution_count": 216,
   "id": "f355acf8-83a6-43b8-be4f-30b9d7d46e40",
   "metadata": {},
   "outputs": [
    {
     "name": "stdout",
     "output_type": "stream",
     "text": [
      "Model 1: solver = lbfgs, c = 1\n",
      "Accuracy: 0.75\n",
      "[[1141  132]\n",
      " [ 369  376]]\n",
      "              precision    recall  f1-score   support\n",
      "\n",
      "           0       0.76      0.90      0.82      1273\n",
      "           1       0.74      0.50      0.60       745\n",
      "\n",
      "    accuracy                           0.75      2018\n",
      "   macro avg       0.75      0.70      0.71      2018\n",
      "weighted avg       0.75      0.75      0.74      2018\n",
      "\n",
      "Model 2: solver = lbfgs, c = .1\n",
      "Accuracy: 0.37\n",
      "[[   0 1273]\n",
      " [   0  745]]\n",
      "              precision    recall  f1-score   support\n",
      "\n",
      "           0       0.00      0.00      0.00      1273\n",
      "           1       0.37      1.00      0.54       745\n",
      "\n",
      "    accuracy                           0.37      2018\n",
      "   macro avg       0.18      0.50      0.27      2018\n",
      "weighted avg       0.14      0.37      0.20      2018\n",
      "\n"
     ]
    }
   ],
   "source": [
    "# make predictions\n",
    "\n",
    "y_pred1 = logit.predict(X_validate)\n",
    "y_pred2 = logit2.predict(X_validate)\n",
    "\n",
    "\n",
    "print(\"Model 1: solver = lbfgs, c = 1\")\n",
    "\n",
    "# accuracy of model 1\n",
    "print('Accuracy: {:.2f}'.format(logit.score(X_validate, y_validate)))\n",
    "\n",
    "# confusion matrix of model 1\n",
    "print(confusion_matrix(y_validate, y_pred1))\n",
    "\n",
    "# classification report of model 1\n",
    "print(classification_report(y_validate, y_pred1))\n",
    "\n",
    "print(\"Model 2: solver = lbfgs, c = .1\")\n",
    "\n",
    "# accuracy of model 2\n",
    "print('Accuracy: {:.2f}'.format(logit2.score(X_validate, y_validate)))\n",
    "\n",
    "# confusion matrix of model 2\n",
    "print(confusion_matrix(y_validate, y_pred2))\n",
    "\n",
    "# classification report of model 2\n",
    "print(classification_report(y_validate, y_pred2))"
   ]
  },
  {
   "cell_type": "code",
   "execution_count": 217,
   "id": "0ff63abd-8b73-4e5d-9208-c96fecaaa9d5",
   "metadata": {},
   "outputs": [
    {
     "name": "stdout",
     "output_type": "stream",
     "text": [
      "Model 1: solver = lbfgs, c = 1\n",
      "Accuracy: 0.75\n",
      "[[1141  132]\n",
      " [ 369  376]]\n",
      "              precision    recall  f1-score   support\n",
      "\n",
      "           0       0.76      0.90      0.82      1273\n",
      "           1       0.74      0.50      0.60       745\n",
      "\n",
      "    accuracy                           0.75      2018\n",
      "   macro avg       0.75      0.70      0.71      2018\n",
      "weighted avg       0.75      0.75      0.74      2018\n",
      "\n",
      "Model 2: solver = lbfgs, c = .1\n",
      "Accuracy: 0.37\n",
      "[[   0 1273]\n",
      " [   0  745]]\n",
      "              precision    recall  f1-score   support\n",
      "\n",
      "           0       0.00      0.00      0.00      1273\n",
      "           1       0.37      1.00      0.54       745\n",
      "\n",
      "    accuracy                           0.37      2018\n",
      "   macro avg       0.18      0.50      0.27      2018\n",
      "weighted avg       0.14      0.37      0.20      2018\n",
      "\n"
     ]
    }
   ],
   "source": [
    "# make predictions\n",
    "\n",
    "y_pred1 = logit.predict(X_validate)\n",
    "y_pred2 = logit2.predict(X_validate)\n",
    "\n",
    "\n",
    "print(\"Model 1: solver = lbfgs, c = 1\")\n",
    "\n",
    "# accuracy of model 1\n",
    "print('Accuracy: {:.2f}'.format(logit.score(X_validate, y_validate)))\n",
    "\n",
    "# confusion matrix of model 1\n",
    "print(confusion_matrix(y_validate, y_pred1))\n",
    "\n",
    "# classification report of model 1\n",
    "print(classification_report(y_validate, y_pred1))\n",
    "\n",
    "print(\"Model 2: solver = lbfgs, c = .1\")\n",
    "\n",
    "# accuracy of model 2\n",
    "print('Accuracy: {:.2f}'.format(logit2.score(X_validate, y_validate)))\n",
    "\n",
    "# confusion matrix of model 2\n",
    "print(confusion_matrix(y_validate, y_pred2))\n",
    "\n",
    "# classification report of model 2\n",
    "print(classification_report(y_validate, y_pred2))"
   ]
  },
  {
   "cell_type": "code",
   "execution_count": 118,
   "id": "2c1bc63d-d8d4-4889-8811-0d49fdd39b69",
   "metadata": {},
   "outputs": [
    {
     "data": {
      "text/plain": [
       "Index(['track_id', 'genre_x', 'mood', 'age', 'gender', 'key', 'minor_key',\n",
       "       'tempo', 'liked', 'disliked', 'feel_sublime', 'agitated', 'energized',\n",
       "       'electronic', 'pop', 'rock', 'medium', 'fast', 'very_fast'],\n",
       "      dtype='object')"
      ]
     },
     "execution_count": 118,
     "metadata": {},
     "output_type": "execute_result"
    }
   ],
   "source": [
    "train.columns"
   ]
  },
  {
   "cell_type": "code",
   "execution_count": 133,
   "id": "f3bb2ffc-0aec-495e-a1e9-e60ba9dae7be",
   "metadata": {},
   "outputs": [],
   "source": [
    "# I will now use only the columns shown my EDA to use.\n",
    "\n",
    "X_train = train[['minor_key', 'liked', 'fast']]\n",
    "y_train = train[['energized']]\n",
    "\n",
    "X_validate = train[['minor_key', 'liked', 'fast']]\n",
    "y_validate = validate[['energized']]\n",
    "\n",
    "X_test = train[['minor_key', 'liked', 'fast']]\n",
    "y_test = test[['energized']]"
   ]
  },
  {
   "cell_type": "code",
   "execution_count": 134,
   "id": "9aa28439-2d7f-4242-8d31-4ffb0d469555",
   "metadata": {},
   "outputs": [
    {
     "data": {
      "text/html": [
       "<div>\n",
       "<style scoped>\n",
       "    .dataframe tbody tr th:only-of-type {\n",
       "        vertical-align: middle;\n",
       "    }\n",
       "\n",
       "    .dataframe tbody tr th {\n",
       "        vertical-align: top;\n",
       "    }\n",
       "\n",
       "    .dataframe thead th {\n",
       "        text-align: right;\n",
       "    }\n",
       "</style>\n",
       "<table border=\"1\" class=\"dataframe\">\n",
       "  <thead>\n",
       "    <tr style=\"text-align: right;\">\n",
       "      <th></th>\n",
       "      <th>minor_key</th>\n",
       "      <th>liked</th>\n",
       "      <th>fast</th>\n",
       "    </tr>\n",
       "  </thead>\n",
       "  <tbody>\n",
       "    <tr>\n",
       "      <th>3845</th>\n",
       "      <td>1</td>\n",
       "      <td>1</td>\n",
       "      <td>1</td>\n",
       "    </tr>\n",
       "  </tbody>\n",
       "</table>\n",
       "</div>"
      ],
      "text/plain": [
       "      minor_key  liked  fast\n",
       "3845          1      1     1"
      ]
     },
     "execution_count": 134,
     "metadata": {},
     "output_type": "execute_result"
    }
   ],
   "source": [
    "X_train.head(1)"
   ]
  },
  {
   "cell_type": "code",
   "execution_count": 135,
   "id": "1d7dfab0-0683-47c5-91f8-6b199ebec08d",
   "metadata": {},
   "outputs": [
    {
     "data": {
      "text/html": [
       "<div>\n",
       "<style scoped>\n",
       "    .dataframe tbody tr th:only-of-type {\n",
       "        vertical-align: middle;\n",
       "    }\n",
       "\n",
       "    .dataframe tbody tr th {\n",
       "        vertical-align: top;\n",
       "    }\n",
       "\n",
       "    .dataframe thead th {\n",
       "        text-align: right;\n",
       "    }\n",
       "</style>\n",
       "<table border=\"1\" class=\"dataframe\">\n",
       "  <thead>\n",
       "    <tr style=\"text-align: right;\">\n",
       "      <th></th>\n",
       "      <th>energized</th>\n",
       "    </tr>\n",
       "  </thead>\n",
       "  <tbody>\n",
       "    <tr>\n",
       "      <th>3845</th>\n",
       "      <td>1</td>\n",
       "    </tr>\n",
       "  </tbody>\n",
       "</table>\n",
       "</div>"
      ],
      "text/plain": [
       "      energized\n",
       "3845          1"
      ]
     },
     "execution_count": 135,
     "metadata": {},
     "output_type": "execute_result"
    }
   ],
   "source": [
    "# This is my target variable, my label.\n",
    "\n",
    "y_train.head(1)"
   ]
  },
  {
   "cell_type": "code",
   "execution_count": 136,
   "id": "150822c1-910b-4512-ab26-e567edaade0f",
   "metadata": {},
   "outputs": [],
   "source": [
    "# Create a simple Logistic Regression model to start.\n",
    "\n",
    "logit = LogisticRegression(random_state=123)"
   ]
  },
  {
   "cell_type": "code",
   "execution_count": 137,
   "id": "863edbeb-6703-40e9-989e-72863c58f734",
   "metadata": {},
   "outputs": [
    {
     "data": {
      "text/plain": [
       "LogisticRegression(random_state=123)"
      ]
     },
     "execution_count": 137,
     "metadata": {},
     "output_type": "execute_result"
    }
   ],
   "source": [
    "logit.fit(X_train, y_train)"
   ]
  },
  {
   "cell_type": "code",
   "execution_count": 138,
   "id": "1eeff3d1-a335-4c3d-a1e5-de3f23a4084a",
   "metadata": {},
   "outputs": [],
   "source": [
    "# Create a list of our model features.\n",
    "\n",
    "features = X_train.columns.tolist()"
   ]
  },
  {
   "cell_type": "code",
   "execution_count": 139,
   "id": "016f2eac-c82a-4e8e-8480-f2d5b7d78254",
   "metadata": {},
   "outputs": [],
   "source": [
    "# Create a list of the weights for each feature from our model.\n",
    "\n",
    "weights = logit.coef_.flatten()"
   ]
  },
  {
   "cell_type": "code",
   "execution_count": 140,
   "id": "bc6948e2-dd43-4968-b79f-551c911d4ac0",
   "metadata": {},
   "outputs": [
    {
     "data": {
      "text/html": [
       "<div>\n",
       "<style scoped>\n",
       "    .dataframe tbody tr th:only-of-type {\n",
       "        vertical-align: middle;\n",
       "    }\n",
       "\n",
       "    .dataframe tbody tr th {\n",
       "        vertical-align: top;\n",
       "    }\n",
       "\n",
       "    .dataframe thead th {\n",
       "        text-align: right;\n",
       "    }\n",
       "</style>\n",
       "<table border=\"1\" class=\"dataframe\">\n",
       "  <thead>\n",
       "    <tr style=\"text-align: right;\">\n",
       "      <th></th>\n",
       "      <th>feature</th>\n",
       "      <th>weight</th>\n",
       "    </tr>\n",
       "  </thead>\n",
       "  <tbody>\n",
       "    <tr>\n",
       "      <th>0</th>\n",
       "      <td>minor_key</td>\n",
       "      <td>0.199406</td>\n",
       "    </tr>\n",
       "    <tr>\n",
       "      <th>1</th>\n",
       "      <td>liked</td>\n",
       "      <td>0.652240</td>\n",
       "    </tr>\n",
       "    <tr>\n",
       "      <th>2</th>\n",
       "      <td>fast</td>\n",
       "      <td>0.770481</td>\n",
       "    </tr>\n",
       "  </tbody>\n",
       "</table>\n",
       "</div>"
      ],
      "text/plain": [
       "     feature    weight\n",
       "0  minor_key  0.199406\n",
       "1      liked  0.652240\n",
       "2       fast  0.770481"
      ]
     },
     "execution_count": 140,
     "metadata": {},
     "output_type": "execute_result"
    }
   ],
   "source": [
    "# Store our lists from above in a DataFrame.\n",
    "\n",
    "pd.DataFrame(weights, features).reset_index().rename(columns={'index': 'feature', 0: 'weight'})"
   ]
  },
  {
   "cell_type": "code",
   "execution_count": 141,
   "id": "8460da76-4ab3-440a-8de6-acb59e262656",
   "metadata": {},
   "outputs": [
    {
     "data": {
      "text/html": [
       "<div>\n",
       "<style scoped>\n",
       "    .dataframe tbody tr th:only-of-type {\n",
       "        vertical-align: middle;\n",
       "    }\n",
       "\n",
       "    .dataframe tbody tr th {\n",
       "        vertical-align: top;\n",
       "    }\n",
       "\n",
       "    .dataframe thead th {\n",
       "        text-align: right;\n",
       "    }\n",
       "</style>\n",
       "<table border=\"1\" class=\"dataframe\">\n",
       "  <thead>\n",
       "    <tr style=\"text-align: right;\">\n",
       "      <th></th>\n",
       "      <th>actual</th>\n",
       "      <th>baseline</th>\n",
       "      <th>LR1_predicted</th>\n",
       "      <th>LR1_proba</th>\n",
       "    </tr>\n",
       "  </thead>\n",
       "  <tbody>\n",
       "    <tr>\n",
       "      <th>3845</th>\n",
       "      <td>1</td>\n",
       "      <td>0</td>\n",
       "      <td>1</td>\n",
       "      <td>0.604420</td>\n",
       "    </tr>\n",
       "    <tr>\n",
       "      <th>1152</th>\n",
       "      <td>1</td>\n",
       "      <td>0</td>\n",
       "      <td>0</td>\n",
       "      <td>0.443166</td>\n",
       "    </tr>\n",
       "    <tr>\n",
       "      <th>3639</th>\n",
       "      <td>0</td>\n",
       "      <td>0</td>\n",
       "      <td>0</td>\n",
       "      <td>0.269177</td>\n",
       "    </tr>\n",
       "    <tr>\n",
       "      <th>6911</th>\n",
       "      <td>0</td>\n",
       "      <td>0</td>\n",
       "      <td>0</td>\n",
       "      <td>0.231794</td>\n",
       "    </tr>\n",
       "    <tr>\n",
       "      <th>6219</th>\n",
       "      <td>0</td>\n",
       "      <td>0</td>\n",
       "      <td>0</td>\n",
       "      <td>0.269177</td>\n",
       "    </tr>\n",
       "  </tbody>\n",
       "</table>\n",
       "</div>"
      ],
      "text/plain": [
       "      actual  baseline  LR1_predicted  LR1_proba\n",
       "3845       1         0              1   0.604420\n",
       "1152       1         0              0   0.443166\n",
       "3639       0         0              0   0.269177\n",
       "6911       0         0              0   0.231794\n",
       "6219       0         0              0   0.269177"
      ]
     },
     "execution_count": 141,
     "metadata": {},
     "output_type": "execute_result"
    }
   ],
   "source": [
    "# Create eval_df and rename the train survived column actual.\n",
    "train_eval_df = train[['energized']].rename(columns={'energized': 'actual'})\n",
    "\n",
    "# Add your baseline predictions.\n",
    "train_eval_df['baseline'] = 0\n",
    "\n",
    "# Predict whether a listener will be energized using the X_train data; add column to eval_df\n",
    "train_eval_df['LR1_predicted'] = logit.predict(X_train)\n",
    "\n",
    "# Estimate the probability of a listener being energized using the X_train data; add col to eval_df\n",
    "\n",
    "train_eval_df['LR1_proba'] = logit.predict_proba(X_train)[:, 1]\n",
    "\n",
    "train_eval_df.head()"
   ]
  },
  {
   "cell_type": "code",
   "execution_count": 142,
   "id": "9c3bf95a-7ed7-4aef-b56b-48dd8638b160",
   "metadata": {},
   "outputs": [
    {
     "data": {
      "text/plain": [
       "0.6543445931591247"
      ]
     },
     "execution_count": 142,
     "metadata": {},
     "output_type": "execute_result"
    }
   ],
   "source": [
    "# Get our accuracy score for our logistic regression model.\n",
    "\n",
    "logit.score(X_train, y_train)"
   ]
  },
  {
   "cell_type": "code",
   "execution_count": 143,
   "id": "0cabbebb-d96e-467c-a5c8-0c71ae8dde4b",
   "metadata": {},
   "outputs": [
    {
     "data": {
      "text/plain": [
       "array([0.92121212, 0.1980426 ])"
      ]
     },
     "execution_count": 143,
     "metadata": {},
     "output_type": "execute_result"
    }
   ],
   "source": [
    "recall_score(train_eval_df.actual, train_eval_df.LR1_predicted, average=None)"
   ]
  },
  {
   "cell_type": "code",
   "execution_count": 144,
   "id": "0aa953ea-7798-4b7e-94e5-c3e436955874",
   "metadata": {},
   "outputs": [
    {
     "data": {
      "text/plain": [
       "array([0.66263018, 0.59515571])"
      ]
     },
     "execution_count": 144,
     "metadata": {},
     "output_type": "execute_result"
    }
   ],
   "source": [
    "precision_score(train_eval_df.actual, train_eval_df.LR1_predicted, average=None)"
   ]
  },
  {
   "cell_type": "code",
   "execution_count": 145,
   "id": "05b4adbe-33c4-4e4a-825a-711c510c7c06",
   "metadata": {},
   "outputs": [
    {
     "data": {
      "text/html": [
       "<div>\n",
       "<style scoped>\n",
       "    .dataframe tbody tr th:only-of-type {\n",
       "        vertical-align: middle;\n",
       "    }\n",
       "\n",
       "    .dataframe tbody tr th {\n",
       "        vertical-align: top;\n",
       "    }\n",
       "\n",
       "    .dataframe thead th {\n",
       "        text-align: right;\n",
       "    }\n",
       "</style>\n",
       "<table border=\"1\" class=\"dataframe\">\n",
       "  <thead>\n",
       "    <tr style=\"text-align: right;\">\n",
       "      <th>Predicted</th>\n",
       "      <th>0</th>\n",
       "      <th>1</th>\n",
       "    </tr>\n",
       "    <tr>\n",
       "      <th>Actual</th>\n",
       "      <th></th>\n",
       "      <th></th>\n",
       "    </tr>\n",
       "  </thead>\n",
       "  <tbody>\n",
       "    <tr>\n",
       "      <th>0</th>\n",
       "      <td>2736</td>\n",
       "      <td>234</td>\n",
       "    </tr>\n",
       "    <tr>\n",
       "      <th>1</th>\n",
       "      <td>1393</td>\n",
       "      <td>344</td>\n",
       "    </tr>\n",
       "  </tbody>\n",
       "</table>\n",
       "</div>"
      ],
      "text/plain": [
       "Predicted     0    1\n",
       "Actual              \n",
       "0          2736  234\n",
       "1          1393  344"
      ]
     },
     "execution_count": 145,
     "metadata": {},
     "output_type": "execute_result"
    }
   ],
   "source": [
    "pd.crosstab(index=train_eval_df.actual, \n",
    "            columns=train_eval_df.LR1_predicted, \n",
    "            rownames=['Actual'], \n",
    "            colnames=['Predicted'])"
   ]
  },
  {
   "cell_type": "code",
   "execution_count": 146,
   "id": "1a01b633-213d-4682-9e43-39075752078b",
   "metadata": {},
   "outputs": [
    {
     "name": "stdout",
     "output_type": "stream",
     "text": [
      "              precision    recall  f1-score   support\n",
      "\n",
      "           0       0.66      0.92      0.77      2970\n",
      "           1       0.60      0.20      0.30      1737\n",
      "\n",
      "    accuracy                           0.65      4707\n",
      "   macro avg       0.63      0.56      0.53      4707\n",
      "weighted avg       0.64      0.65      0.60      4707\n",
      "\n"
     ]
    }
   ],
   "source": [
    "# My LR model is beating my baseline accuracy at predicting my target value, survived.\n",
    "\n",
    "print(classification_report(y_true=train_eval_df.actual, y_pred=train_eval_df.LR1_predicted))"
   ]
  },
  {
   "cell_type": "markdown",
   "id": "8ab09ac9-9a2d-4c2f-904e-b5444d9bd285",
   "metadata": {},
   "source": [
    "### Feeding the model the features with highest importance did not make the model perform better.\n",
    "### What if I do a different type of model?"
   ]
  },
  {
   "cell_type": "code",
   "execution_count": 148,
   "id": "35614af2-d638-4a79-919e-fdb821f70e5d",
   "metadata": {
    "jupyter": {
     "source_hidden": true
    },
    "tags": []
   },
   "outputs": [],
   "source": [
    "from sklearn.ensemble import RandomForestClassifier\n",
    "from sklearn.metrics import classification_report\n",
    "from sklearn.metrics import confusion_matrix"
   ]
  },
  {
   "cell_type": "code",
   "execution_count": 187,
   "id": "162f35d4-077c-492b-b1a7-70c69952ea8d",
   "metadata": {},
   "outputs": [],
   "source": [
    "X_train = train.drop(columns=['genre_x', 'key', 'tempo', 'energized'])\n",
    "y_train = train.energized\n",
    "\n",
    "X_validate = validate.drop(columns=['genre_x', 'key', 'tempo', 'energized'])\n",
    "y_validate = validate.energized\n",
    "\n",
    "X_test = test.drop(columns=['genre_x', 'key', 'tempo', 'energized'])\n",
    "y_test = test.energized"
   ]
  },
  {
   "cell_type": "code",
   "execution_count": 188,
   "id": "de4463fb-b90d-4616-9a04-cda25d23d216",
   "metadata": {},
   "outputs": [],
   "source": [
    "rf = RandomForestClassifier(bootstrap=True, \n",
    "                            class_weight=None, \n",
    "                            criterion='gini',\n",
    "                            min_samples_leaf=3,\n",
    "                            n_estimators=100,\n",
    "                            max_depth=6, \n",
    "                            random_state=123)\n"
   ]
  },
  {
   "cell_type": "code",
   "execution_count": 189,
   "id": "bcb95e04-3c2e-4fa1-86cb-d58458c2fdad",
   "metadata": {},
   "outputs": [
    {
     "data": {
      "text/plain": [
       "RandomForestClassifier(max_depth=6, min_samples_leaf=3, random_state=123)"
      ]
     },
     "execution_count": 189,
     "metadata": {},
     "output_type": "execute_result"
    }
   ],
   "source": [
    "rf.fit(X_train, y_train)"
   ]
  },
  {
   "cell_type": "code",
   "execution_count": 190,
   "id": "e2f686fe-83ad-4a92-af8a-fb417a8cadf5",
   "metadata": {},
   "outputs": [
    {
     "name": "stdout",
     "output_type": "stream",
     "text": [
      "[0.09907346 0.0237517  0.04966173 0.00717637 0.02218393 0.07296276\n",
      " 0.07104708 0.27710084 0.19278628 0.0176066  0.01756637 0.007344\n",
      " 0.06966647 0.06014896 0.01192344]\n",
      "Index(['track_id', 'mood', 'age', 'gender', 'minor_key', 'liked', 'disliked',\n",
      "       'feel_sublime', 'agitated', 'electronic', 'pop', 'rock', 'medium',\n",
      "       'fast', 'very_fast'],\n",
      "      dtype='object')\n"
     ]
    }
   ],
   "source": [
    "print(rf.feature_importances_)\n",
    "print(X_train.columns)"
   ]
  },
  {
   "cell_type": "code",
   "execution_count": 191,
   "id": "476ce6ee-43cc-46b8-8572-2931d4e092e6",
   "metadata": {},
   "outputs": [],
   "source": [
    "y_pred = rf.predict(X_train)"
   ]
  },
  {
   "cell_type": "code",
   "execution_count": 192,
   "id": "efdb2f7b-dfb8-4968-83df-753e170a3a3d",
   "metadata": {},
   "outputs": [],
   "source": [
    "y_pred_proba = rf.predict_proba(X_train)"
   ]
  },
  {
   "cell_type": "code",
   "execution_count": 193,
   "id": "1d9a8114-b43b-47a8-8d92-409ee5b946d6",
   "metadata": {},
   "outputs": [
    {
     "name": "stdout",
     "output_type": "stream",
     "text": [
      "Accuracy of random forest classifier on training set: 0.75\n"
     ]
    }
   ],
   "source": [
    "print('Accuracy of random forest classifier on training set: {:.2f}'\n",
    "     .format(rf.score(X_train, y_train)))"
   ]
  },
  {
   "cell_type": "code",
   "execution_count": 194,
   "id": "ee9677b9-f7c7-45b2-b330-0f7920b929d1",
   "metadata": {},
   "outputs": [
    {
     "name": "stdout",
     "output_type": "stream",
     "text": [
      "[[2850  120]\n",
      " [1035  702]]\n"
     ]
    }
   ],
   "source": [
    "print(confusion_matrix(y_train, y_pred))"
   ]
  },
  {
   "cell_type": "code",
   "execution_count": 195,
   "id": "7076d277-9ba6-4304-89ee-67e445ef995c",
   "metadata": {},
   "outputs": [
    {
     "name": "stdout",
     "output_type": "stream",
     "text": [
      "Accuracy of random forest classifier on test set: 0.75\n"
     ]
    }
   ],
   "source": [
    "print('Accuracy of random forest classifier on test set: {:.2f}'\n",
    "     .format(rf.score(X_validate, y_validate)))"
   ]
  },
  {
   "cell_type": "code",
   "execution_count": 178,
   "id": "e8c50fab-e784-484b-a718-5e95c89d3c5f",
   "metadata": {},
   "outputs": [],
   "source": [
    "from sklearn.neighbors import KNeighborsClassifier"
   ]
  },
  {
   "cell_type": "code",
   "execution_count": 179,
   "id": "3ed302dc-b04d-40c3-99ce-e548380561d4",
   "metadata": {},
   "outputs": [],
   "source": [
    "X_train = train.drop(columns=['genre_x', 'key', 'tempo', 'energized'])\n",
    "y_train = train.energized\n",
    "\n",
    "X_validate = validate.drop(columns=['genre_x', 'key', 'tempo', 'energized'])\n",
    "y_validate = validate.energized\n",
    "\n",
    "X_test = test.drop(columns=['genre_x', 'key', 'tempo', 'energized'])\n",
    "y_test = test.energized"
   ]
  },
  {
   "cell_type": "code",
   "execution_count": 180,
   "id": "41cfb6f7-4607-4640-ae0a-eb50fc05cf27",
   "metadata": {},
   "outputs": [],
   "source": [
    "# weights = ['uniform', 'density']\n",
    "knn = KNeighborsClassifier(n_neighbors=5, weights='uniform')"
   ]
  },
  {
   "cell_type": "code",
   "execution_count": 181,
   "id": "cdb406ce-e5b9-47bd-aeaf-05a6c2062558",
   "metadata": {},
   "outputs": [
    {
     "data": {
      "text/plain": [
       "KNeighborsClassifier()"
      ]
     },
     "execution_count": 181,
     "metadata": {},
     "output_type": "execute_result"
    }
   ],
   "source": [
    "knn.fit(X_train, y_train)"
   ]
  },
  {
   "cell_type": "code",
   "execution_count": 182,
   "id": "bc3d9fe8-ee7d-4754-888d-503de48ba678",
   "metadata": {},
   "outputs": [],
   "source": [
    "y_pred = knn.predict(X_train)"
   ]
  },
  {
   "cell_type": "code",
   "execution_count": 183,
   "id": "f0f20c0f-7d3f-41e1-bc57-73fb5cdaff81",
   "metadata": {},
   "outputs": [],
   "source": [
    "y_pred_proba = knn.predict_proba(X_train)"
   ]
  },
  {
   "cell_type": "code",
   "execution_count": 184,
   "id": "0bbc2a41-dcf1-4628-aa8a-ea26aae9fb20",
   "metadata": {},
   "outputs": [
    {
     "name": "stdout",
     "output_type": "stream",
     "text": [
      "Accuracy of KNN classifier on training set: 0.76\n"
     ]
    }
   ],
   "source": [
    "print('Accuracy of KNN classifier on training set: {:.2f}'\n",
    "     .format(knn.score(X_train, y_train)))"
   ]
  },
  {
   "cell_type": "code",
   "execution_count": 185,
   "id": "22f0c796-9358-40e4-8410-55d7f3e541be",
   "metadata": {},
   "outputs": [
    {
     "name": "stdout",
     "output_type": "stream",
     "text": [
      "              precision    recall  f1-score   support\n",
      "\n",
      "           0       0.78      0.85      0.82      2970\n",
      "           1       0.70      0.60      0.65      1737\n",
      "\n",
      "    accuracy                           0.76      4707\n",
      "   macro avg       0.74      0.72      0.73      4707\n",
      "weighted avg       0.75      0.76      0.75      4707\n",
      "\n"
     ]
    }
   ],
   "source": [
    "print(classification_report(y_train, y_pred))"
   ]
  },
  {
   "cell_type": "code",
   "execution_count": 218,
   "id": "5fd022d7-46fb-4c96-b14f-851dd013c8ab",
   "metadata": {},
   "outputs": [
    {
     "name": "stdout",
     "output_type": "stream",
     "text": [
      "Accuracy of KNN classifier on unseen validate set: 0.64\n"
     ]
    }
   ],
   "source": [
    "print('Accuracy of KNN classifier on unseen validate set: {:.2f}'\n",
    "     .format(knn.score(X_validate, y_validate)))"
   ]
  },
  {
   "cell_type": "markdown",
   "id": "df259dc9-d85d-447c-89d0-61d5e11849a0",
   "metadata": {},
   "source": [
    "### Overall, the best performing model was the Random Forest Classifier. It performed with similar accuracy through train, validate and test data.\n",
    "### This is not surpising considering the other best model was the logistic regression model using all features.\n",
    "### Even though, we found that there are features that do hold higher importance to others, it is clear there is still a blindspot in what combination of features actually will yield the greatest accuracy.\n",
    "### With more time, I'd like to explore more combinations of features."
   ]
  },
  {
   "cell_type": "code",
   "execution_count": null,
   "id": "383a0f6b-6c6d-4d9c-a84d-f552d2cfdec2",
   "metadata": {
    "jupyter": {
     "source_hidden": true
    },
    "tags": []
   },
   "outputs": [],
   "source": []
  }
 ],
 "metadata": {
  "kernelspec": {
   "display_name": "Python 3",
   "language": "python",
   "name": "python3"
  },
  "language_info": {
   "codemirror_mode": {
    "name": "ipython",
    "version": 3
   },
   "file_extension": ".py",
   "mimetype": "text/x-python",
   "name": "python",
   "nbconvert_exporter": "python",
   "pygments_lexer": "ipython3",
   "version": "3.8.8"
  }
 },
 "nbformat": 4,
 "nbformat_minor": 5
}
